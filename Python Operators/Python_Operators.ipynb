{
  "nbformat": 4,
  "nbformat_minor": 0,
  "metadata": {
    "colab": {
      "provenance": []
    },
    "kernelspec": {
      "name": "python3",
      "display_name": "Python 3"
    },
    "language_info": {
      "name": "python"
    }
  },
  "cells": [
    {
      "cell_type": "code",
      "execution_count": null,
      "metadata": {
        "colab": {
          "base_uri": "https://localhost:8080/"
        },
        "id": "drrp2raT80gr",
        "outputId": "a72f7310-ca15-426e-cab0-8fca7d44fc3e"
      },
      "outputs": [
        {
          "output_type": "stream",
          "name": "stdout",
          "text": [
            "1.Calculate the sum, difference, product, and quotient of two numbers.\n",
            "Enter the first num: 34\n",
            "Enter the second num: 23\n",
            "The sum of 34 and 23 is 57\n",
            "The difference of 34 and 23 is 11\n",
            "The product of 34 and 23 is 782\n",
            "The quotient of 34 and 23 is 1.4782608695652173\n"
          ]
        }
      ],
      "source": [
        "#1.Calculate the sum, difference, product, and quotient of two numbers.\n",
        "print(\"1.Calculate the sum, difference, product, and quotient of two numbers.\")\n",
        "num1 = int(input(\"Enter the first num: \"))\n",
        "num2 = int(input(\"Enter the second num: \"))\n",
        "sum = num1 +num2\n",
        "diff = num1-num2\n",
        "prod = num1 * num2\n",
        "quo = num1/num2\n",
        "print(f\"The sum of {num1} and {num2} is\",sum)\n",
        "print(f\"The difference of {num1} and {num2} is\",diff)\n",
        "print(f\"The product of {num1} and {num2} is\",prod)\n",
        "print(f\"The quotient of {num1} and {num2} is\",quo)"
      ]
    },
    {
      "cell_type": "code",
      "source": [
        "#2.Perform various assignment operations on a variable.\n",
        "print(\"2.Perform various assignment operations on a variable.\")\n",
        "a = 12\n",
        "b =13\n",
        "a+=b\n",
        "print(f\"Addition of nums is:\",a)"
      ],
      "metadata": {
        "colab": {
          "base_uri": "https://localhost:8080/"
        },
        "id": "FQQ4bjFi99g3",
        "outputId": "641df801-a84d-4548-c581-3659c9471362"
      },
      "execution_count": null,
      "outputs": [
        {
          "output_type": "stream",
          "name": "stdout",
          "text": [
            "2.Perform various assignment operations on a variable.\n",
            "Addition of nums is: 25\n"
          ]
        }
      ]
    },
    {
      "cell_type": "code",
      "source": [
        "a1 = 34\n",
        "b1 = 43\n",
        "a1-=b1\n",
        "print(f\"substraction of nums is:\",a1)"
      ],
      "metadata": {
        "colab": {
          "base_uri": "https://localhost:8080/"
        },
        "id": "KHIFsEvNAF8X",
        "outputId": "eb3f1e73-9176-4934-9646-d31ad559589a"
      },
      "execution_count": null,
      "outputs": [
        {
          "output_type": "stream",
          "name": "stdout",
          "text": [
            "substraction of nums is: -9\n"
          ]
        }
      ]
    },
    {
      "cell_type": "code",
      "source": [
        "a2 = 56\n",
        "b2 = 65\n",
        "a2*=b2\n",
        "print(f\"Multiplication of nums is:\",a2)"
      ],
      "metadata": {
        "colab": {
          "base_uri": "https://localhost:8080/"
        },
        "id": "J4l9xvwrENZJ",
        "outputId": "b2559194-d710-4d8e-d836-cae5c083e9f7"
      },
      "execution_count": null,
      "outputs": [
        {
          "output_type": "stream",
          "name": "stdout",
          "text": [
            "Multiplication of nums is: 3640\n"
          ]
        }
      ]
    },
    {
      "cell_type": "code",
      "source": [
        "a3=76\n",
        "b3 = 67\n",
        "a3/=b3\n",
        "print(f\"quotient of nums is:\",a3)"
      ],
      "metadata": {
        "colab": {
          "base_uri": "https://localhost:8080/"
        },
        "id": "4tw2jdH_ENtC",
        "outputId": "2189f057-8dcf-47f9-90ee-f2226bc2847e"
      },
      "execution_count": null,
      "outputs": [
        {
          "output_type": "stream",
          "name": "stdout",
          "text": [
            "quotient of nums is: 1.1343283582089552\n"
          ]
        }
      ]
    },
    {
      "cell_type": "code",
      "source": [
        "a4 = 37\n",
        "a4**=a4\n",
        "print(f\"exponent of num is:\",a4)"
      ],
      "metadata": {
        "colab": {
          "base_uri": "https://localhost:8080/"
        },
        "id": "EcCAs2bsDD4d",
        "outputId": "38bf4b7d-ee79-45dd-ec09-c0c74439fbe2"
      },
      "execution_count": null,
      "outputs": [
        {
          "output_type": "stream",
          "name": "stdout",
          "text": [
            "exponent of num is: 10555134955777783414078330085995832946127396083370199442517\n"
          ]
        }
      ]
    },
    {
      "cell_type": "code",
      "source": [
        "#3.Compare two numbers and print the results.\n",
        "print(\"3.Compare two numbers and print the results.\")\n",
        "numb1= int(input(\"Enter first no: \"))\n",
        "numb2 = int(input(\"Enter second no:\"))\n",
        "if(numb1 > numb2):\n",
        "  print(f\"{numb1} is grater than {numb2}.\")\n",
        "elif(numb1<numb2):\n",
        "  print(f\"{numb2} is grater than {numb1}.\")\n",
        "else:\n",
        "  print(f\"{numb1} and {numb2} both are equal.\")\n"
      ],
      "metadata": {
        "colab": {
          "base_uri": "https://localhost:8080/"
        },
        "id": "ToyScG4CFb5H",
        "outputId": "b48f6f35-1918-4dd4-9bee-20969a1f10f7"
      },
      "execution_count": null,
      "outputs": [
        {
          "output_type": "stream",
          "name": "stdout",
          "text": [
            "3.Compare two numbers and print the results.\n",
            "Enter first no: 34\n",
            "Enter second no:76\n",
            "76 is grater than 34.\n"
          ]
        }
      ]
    },
    {
      "cell_type": "code",
      "source": [
        "#4.Check conditions using logical operators.\n",
        "print(\"4.Check conditions using logical operators.\")\n",
        "print(\"using not\")\n",
        "a=10\n",
        "if not (a%3 == 0 or a%5 == 0):\n",
        "    print(\"10 is not divisible by either 3 or 5\")\n",
        "else:\n",
        "    print(\"10 is divisible by either 3 or 5\")\n",
        "\n",
        "\n",
        "print(\"Checking condition using or operator-->\")\n",
        "age = 25\n",
        "if age > 18 or age <= 65:\n",
        "    print(\"You eligible for a vote.\")\n",
        "else:\n",
        "  print(\"You are not eligible\")\n",
        "\n",
        "\n",
        "print(\"Checking condition using and operator-->\")\n",
        "\n",
        "b = 10\n",
        "c = 8\n",
        "d = 0\n",
        "if b>c and c>d:\n",
        "  print(\"b is greatest number\")\n",
        "elif b<c and c>d:\n",
        "  print(\"c is gratest number\")\n",
        "else:\n",
        "  print(\"d is gratest number\")\n",
        "\n"
      ],
      "metadata": {
        "colab": {
          "base_uri": "https://localhost:8080/"
        },
        "id": "X0RjwT7mGtlH",
        "outputId": "31109028-f21f-4fac-80f3-0a068333fa9f"
      },
      "execution_count": null,
      "outputs": [
        {
          "output_type": "stream",
          "name": "stdout",
          "text": [
            "4.Check conditions using logical operators.\n",
            "using not\n",
            "10 is divisible by either 3 or 5\n",
            "Checking condition using or operator-->\n",
            "You eligible for a vote.\n",
            "Checking condition using and operator-->\n",
            "b is greatest number\n"
          ]
        }
      ]
    },
    {
      "cell_type": "code",
      "source": [
        "#5.Check the identity of variables.\n",
        "print(\"5.Check the identity of variables.\")\n",
        "x=15\n",
        "y=x\n",
        "if x is y:\n",
        "  print(\"both are pointing to the same location.\")\n",
        "else:\n",
        "  print(\"both are not pointing to the same location\")"
      ],
      "metadata": {
        "id": "2ie-yz0IH_KX",
        "colab": {
          "base_uri": "https://localhost:8080/"
        },
        "outputId": "73d9976c-fc28-4cb9-8e2b-a5d4a7e99efb"
      },
      "execution_count": null,
      "outputs": [
        {
          "output_type": "stream",
          "name": "stdout",
          "text": [
            "5.Check the identity of variables.\n",
            "both are pointing to the same location.\n"
          ]
        }
      ]
    },
    {
      "cell_type": "code",
      "source": [
        "#6.Perform bitwise operations on any two integers.\n",
        "print(\"6.Perform bitwise operations on any two integers.\")\n",
        "a= 10\n",
        "b = 23\n",
        "print(bin(10))\n",
        "print(bin(23))\n",
        "print(\"a & b =\", a & b)\n",
        "print(\"a | b =\", a | b)\n",
        "print(\"~a =\", ~a)\n",
        "print(\"a ^ b =\", a ^ b)"
      ],
      "metadata": {
        "colab": {
          "base_uri": "https://localhost:8080/"
        },
        "id": "wsteJHqE4WYE",
        "outputId": "42979756-6eab-483e-b4f8-490e15e6cd4e"
      },
      "execution_count": null,
      "outputs": [
        {
          "output_type": "stream",
          "name": "stdout",
          "text": [
            "6.Perform bitwise operations on any two integers.\n",
            "0b1010\n",
            "0b10111\n",
            "a & b = 2\n",
            "a | b = 31\n",
            "~a = -11\n",
            "a ^ b = 29\n"
          ]
        }
      ]
    },
    {
      "cell_type": "code",
      "source": [
        "#7.Use unary operators to change the sign of a number.\n",
        "print(\"7.Use unary operators to change the sign of a number\")\n",
        "a = 10\n",
        "b -a\n",
        "print(a)\n",
        "print(b)\n"
      ],
      "metadata": {
        "colab": {
          "base_uri": "https://localhost:8080/"
        },
        "id": "j1n6SbEd8W1L",
        "outputId": "43fb5b49-c4ff-4ffe-ba53-ef0ef01e44b6"
      },
      "execution_count": null,
      "outputs": [
        {
          "output_type": "stream",
          "name": "stdout",
          "text": [
            "7.Use unary operators to change the sign of a number\n",
            "10\n",
            "23\n"
          ]
        }
      ]
    },
    {
      "cell_type": "code",
      "source": [
        "#8.Use the ternary operator to assign values based on conditions.\n",
        "print(\"8.Use the ternary operator to assign values based on conditions.\")\n",
        "a, b = 69, 35\n",
        "\n",
        "print (\"Both a and b are equal\" if a == b else \"a is greater than b\" if a > b else \"b is greater than a\")"
      ],
      "metadata": {
        "colab": {
          "base_uri": "https://localhost:8080/"
        },
        "id": "_-mZ6QQuBue0",
        "outputId": "a26e976f-6684-435a-dafb-17b31edf0e69"
      },
      "execution_count": null,
      "outputs": [
        {
          "output_type": "stream",
          "name": "stdout",
          "text": [
            "8.Use the ternary operator to assign values based on conditions.\n",
            "a is greater than b\n"
          ]
        }
      ]
    },
    {
      "cell_type": "code",
      "source": [],
      "metadata": {
        "id": "HKf6w1KZDYtp"
      },
      "execution_count": null,
      "outputs": []
    }
  ]
}