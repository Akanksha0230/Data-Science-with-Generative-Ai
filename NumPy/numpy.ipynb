{
  "nbformat": 4,
  "nbformat_minor": 0,
  "metadata": {
    "colab": {
      "provenance": []
    },
    "kernelspec": {
      "name": "python3",
      "display_name": "Python 3"
    },
    "language_info": {
      "name": "python"
    }
  },
  "cells": [
    {
      "cell_type": "code",
      "execution_count": 1,
      "metadata": {
        "colab": {
          "base_uri": "https://localhost:8080/"
        },
        "id": "XDAcvJWHt-x9",
        "outputId": "55b8de14-93f8-4820-c5f7-77726fb9df03"
      },
      "outputs": [
        {
          "output_type": "stream",
          "name": "stdout",
          "text": [
            "Array: [0 1 2 3 4 5]\n",
            "Data type: int64\n"
          ]
        }
      ],
      "source": [
        "#1. Create a NumPy array 'arr' of integers from 0 to 5 and print its data type.\n",
        "import numpy as np\n",
        "arr = np.array(range(6))\n",
        "print(\"Array:\", arr)\n",
        "print(\"Data type:\", arr.dtype)"
      ]
    },
    {
      "cell_type": "code",
      "source": [
        "#2. Given a NumPy array 'arr', check if its data type is float64.\n",
        "#arr = np.array([1.5, 2.6, 3.7])\n",
        "arr = np.array([1.5, 2.6, 3.7])\n",
        "is_float = arr.dtype == np.float64\n",
        "print(\"Is the data type float64?:\", is_float)"
      ],
      "metadata": {
        "colab": {
          "base_uri": "https://localhost:8080/"
        },
        "id": "nPNhFTsPu4l-",
        "outputId": "f672db10-2fdb-4f2e-9c74-027ec8c1a289"
      },
      "execution_count": null,
      "outputs": [
        {
          "output_type": "stream",
          "name": "stdout",
          "text": [
            "Is the data type float64?: True\n"
          ]
        }
      ]
    },
    {
      "cell_type": "code",
      "source": [
        "#3. Create a NumPy array 'arr' with a data type of complex128 containing three complex numbers.\n",
        "arr = np.array([1+2j, 3+4j, 5+6j], dtype=np.complex128)\n",
        "print(\"Array:\", arr)\n",
        "print(\"Data type:\", arr.dtype)"
      ],
      "metadata": {
        "colab": {
          "base_uri": "https://localhost:8080/"
        },
        "id": "fKZY5upAvH2G",
        "outputId": "c8df6012-de34-43b3-917a-658c3656492f"
      },
      "execution_count": null,
      "outputs": [
        {
          "output_type": "stream",
          "name": "stdout",
          "text": [
            "Array: [1.+2.j 3.+4.j 5.+6.j]\n",
            "Data type: complex128\n"
          ]
        }
      ]
    },
    {
      "cell_type": "code",
      "source": [
        "#4. Convert an existing NumPy array 'arr' of integers to float32 data type.\n",
        "arr = np.array([1, 2, 3, 4, 5])\n",
        "arr_float = arr.astype(np.float32)\n",
        "print(\"Original array:\", arr)\n",
        "print(\"Original data type:\", arr.dtype)\n",
        "print(\"Converted array:\", arr_float)\n",
        "print(\"Converted data type:\", arr_float.dtype)"
      ],
      "metadata": {
        "colab": {
          "base_uri": "https://localhost:8080/"
        },
        "id": "xejM1GBIvdH6",
        "outputId": "0593e370-df9a-451b-8250-9a92dfe08a72"
      },
      "execution_count": null,
      "outputs": [
        {
          "output_type": "stream",
          "name": "stdout",
          "text": [
            "Original array: [1 2 3 4 5]\n",
            "Original data type: int64\n",
            "Converted array: [1. 2. 3. 4. 5.]\n",
            "Converted data type: float32\n"
          ]
        }
      ]
    },
    {
      "cell_type": "code",
      "source": [
        "#5. Given a NumPy array 'arr' with float64 data type, convert it to float32 to reduce decimal precision.\n",
        "arr = np.array([1.123456789, 2.987654321, 3.141592653], dtype=np.float64)\n",
        "arr_float32 = arr.astype(np.float32)\n",
        "print(\"Original array:\", arr)\n",
        "print(\"Original data type:\", arr.dtype)\n",
        "print(\"Converted array:\", arr_float32)\n",
        "print(\"Converted data type:\", arr_float32.dtype)"
      ],
      "metadata": {
        "colab": {
          "base_uri": "https://localhost:8080/"
        },
        "id": "Z4iTUc73wCCb",
        "outputId": "8a7be65c-1b76-4bf8-a031-ba38dbf9069d"
      },
      "execution_count": null,
      "outputs": [
        {
          "output_type": "stream",
          "name": "stdout",
          "text": [
            "Original array: [1.12345679 2.98765432 3.14159265]\n",
            "Original data type: float64\n",
            "Converted array: [1.1234568 2.9876542 3.1415927]\n",
            "Converted data type: float32\n"
          ]
        }
      ]
    },
    {
      "cell_type": "code",
      "source": [
        "#6. Write a function array_attributes that takes a NumPy array as input and returns its shape, size, and data type.\n",
        "def array_attributes(arr):\n",
        "    shape = arr.shape\n",
        "    size = arr.size\n",
        "    dtype = arr.dtype\n",
        "    return shape, size, dtype\n",
        "\n",
        "array = np.array([[1, 2, 3], [4, 5, 6]])\n",
        "shape, size, dtype = array_attributes(array)\n",
        "\n",
        "print(\"Shape:\", shape)\n",
        "print(\"Size:\", size)\n",
        "print(\"Data type:\", dtype)"
      ],
      "metadata": {
        "colab": {
          "base_uri": "https://localhost:8080/"
        },
        "id": "-kYgPGWtwLy2",
        "outputId": "7ae4202d-5488-4db2-fa93-db2d59891269"
      },
      "execution_count": null,
      "outputs": [
        {
          "output_type": "stream",
          "name": "stdout",
          "text": [
            "Shape: (2, 3)\n",
            "Size: 6\n",
            "Data type: int64\n"
          ]
        }
      ]
    },
    {
      "cell_type": "code",
      "source": [
        "#7. Create a function array_dimension that takes a NumPy array as input and returns its dimensionality.\n",
        "def array_dimension(arr):\n",
        "    return arr.ndim\n",
        "\n",
        "array = np.array([[1, 2, 3], [4, 5, 6]])\n",
        "dimension = array_dimension(array)\n",
        "\n",
        "print(\"Dimensionality:\", dimension)"
      ],
      "metadata": {
        "colab": {
          "base_uri": "https://localhost:8080/"
        },
        "id": "f6OxuILawyUH",
        "outputId": "454bb810-8c09-42c9-ebac-1775f551a8d6"
      },
      "execution_count": null,
      "outputs": [
        {
          "output_type": "stream",
          "name": "stdout",
          "text": [
            "Dimensionality: 2\n"
          ]
        }
      ]
    },
    {
      "cell_type": "code",
      "source": [
        "#8. Design a function item_size_info that takes a NumPy array as input and returns the item size and the total size in bytes.\n",
        "def item_size_info(arr):\n",
        "    item_size = arr.itemsize\n",
        "    total_size = arr.nbytes\n",
        "    return item_size, total_size\n",
        "\n",
        "array = np.array([[1, 2, 3], [4, 5, 6]])\n",
        "item_size, total_size = item_size_info(array)\n",
        "\n",
        "print(\"Item size (in bytes):\", item_size)\n",
        "print(\"Total size (in bytes):\", total_size)"
      ],
      "metadata": {
        "colab": {
          "base_uri": "https://localhost:8080/"
        },
        "id": "KRtA4mjqxR_1",
        "outputId": "c3994886-b948-42b0-8996-dbbb8c3ba1ba"
      },
      "execution_count": null,
      "outputs": [
        {
          "output_type": "stream",
          "name": "stdout",
          "text": [
            "Item size (in bytes): 8\n",
            "Total size (in bytes): 48\n"
          ]
        }
      ]
    },
    {
      "cell_type": "code",
      "source": [
        "#9. Create a function array_strides that takes a NumPy array as input and returns the strides of the array.\n",
        "def array_strides(arr):\n",
        "    return arr.strides\n",
        "\n",
        "array = np.array([[1, 2, 3], [4, 5, 6]])\n",
        "strides = array_strides(array)\n",
        "\n",
        "print(\"Strides:\", strides)"
      ],
      "metadata": {
        "colab": {
          "base_uri": "https://localhost:8080/"
        },
        "id": "sUiZq7OBxmuV",
        "outputId": "2171a72e-fa32-41c8-875c-43aa47568c1e"
      },
      "execution_count": null,
      "outputs": [
        {
          "output_type": "stream",
          "name": "stdout",
          "text": [
            "Strides: (24, 8)\n"
          ]
        }
      ]
    },
    {
      "cell_type": "code",
      "source": [
        "#10. Design a function shape_stride_relationship that takes a NumPy array as input and returns the shape and strides of the array.\n",
        "def shape_stride_relationship(arr):\n",
        "    shape = arr.shape\n",
        "    strides = arr.strides\n",
        "    return shape, strides\n",
        "\n",
        "array = np.array([[1, 2, 3], [4, 5, 6]])\n",
        "shape, strides = shape_stride_relationship(array)\n",
        "\n",
        "print(\"Shape:\", shape)\n",
        "print(\"Strides:\", strides)"
      ],
      "metadata": {
        "colab": {
          "base_uri": "https://localhost:8080/"
        },
        "id": "13QsdcCWxzjN",
        "outputId": "0a60ac50-8ce4-48c6-8462-d85066fb4322"
      },
      "execution_count": null,
      "outputs": [
        {
          "output_type": "stream",
          "name": "stdout",
          "text": [
            "Shape: (2, 3)\n",
            "Strides: (24, 8)\n"
          ]
        }
      ]
    },
    {
      "cell_type": "code",
      "source": [
        "#11. Create a function `create_zeros_array` that takes an integer `n` as input and returns a NumPy array of zeros with `n` elements.\n",
        "def create_zeros_array(n):\n",
        "    return np.zeros(n)\n",
        "\n",
        "n = 5\n",
        "zeros_array = create_zeros_array(n)\n",
        "\n",
        "print(\"Zeros array:\", zeros_array)"
      ],
      "metadata": {
        "colab": {
          "base_uri": "https://localhost:8080/"
        },
        "id": "fpAMUwfryB-3",
        "outputId": "4d396787-3658-429b-a466-4ff171238905"
      },
      "execution_count": null,
      "outputs": [
        {
          "output_type": "stream",
          "name": "stdout",
          "text": [
            "Zeros array: [0. 0. 0. 0. 0.]\n"
          ]
        }
      ]
    },
    {
      "cell_type": "code",
      "source": [
        "#12. Write a function `create_ones_matrix` that takes integers `rows` and `cols` as inputs and generates a 2D NumPy array filled with ones of size `rows x cols`.\n",
        "def create_ones_matrix(rows, cols):\n",
        "    return np.ones((rows, cols))\n",
        "\n",
        "rows = 3\n",
        "cols = 4\n",
        "ones_matrix = create_ones_matrix(rows, cols)\n",
        "\n",
        "print(\"Ones matrix:\")\n",
        "print(ones_matrix)\n"
      ],
      "metadata": {
        "colab": {
          "base_uri": "https://localhost:8080/"
        },
        "id": "Y6lxcoWMybWd",
        "outputId": "630d0e16-5ce3-4198-97d0-0a14457c0c83"
      },
      "execution_count": null,
      "outputs": [
        {
          "output_type": "stream",
          "name": "stdout",
          "text": [
            "Ones matrix:\n",
            "[[1. 1. 1. 1.]\n",
            " [1. 1. 1. 1.]\n",
            " [1. 1. 1. 1.]]\n"
          ]
        }
      ]
    },
    {
      "cell_type": "code",
      "source": [
        "#13. Write a function `generate_range_array` that takes three integers start, stop, and step as arguments and creates a NumPy array with a range starting from `start`, ending at stop (exclusive), and with the specified `step`.\n",
        "def generate_range_array(start, stop, step):\n",
        "    return np.arange(start, stop, step)\n",
        "\n",
        "start = 0\n",
        "stop = 10\n",
        "step = 2\n",
        "range_array = generate_range_array(start, stop, step)\n",
        "print(\"Range array:\", range_array)"
      ],
      "metadata": {
        "colab": {
          "base_uri": "https://localhost:8080/"
        },
        "id": "Ge-dXFK-y1zh",
        "outputId": "b8cf56b0-893f-4f43-c870-8cc95fca1bd6"
      },
      "execution_count": null,
      "outputs": [
        {
          "output_type": "stream",
          "name": "stdout",
          "text": [
            "Range array: [0 2 4 6 8]\n"
          ]
        }
      ]
    },
    {
      "cell_type": "code",
      "source": [
        "#14. Design a function `generate_linear_space` that takes two floats `start`, `stop`, and an integer `num` as arguments and generates a NumPy array with num equally spaced values between `start` and `stop` (inclusive).\n",
        "def generate_linear_space(start, stop, num):\n",
        "    return np.linspace(start, stop, num)\n",
        "\n",
        "start = 0.0\n",
        "stop = 1.0\n",
        "num = 5\n",
        "linear_space = generate_linear_space(start, stop, num)\n",
        "print(\"Linear space array:\", linear_space)"
      ],
      "metadata": {
        "colab": {
          "base_uri": "https://localhost:8080/"
        },
        "id": "4exN2isyzQOl",
        "outputId": "712d03d8-11f2-4f3c-e56b-89f7117f605c"
      },
      "execution_count": null,
      "outputs": [
        {
          "output_type": "stream",
          "name": "stdout",
          "text": [
            "Linear space array: [0.   0.25 0.5  0.75 1.  ]\n"
          ]
        }
      ]
    },
    {
      "cell_type": "code",
      "source": [
        "#15. Create a function `create_identity_matrix` that takes an integer `n` as input and generates a square identity matrix of size `n x n` using `numpy.eye`.\n",
        "def create_identity_matrix(n):\n",
        "    return np.eye(n)\n",
        "\n",
        "n = 4\n",
        "identity_matrix = create_identity_matrix(n)\n",
        "print(\"Identity matrix:\")\n",
        "print(identity_matrix)"
      ],
      "metadata": {
        "colab": {
          "base_uri": "https://localhost:8080/"
        },
        "id": "-VYpnXoMzlgH",
        "outputId": "7cadfce7-db99-48ee-e8a9-29abef53c93b"
      },
      "execution_count": null,
      "outputs": [
        {
          "output_type": "stream",
          "name": "stdout",
          "text": [
            "Identity matrix:\n",
            "[[1. 0. 0. 0.]\n",
            " [0. 1. 0. 0.]\n",
            " [0. 0. 1. 0.]\n",
            " [0. 0. 0. 1.]]\n"
          ]
        }
      ]
    },
    {
      "cell_type": "code",
      "source": [
        "#16. Write a function that takes a Python list and converts it into a NumPy array.\n",
        "def python_list_to_numpy_array(lst):\n",
        "    return np.array(lst)\n",
        "\n",
        "list1 = [1, 2, 3, 4, 5]\n",
        "numpy_array = python_list_to_numpy_array(list1)\n",
        "print(\"NumPy array:\", numpy_array)"
      ],
      "metadata": {
        "colab": {
          "base_uri": "https://localhost:8080/"
        },
        "id": "RyomYUKjzveX",
        "outputId": "5827e152-dc1a-4516-a49b-64577bdbfaa8"
      },
      "execution_count": null,
      "outputs": [
        {
          "output_type": "stream",
          "name": "stdout",
          "text": [
            "NumPy array: [1 2 3 4 5]\n"
          ]
        }
      ]
    },
    {
      "cell_type": "code",
      "source": [
        "#17. Create a NumPy array and demonstrate the use of `numpy.view` to create a new array object with the same data.\n",
        "arr = np.array([1, 2, 3, 4, 5])\n",
        "print(\"Original array:\", arr)\n",
        "view_array = arr.view()\n",
        "view_array[0] = 10\n",
        "print(\"View of the array:\", view_array)"
      ],
      "metadata": {
        "colab": {
          "base_uri": "https://localhost:8080/"
        },
        "id": "X-0B3MBd0C-q",
        "outputId": "ecec58bf-437c-48fa-ce45-12a8c9406146"
      },
      "execution_count": null,
      "outputs": [
        {
          "output_type": "stream",
          "name": "stdout",
          "text": [
            "Original array: [1 2 3 4 5]\n",
            "View of the array: [10  2  3  4  5]\n"
          ]
        }
      ]
    },
    {
      "cell_type": "code",
      "source": [
        "#18. Write a function that takes two NumPy arrays and concatenates them along a specified axis.\n",
        "\n",
        "def concatenate_arrays(arr1, arr2, axis=0):\n",
        "    return np.concatenate((arr1, arr2), axis=axis)\n",
        "\n",
        "array1 = np.array([[1, 2], [3, 4]])\n",
        "array2 = np.array([[5, 6], [7, 8]])\n",
        "result_axis_0 = concatenate_arrays(array1, array2, axis=0)\n",
        "print(\"Concatenated along axis 0:\\n\", result_axis_0)\n",
        "\n",
        "result_axis_1 = concatenate_arrays(array1, array2, axis=1)\n",
        "print(\"Concatenated along axis 1:\\n\", result_axis_1)"
      ],
      "metadata": {
        "id": "5hIYXGmD0pJr",
        "colab": {
          "base_uri": "https://localhost:8080/"
        },
        "outputId": "2acf1977-4f1d-488c-eb79-a30046c1c2bf"
      },
      "execution_count": null,
      "outputs": [
        {
          "output_type": "stream",
          "name": "stdout",
          "text": [
            "Concatenated along axis 0:\n",
            " [[1 2]\n",
            " [3 4]\n",
            " [5 6]\n",
            " [7 8]]\n",
            "Concatenated along axis 1:\n",
            " [[1 2 5 6]\n",
            " [3 4 7 8]]\n"
          ]
        }
      ]
    },
    {
      "cell_type": "code",
      "source": [
        "#19. Create two NumPy arrays with different shapes and concatenate them horizontally using `numpy.concatenate`.\n",
        "arr1 = np.array([1, 2, 3])\n",
        "arr2 = np.array([4, 5, 6])\n",
        "concatenated_array = np.concatenate((arr1, arr2))\n",
        "print(\"Concatenated array:\", concatenated_array)"
      ],
      "metadata": {
        "colab": {
          "base_uri": "https://localhost:8080/"
        },
        "id": "tx9CY0ZxQ5xQ",
        "outputId": "33cbcca1-ad15-4af2-b76a-783f96474e98"
      },
      "execution_count": null,
      "outputs": [
        {
          "output_type": "stream",
          "name": "stdout",
          "text": [
            "Concatenated array: [1 2 3 4 5 6]\n"
          ]
        }
      ]
    },
    {
      "cell_type": "code",
      "source": [
        "#20. Write a function that vertically stacks multiple NumPy arrays given as a list.\n",
        "def vertical_stack(arrays):\n",
        "    return np.vstack(arrays)\n",
        "\n",
        "array1 = np.array([1, 2, 3])\n",
        "array2 = np.array([4, 5, 6])\n",
        "array3 = np.array([7, 8, 9])\n",
        "stacked_array = vertical_stack([array1, array2, array3])\n",
        "print(\"Stacked array:\\n\", stacked_array)"
      ],
      "metadata": {
        "colab": {
          "base_uri": "https://localhost:8080/"
        },
        "id": "45Uqk7JIR4oI",
        "outputId": "8a06bab3-6d2e-448a-9851-b4db7f32fbe4"
      },
      "execution_count": null,
      "outputs": [
        {
          "output_type": "stream",
          "name": "stdout",
          "text": [
            "Stacked array:\n",
            " [[1 2 3]\n",
            " [4 5 6]\n",
            " [7 8 9]]\n"
          ]
        }
      ]
    },
    {
      "cell_type": "code",
      "source": [
        "#21. Write a Python function using NumPy to create an array of integers within a specified range (inclusive) with a given step size.\n",
        "def create_range_array(start, end, step=1):\n",
        "    if start > end:\n",
        "        raise ValueError(\"Start value cannot be greater than end value.\")\n",
        "    return np.arange(start, end + 1, step)\n",
        "range_array = create_range_array(1, 10, 2)\n",
        "print(\"Array of integers within the range:\", range_array)\n"
      ],
      "metadata": {
        "colab": {
          "base_uri": "https://localhost:8080/"
        },
        "id": "qL93f5GyRZT-",
        "outputId": "1525f76e-7ce5-417c-817c-f62dded53243"
      },
      "execution_count": null,
      "outputs": [
        {
          "output_type": "stream",
          "name": "stdout",
          "text": [
            "Array of integers within the range: [1 3 5 7 9]\n"
          ]
        }
      ]
    },
    {
      "cell_type": "code",
      "source": [
        "#22. Write a Python function using NumPy to generate an array of 10 equally spaced values between 0 and 1 (inclusive).\n",
        "def generate_linear_space(start, stop, num=10):\n",
        "    return np.linspace(start, stop, num)\n",
        "\n",
        "linear_space_array = generate_linear_space(0, 1)\n",
        "print(\"Array of 10 equally spaced values:\", linear_space_array)"
      ],
      "metadata": {
        "colab": {
          "base_uri": "https://localhost:8080/"
        },
        "id": "liSrZrWaS6HQ",
        "outputId": "f0c079d4-ef0d-47ef-dc03-a00e5d32aa76"
      },
      "execution_count": null,
      "outputs": [
        {
          "output_type": "stream",
          "name": "stdout",
          "text": [
            "Array of 10 equally spaced values: [0.         0.11111111 0.22222222 0.33333333 0.44444444 0.55555556\n",
            " 0.66666667 0.77777778 0.88888889 1.        ]\n"
          ]
        }
      ]
    },
    {
      "cell_type": "code",
      "source": [
        "#23. Write a Python function using NumPy to create an array of 5 logarithmically spaced values between 1 and 1000 (inclusive).\n",
        "def generate_log_space(start, stop, num=5):\n",
        "    return np.logspace(start, stop, num)\n",
        "\n",
        "log_space_array = generate_log_space(1, 1000, 5)\n",
        "print(\"Array of 5 logarithmically spaced values:\", log_space_array)"
      ],
      "metadata": {
        "colab": {
          "base_uri": "https://localhost:8080/"
        },
        "id": "_d-OJpnnTLgH",
        "outputId": "a9c0102d-239b-4a2a-94fb-82f0c119c792"
      },
      "execution_count": null,
      "outputs": [
        {
          "output_type": "stream",
          "name": "stdout",
          "text": [
            "Array of 5 logarithmically spaced values: [1.00000000e+001 5.62341325e+250             inf             inf\n",
            "             inf]\n"
          ]
        },
        {
          "output_type": "stream",
          "name": "stderr",
          "text": [
            "/usr/local/lib/python3.11/dist-packages/numpy/core/function_base.py:298: RuntimeWarning: overflow encountered in power\n",
            "  return _nx.power(base, y)\n"
          ]
        }
      ]
    },
    {
      "cell_type": "code",
      "source": [
        "#24. Create a Pandas DataFrame using a NumPy array that contains 5 rows and 3 columns, where the values are random integers between 1 and 100.\n",
        "import pandas as pd\n",
        "import numpy as np\n",
        "\n",
        "np.random.seed(42)\n",
        "data = np.random.randint(1, 101, size=(5, 3))\n",
        "df = pd.DataFrame(data, columns=['Column1', 'Column2', 'Column3'])\n",
        "print(df)"
      ],
      "metadata": {
        "colab": {
          "base_uri": "https://localhost:8080/"
        },
        "id": "rG27ocaoTiN0",
        "outputId": "5355ba05-54db-4c04-c782-dc3c5d737823"
      },
      "execution_count": null,
      "outputs": [
        {
          "output_type": "stream",
          "name": "stdout",
          "text": [
            "   Column1  Column2  Column3\n",
            "0       52       93       15\n",
            "1       72       61       21\n",
            "2       83       87       75\n",
            "3       75       88      100\n",
            "4       24        3       22\n"
          ]
        }
      ]
    },
    {
      "cell_type": "code",
      "source": [
        "#25. Write a function that takes a Pandas DataFrame and replaces all negative values in a specific column with zeros. Use NumPy operations within the Pandas DataFrame.\n",
        "def replace_negative_values(df, column_name):\n",
        "    df[column_name] = df[column_name].apply(lambda x: 0 if x < 0 else x)\n",
        "    return df\n",
        "\n",
        "data = {'Column1': [1, -2, 3, -4, 5],\n",
        "        'Column2': [6, -7, 8, -9, 10]}\n",
        "df = pd.DataFrame(data)\n",
        "print(\"Original DataFrame:\")\n",
        "print(df)\n",
        "\n",
        "column_name = 'Column1'\n",
        "df_replaced = replace_negative_values(df, column_name)\n",
        "print(f\"\\nDataFrame after replacing negative values in '{column_name}':\")\n",
        "print(df_replaced)"
      ],
      "metadata": {
        "colab": {
          "base_uri": "https://localhost:8080/"
        },
        "id": "K_VCzV_2T3rQ",
        "outputId": "6b1ab1f0-ecb2-4497-fc4f-9742339388d9"
      },
      "execution_count": null,
      "outputs": [
        {
          "output_type": "stream",
          "name": "stdout",
          "text": [
            "Original DataFrame:\n",
            "   Column1  Column2\n",
            "0        1        6\n",
            "1       -2       -7\n",
            "2        3        8\n",
            "3       -4       -9\n",
            "4        5       10\n",
            "\n",
            "DataFrame after replacing negative values in 'Column1':\n",
            "   Column1  Column2\n",
            "0        1        6\n",
            "1        0       -7\n",
            "2        3        8\n",
            "3        0       -9\n",
            "4        5       10\n"
          ]
        }
      ]
    },
    {
      "cell_type": "code",
      "source": [
        "#26. Access the 3rd element from the given NumPy array.\n",
        "#arr = np.array([10, 20, 30, 40, 50])\n",
        "arr = np.array([10, 20, 30, 40, 50])\n",
        "third_element = arr[2]\n",
        "print(\"Third element:\", third_element)"
      ],
      "metadata": {
        "colab": {
          "base_uri": "https://localhost:8080/"
        },
        "id": "zj-hLJVHVVLu",
        "outputId": "c7fc7431-df4e-4472-c995-5d5c551e1ece"
      },
      "execution_count": null,
      "outputs": [
        {
          "output_type": "stream",
          "name": "stdout",
          "text": [
            "Third element: 30\n"
          ]
        }
      ]
    },
    {
      "cell_type": "code",
      "source": [
        "#27. Retrieve the element at index (1, 2) from the 2D NumPy array.\n",
        "arr_2d = np.array([[1, 2, 3],\n",
        "                   [4, 5, 6],\n",
        "                   [7, 8, 9]])\n",
        "element = arr_2d[1, 2]\n",
        "print(\"Element at (1, 2):\", element)"
      ],
      "metadata": {
        "colab": {
          "base_uri": "https://localhost:8080/"
        },
        "id": "19dH4Ec6VqIY",
        "outputId": "b221b4e3-57e1-40fb-ae54-2a4a6fa15957"
      },
      "execution_count": null,
      "outputs": [
        {
          "output_type": "stream",
          "name": "stdout",
          "text": [
            "Element at (1, 2): 6\n"
          ]
        }
      ]
    },
    {
      "cell_type": "code",
      "source": [
        "#28. Using boolean indexing, extract elements greater than 5 from the given NumPy array.\n",
        "#arr = np.array([3, 8, 2, 10, 5, 7])\n",
        "arr = np.array([3, 8, 2, 10, 5, 7])\n",
        "greater_than_5 = arr[arr > 5]\n",
        "print(\"Elements greater than 5:\", greater_than_5)"
      ],
      "metadata": {
        "colab": {
          "base_uri": "https://localhost:8080/"
        },
        "id": "IaiDJ_iPWDex",
        "outputId": "01a0f3ed-c3b3-4efd-c375-d3ce3e7a6347"
      },
      "execution_count": null,
      "outputs": [
        {
          "output_type": "stream",
          "name": "stdout",
          "text": [
            "Elements greater than 5: [ 8 10  7]\n"
          ]
        }
      ]
    },
    {
      "cell_type": "code",
      "source": [
        "#29. Perform basic slicing to extract elements from index 2 to 5 (inclusive) from the given NumPy array.\n",
        "#arr = np.array([1, 2, 3, 4, 5, 6, 7, 8, 9])\n",
        "arr = np.array([1, 2, 3, 4, 5, 6, 7, 8, 9])\n",
        "sliced_array = arr[2:6]\n",
        "print(\"Sliced array:\", sliced_array)"
      ],
      "metadata": {
        "colab": {
          "base_uri": "https://localhost:8080/"
        },
        "id": "957j-6eBWMRG",
        "outputId": "fbd34c7d-c903-4b26-80d3-f084186c9179"
      },
      "execution_count": null,
      "outputs": [
        {
          "output_type": "stream",
          "name": "stdout",
          "text": [
            "Sliced array: [3 4 5 6]\n"
          ]
        }
      ]
    },
    {
      "cell_type": "code",
      "source": [
        "#30. Slice the 2D NumPy array to extract the sub-array `[[2, 3], [5, 6]]` from the given array.\n",
        "arr_2d = np.array([[1, 2, 3],\n",
        "                   [4, 5, 6],\n",
        "                   [7, 8, 9]])\n",
        "sub_array = arr_2d[:2, 1:]\n",
        "print(\"Sub-array:\\n\", sub_array)"
      ],
      "metadata": {
        "colab": {
          "base_uri": "https://localhost:8080/"
        },
        "id": "Hl_UfpuhW_My",
        "outputId": "b2c5e74b-084d-47b0-da42-5b068fd3764c"
      },
      "execution_count": null,
      "outputs": [
        {
          "output_type": "stream",
          "name": "stdout",
          "text": [
            "Sub-array:\n",
            " [[2 3]\n",
            " [5 6]]\n"
          ]
        }
      ]
    },
    {
      "cell_type": "code",
      "source": [
        "#31.Write a NumPy function to extract elements in specific order from a given 2D array based on indices provided in another array.\n",
        "arr_2d = np.array([[1, 2, 3],\n",
        "                   [4, 5, 6],\n",
        "                   [7, 8, 9]])\n",
        "indices = np.array([[0, 1],\n",
        "                   [1, 2]])\n",
        "extracted_elements = arr_2d[indices[:, 0], indices[:, 1]]\n",
        "print(\"Extracted elements:\\n\", extracted_elements)"
      ],
      "metadata": {
        "colab": {
          "base_uri": "https://localhost:8080/"
        },
        "id": "8EEXSOCMXSd-",
        "outputId": "4f3a97eb-2a96-496f-d64b-864d7a72e570"
      },
      "execution_count": null,
      "outputs": [
        {
          "output_type": "stream",
          "name": "stdout",
          "text": [
            "Extracted elements:\n",
            " [2 6]\n"
          ]
        }
      ]
    },
    {
      "cell_type": "code",
      "source": [
        "#32. Create a NumPy function that filters elements greater than a threshold from a given 1D array using boolean indexing.\n",
        "arr = np.array([3, 8, 2, 10, 5, 7])\n",
        "threshold = 5\n",
        "filtered_array = arr[arr > threshold]\n",
        "print(\"Filtered array:\", filtered_array)"
      ],
      "metadata": {
        "colab": {
          "base_uri": "https://localhost:8080/"
        },
        "id": "8ENfyWE5X0tU",
        "outputId": "f122d053-6184-45ef-a793-01fce6383760"
      },
      "execution_count": null,
      "outputs": [
        {
          "output_type": "stream",
          "name": "stdout",
          "text": [
            "Filtered array: [ 8 10  7]\n"
          ]
        }
      ]
    },
    {
      "cell_type": "code",
      "source": [
        "#33. Develop a NumPy function that extracts specific elements from a 3D array using indices provided in three separate arrays for each dimension.\n",
        "def extract_elements_3d(array, x_indices, y_indices, z_indices):\n",
        "    if array.ndim != 3:\n",
        "        raise ValueError(\"Input array must be a 3D array.\")\n",
        "    if len(x_indices) != len(y_indices) or len(y_indices) != len(z_indices):\n",
        "        raise ValueError(\"All index arrays must have the same length.\")\n",
        "\n",
        "    return array[x_indices, y_indices, z_indices]\n",
        "\n",
        "array = np.arange(27).reshape(3, 3, 3)\n",
        "x_indices = [0, 1, 2]\n",
        "y_indices = [1, 2, 0]\n",
        "z_indices = [2, 0, 1]\n",
        "\n",
        "extracted_elements = extract_elements_3d(array, x_indices, y_indices, z_indices)\n",
        "print(\"3D array:\\n\", array)\n",
        "print(\"Extracted elements:\", extracted_elements)\n"
      ],
      "metadata": {
        "colab": {
          "base_uri": "https://localhost:8080/"
        },
        "id": "Bhbt0yReYHJt",
        "outputId": "92c16c87-f056-42b2-c8f6-ffb432596814"
      },
      "execution_count": null,
      "outputs": [
        {
          "output_type": "stream",
          "name": "stdout",
          "text": [
            "3D array:\n",
            " [[[ 0  1  2]\n",
            "  [ 3  4  5]\n",
            "  [ 6  7  8]]\n",
            "\n",
            " [[ 9 10 11]\n",
            "  [12 13 14]\n",
            "  [15 16 17]]\n",
            "\n",
            " [[18 19 20]\n",
            "  [21 22 23]\n",
            "  [24 25 26]]]\n",
            "Extracted elements: [ 5 15 19]\n"
          ]
        }
      ]
    },
    {
      "cell_type": "code",
      "source": [
        "#34. Write a NumPy function that returns elements from an array where both two conditions are satisfied using boolean indexing.\n",
        "import numpy as np\n",
        "def filter_elements_with_conditions(array, condition1, condition2):\n",
        "    if array.ndim != 1:\n",
        "        raise ValueError(\"Input array must be a 1D array.\")\n",
        "    if condition1.shape != condition2.shape:\n",
        "        raise ValueError(\"Condition arrays must have the same shape.\")\n",
        "    return array[np.logical_and(condition1, condition2)]\n",
        "array = np.array([1, 2, 3, 4, 5, 6, 7, 8, 9])\n",
        "condition1 = array > 3\n",
        "condition2 = array % 2 == 0\n",
        "\n",
        "result = filter_elements_with_conditions(array, condition1, condition2)\n",
        "print(\"Original array:\", array)\n",
        "print(\"Filtered elements:\", result)\n"
      ],
      "metadata": {
        "colab": {
          "base_uri": "https://localhost:8080/"
        },
        "id": "UghhEiG5Yw9x",
        "outputId": "4674fe3f-5e4f-4a91-fdcf-5d9c1486dbf5"
      },
      "execution_count": null,
      "outputs": [
        {
          "output_type": "stream",
          "name": "stdout",
          "text": [
            "Original array: [1 2 3 4 5 6 7 8 9]\n",
            "Filtered elements: [4 6 8]\n"
          ]
        }
      ]
    },
    {
      "cell_type": "code",
      "source": [
        "#35. Create a NumPy function that extracts elements from a 2D array using row and column indices provided in separate arrays.\n",
        "import numpy as np\n",
        "\n",
        "def extract_elements_2d(array, row_indices, col_indices):\n",
        "    if len(row_indices) != len(col_indices):\n",
        "        raise ValueError(\"Row and column indices must have the same length.\")\n",
        "\n",
        "    return array[row_indices, col_indices]\n",
        "\n",
        "array = np.array([[10, 20, 30], [40, 50, 60], [70, 80, 90]])\n",
        "row_indices = [0, 1, 2]\n",
        "col_indices = [2, 1, 0]\n",
        "\n",
        "extracted_elements = extract_elements_2d(array, row_indices, col_indices)\n",
        "print(\"2D array:\\n\", array)\n",
        "print(\"Extracted elements:\", extracted_elements)\n"
      ],
      "metadata": {
        "colab": {
          "base_uri": "https://localhost:8080/"
        },
        "id": "SPUWVPAzZTEE",
        "outputId": "73294697-da42-4733-9efa-ce12f449b9df"
      },
      "execution_count": null,
      "outputs": [
        {
          "output_type": "stream",
          "name": "stdout",
          "text": [
            "2D array:\n",
            " [[10 20 30]\n",
            " [40 50 60]\n",
            " [70 80 90]]\n",
            "Extracted elements: [30 50 70]\n"
          ]
        }
      ]
    },
    {
      "cell_type": "code",
      "source": [
        "#36. Given an array arr of shape (3, 3), add a scalar value of 5 to each element using NumPy broadcasting.\n",
        "arr = np.array([[1, 2, 3], [4, 5, 6], [7, 8, 9]])\n",
        "result = arr + 5\n",
        "\n",
        "print(\"Original array:\\n\", arr)\n",
        "print(\"Array after adding 5:\\n\", result)\n"
      ],
      "metadata": {
        "colab": {
          "base_uri": "https://localhost:8080/"
        },
        "id": "ZohxUX_-Ztph",
        "outputId": "668619f3-7c77-4bd8-ecab-53eba4cba9cc"
      },
      "execution_count": null,
      "outputs": [
        {
          "output_type": "stream",
          "name": "stdout",
          "text": [
            "Original array:\n",
            " [[1 2 3]\n",
            " [4 5 6]\n",
            " [7 8 9]]\n",
            "Array after adding 5:\n",
            " [[ 6  7  8]\n",
            " [ 9 10 11]\n",
            " [12 13 14]]\n"
          ]
        }
      ]
    },
    {
      "cell_type": "code",
      "source": [
        "#37. Consider two arrays arr1 of shape (1, 3) and arr2 of shape (3, 4). Multiply each row of arr2 by the corresponding element in arr1 using NumPy broadcasting.\n",
        "arr1 = np.array([[1, 2, 3]])\n",
        "arr2 = np.array([[4, 5, 6, 7],\n",
        "                 [8, 9, 10, 11],\n",
        "                 [12, 13, 14, 15]])\n",
        "\n",
        "result = arr1.T * arr2\n",
        "\n",
        "print(\"arr1:\\n\", arr1)\n",
        "print(\"arr2:\\n\", arr2)\n",
        "print(\"Result after broadcasting:\\n\", result)\n"
      ],
      "metadata": {
        "colab": {
          "base_uri": "https://localhost:8080/"
        },
        "id": "eeErvCubZ_H6",
        "outputId": "ec738139-19ce-43d0-d7a9-28cd21cb2899"
      },
      "execution_count": null,
      "outputs": [
        {
          "output_type": "stream",
          "name": "stdout",
          "text": [
            "arr1:\n",
            " [[1 2 3]]\n",
            "arr2:\n",
            " [[ 4  5  6  7]\n",
            " [ 8  9 10 11]\n",
            " [12 13 14 15]]\n",
            "Result after broadcasting:\n",
            " [[ 4  5  6  7]\n",
            " [16 18 20 22]\n",
            " [36 39 42 45]]\n"
          ]
        }
      ]
    },
    {
      "cell_type": "code",
      "source": [
        "#38. Given a 1D array arr1 of shape (1, 4) and a 2D array arr2 of shape (4, 3), add arr1 to each row of arr2 using NumPy broadcasting.\n",
        "arr1 = np.array([[1, 2, 3, 4]])\n",
        "arr2 = np.array([[5, 6, 7],\n",
        "                 [8, 9, 10],\n",
        "                 [11, 12, 13],\n",
        "                 [14, 15, 16]])\n",
        "result = arr2 + arr1.T\n",
        "\n",
        "print(\"arr1:\\n\", arr1)\n",
        "print(\"arr2:\\n\", arr2)\n",
        "print(\"Result after broadcasting:\\n\", result)\n"
      ],
      "metadata": {
        "colab": {
          "base_uri": "https://localhost:8080/"
        },
        "id": "nIikn1wmacya",
        "outputId": "38b2ea7b-80bc-4dd9-9e8f-a821e7e7517e"
      },
      "execution_count": null,
      "outputs": [
        {
          "output_type": "stream",
          "name": "stdout",
          "text": [
            "arr1:\n",
            " [[1 2 3 4]]\n",
            "arr2:\n",
            " [[ 5  6  7]\n",
            " [ 8  9 10]\n",
            " [11 12 13]\n",
            " [14 15 16]]\n",
            "Result after broadcasting:\n",
            " [[ 6  7  8]\n",
            " [10 11 12]\n",
            " [14 15 16]\n",
            " [18 19 20]]\n"
          ]
        }
      ]
    },
    {
      "cell_type": "code",
      "source": [
        "#39. Consider two arrays arr1 of shape (3, 1) and arr2 of shape (1, 3). Add these arrays using NumPy broadcasting.\n",
        "arr1 = np.array([[1], [2], [3]])\n",
        "arr2 = np.array([[4, 5, 6]])\n",
        "result = arr1 + arr2\n",
        "\n",
        "print(\"arr1:\\n\", arr1)\n",
        "print(\"arr2:\\n\", arr2)\n",
        "print(\"Result after broadcasting:\\n\", result)"
      ],
      "metadata": {
        "colab": {
          "base_uri": "https://localhost:8080/"
        },
        "id": "XtloC4ZYa0Dm",
        "outputId": "da619347-9fcb-429b-db3f-50a17f2f02d6"
      },
      "execution_count": null,
      "outputs": [
        {
          "output_type": "stream",
          "name": "stdout",
          "text": [
            "arr1:\n",
            " [[1]\n",
            " [2]\n",
            " [3]]\n",
            "arr2:\n",
            " [[4 5 6]]\n",
            "Result after broadcasting:\n",
            " [[5 6 7]\n",
            " [6 7 8]\n",
            " [7 8 9]]\n"
          ]
        }
      ]
    },
    {
      "cell_type": "code",
      "source": [
        "#40. Given arrays arr1 of shape (2, 3) and arr2 of shape (2, 2), perform multiplication using NumPy broadcasting. Handle the shape incompatibility.\n",
        "arr1 = np.array([[1, 2, 3],\n",
        "                 [4, 5, 6]])\n",
        "\n",
        "arr2 = np.array([[7, 8],\n",
        "                 [9, 10]])\n",
        "arr2_reshaped = arr2[:, :, np.newaxis]\n",
        "result = arr1 * arr2_reshaped\n",
        "\n",
        "print(\"arr1:\\n\", arr1)\n",
        "print(\"arr2:\\n\", arr2)\n",
        "print(\"arr2 reshaped:\\n\", arr2_reshaped)\n",
        "print(\"Result of multiplication:\\n\", result)"
      ],
      "metadata": {
        "colab": {
          "base_uri": "https://localhost:8080/"
        },
        "id": "5N0ImUdra-71",
        "outputId": "605fe266-8100-4d70-fbce-768c886375ba"
      },
      "execution_count": null,
      "outputs": [
        {
          "output_type": "stream",
          "name": "stdout",
          "text": [
            "arr1:\n",
            " [[1 2 3]\n",
            " [4 5 6]]\n",
            "arr2:\n",
            " [[ 7  8]\n",
            " [ 9 10]]\n",
            "arr2 reshaped:\n",
            " [[[ 7]\n",
            "  [ 8]]\n",
            "\n",
            " [[ 9]\n",
            "  [10]]]\n",
            "Result of multiplication:\n",
            " [[[ 7 14 21]\n",
            "  [32 40 48]]\n",
            "\n",
            " [[ 9 18 27]\n",
            "  [40 50 60]]]\n"
          ]
        }
      ]
    },
    {
      "cell_type": "code",
      "source": [
        "#41. Calculate column wise mean for the given array:\n",
        "arr = np.array([[1, 2, 3], [4, 5, 6]])\n",
        "column_means = np.mean(arr, axis=0)\n",
        "\n",
        "print(\"Original array:\\n\", arr)\n",
        "print(\"Column-wise means:\", column_means)"
      ],
      "metadata": {
        "colab": {
          "base_uri": "https://localhost:8080/"
        },
        "id": "j4LQFGWYbVCJ",
        "outputId": "5e565afa-3818-47bd-d529-7dde966b87b2"
      },
      "execution_count": null,
      "outputs": [
        {
          "output_type": "stream",
          "name": "stdout",
          "text": [
            "Original array:\n",
            " [[1 2 3]\n",
            " [4 5 6]]\n",
            "Column-wise means: [2.5 3.5 4.5]\n"
          ]
        }
      ]
    },
    {
      "cell_type": "code",
      "source": [
        "#42. Find maximum value in each row of the given array:\n",
        "arr = np.array([[1, 2, 3], [4, 5, 6]])\n",
        "max_values = np.max(arr, axis=1)\n",
        "\n",
        "print(\"Original array:\\n\", arr)\n",
        "print(\"Maximum values in each row:\", max_values)"
      ],
      "metadata": {
        "colab": {
          "base_uri": "https://localhost:8080/"
        },
        "id": "UBOTlnM4cP9_",
        "outputId": "7adc269f-62f3-4e03-f999-a2101cebb37b"
      },
      "execution_count": null,
      "outputs": [
        {
          "output_type": "stream",
          "name": "stdout",
          "text": [
            "Original array:\n",
            " [[1 2 3]\n",
            " [4 5 6]]\n",
            "Maximum values in each row: [3 6]\n"
          ]
        }
      ]
    },
    {
      "cell_type": "code",
      "source": [
        "#43. For the given array, find indices of maximum value in each column.\n",
        "arr = np.array([[1, 2, 3], [4, 5, 6]])\n",
        "indices = np.argmax(arr, axis=0)\n",
        "print(\"Indices of maximum values in each column:\", indices)"
      ],
      "metadata": {
        "colab": {
          "base_uri": "https://localhost:8080/"
        },
        "id": "uF8Uak4fcYmk",
        "outputId": "aa11cefe-ad7f-4516-828d-99c12fbc3e25"
      },
      "execution_count": null,
      "outputs": [
        {
          "output_type": "stream",
          "name": "stdout",
          "text": [
            "Indices of maximum values in each column: [1 1 1]\n"
          ]
        }
      ]
    },
    {
      "cell_type": "code",
      "source": [
        "#44. For the given array, apply custom function to calculate moving sum along rows.\n",
        "arr = np.array([[1, 2, 3], [4, 5, 6]])\n",
        "def moving_sum(arr, window_size=2):\n",
        "    return np.apply_along_axis(lambda row: np.convolve(row, np.ones(window_size), mode='valid'), axis=1, arr=arr)\n",
        "result = moving_sum(arr, window_size=2)\n",
        "\n",
        "print(\"Original array:\\n\", arr)\n",
        "print(\"Moving sum along rows:\\n\", result)\n"
      ],
      "metadata": {
        "colab": {
          "base_uri": "https://localhost:8080/"
        },
        "id": "JKG8Erntc146",
        "outputId": "47bfd5ca-06d5-41f6-b06f-bdd753d988f9"
      },
      "execution_count": null,
      "outputs": [
        {
          "output_type": "stream",
          "name": "stdout",
          "text": [
            "Original array:\n",
            " [[1 2 3]\n",
            " [4 5 6]]\n",
            "Moving sum along rows:\n",
            " [[ 3.  5.]\n",
            " [ 9. 11.]]\n"
          ]
        }
      ]
    },
    {
      "cell_type": "code",
      "source": [
        "#45. In the given array, check if all elements in each column are even.\n",
        "arr = np.array([[2, 4, 6], [3, 5, 7]])\n",
        "all_even = np.all(arr % 2 == 0, axis=0)\n",
        "\n",
        "print(\"Original array:\\n\", arr)\n",
        "print(\"All elements in each column are even:\", all_even)"
      ],
      "metadata": {
        "colab": {
          "base_uri": "https://localhost:8080/"
        },
        "id": "TpEhuVPXdOFk",
        "outputId": "2cbe5356-40eb-489e-b83a-967d917d6436"
      },
      "execution_count": null,
      "outputs": [
        {
          "output_type": "stream",
          "name": "stdout",
          "text": [
            "Original array:\n",
            " [[2 4 6]\n",
            " [3 5 7]]\n",
            "All elements in each column are even: [False False False]\n"
          ]
        }
      ]
    },
    {
      "cell_type": "code",
      "source": [
        "#46. Given a NumPy array arr, reshape it into a matrix of dimensions `m` rows and `n` columns. Return the reshaped matrix.\n",
        "original_array = np.array([1, 2, 3, 4, 5, 6])\n",
        "reshaped_matrix = original_array.reshape(2, 3)\n",
        "\n",
        "print(\"Original array:\\n\", original_array)\n",
        "print(\"Reshaped matrix:\\n\", reshaped_matrix)"
      ],
      "metadata": {
        "colab": {
          "base_uri": "https://localhost:8080/"
        },
        "id": "lfz9XHScdfr-",
        "outputId": "e9684b16-5f38-4097-ca92-3933850216c6"
      },
      "execution_count": null,
      "outputs": [
        {
          "output_type": "stream",
          "name": "stdout",
          "text": [
            "Original array:\n",
            " [1 2 3 4 5 6]\n",
            "Reshaped matrix:\n",
            " [[1 2 3]\n",
            " [4 5 6]]\n"
          ]
        }
      ]
    },
    {
      "cell_type": "code",
      "source": [
        "#47. Create a function that takes a matrix as input and returns the flattened array.\n",
        "#input_matrix = np.array([[1, 2, 3], [4, 5, 6]])\n",
        "def flatten_matrix(matrix):\n",
        "    return matrix.flatten()\n",
        "input_matrix = np.array([[1, 2, 3], [4, 5, 6]])\n",
        "\n",
        "flattened_array = flatten_matrix(input_matrix)\n",
        "\n",
        "print(\"Input matrix:\\n\", input_matrix)\n",
        "print(\"Flattened array:\\n\", flattened_array)"
      ],
      "metadata": {
        "colab": {
          "base_uri": "https://localhost:8080/"
        },
        "id": "ciVGO10_d2U7",
        "outputId": "c833fb43-a984-4822-e130-0a0773c0820d"
      },
      "execution_count": null,
      "outputs": [
        {
          "output_type": "stream",
          "name": "stdout",
          "text": [
            "Input matrix:\n",
            " [[1 2 3]\n",
            " [4 5 6]]\n",
            "Flattened array:\n",
            " [1 2 3 4 5 6]\n"
          ]
        }
      ]
    },
    {
      "cell_type": "code",
      "source": [
        "#48. Write a function that concatenates two given arrays along a specified axis.\n",
        "#array1 = np.array([[1, 2], [3, 4]])\n",
        "#array2 = np.array([[5, 6], [7, 8]])\n",
        "def concatenate_arrays(arr1, arr2, axis=0):\n",
        "    return np.concatenate((arr1, arr2), axis=axis)\n",
        "array1 = np.array([[1, 2], [3, 4]])\n",
        "array2 = np.array([[5, 6], [7, 8]])\n",
        "concatenated_axis_0 = concatenate_arrays(array1, array2, axis=0)\n",
        "print(\"Concatenated along axis 0:\\n\", concatenated_axis_0)\n",
        "\n",
        "concatenated_axis_1 = concatenate_arrays(array1, array2, axis=1)\n",
        "print(\"Concatenated along axis 1:\\n\", concatenated_axis_1)\n"
      ],
      "metadata": {
        "colab": {
          "base_uri": "https://localhost:8080/"
        },
        "id": "a4gpctlneR_N",
        "outputId": "6be7e260-ccc4-46a0-f9e5-9c6953dbf70e"
      },
      "execution_count": null,
      "outputs": [
        {
          "output_type": "stream",
          "name": "stdout",
          "text": [
            "Concatenated along axis 0:\n",
            " [[1 2]\n",
            " [3 4]\n",
            " [5 6]\n",
            " [7 8]]\n",
            "Concatenated along axis 1:\n",
            " [[1 2 5 6]\n",
            " [3 4 7 8]]\n"
          ]
        }
      ]
    },
    {
      "cell_type": "code",
      "source": [
        "#49. Create a function that splits an array into multiple sub-arrays along a specified axis.\n",
        "#original_array = np.array([[1, 2, 3], [4, 5, 6], [7, 8, 9]])\n",
        "\n",
        "def split_array(arr, num_splits, axis=0):\n",
        "    return np.split(arr, num_splits, axis=axis)\n",
        "\n",
        "original_array = np.array([[1, 2, 3], [4, 5, 6], [7, 8, 9]])\n",
        "splits_axis_0 = split_array(original_array, num_splits=3, axis=0)\n",
        "print(\"Split along axis 0 (rows):\")\n",
        "for sub_array in splits_axis_0:\n",
        "    print(sub_array)\n",
        "\n",
        "splits_axis_1 = split_array(original_array, num_splits=3, axis=1)\n",
        "print(\"\\nSplit along axis 1 (columns):\")\n",
        "for sub_array in splits_axis_1:\n",
        "    print(sub_array)\n"
      ],
      "metadata": {
        "colab": {
          "base_uri": "https://localhost:8080/"
        },
        "id": "GJegOAciemnJ",
        "outputId": "395906d9-0749-4058-a93c-600cc553b867"
      },
      "execution_count": null,
      "outputs": [
        {
          "output_type": "stream",
          "name": "stdout",
          "text": [
            "Split along axis 0 (rows):\n",
            "[[1 2 3]]\n",
            "[[4 5 6]]\n",
            "[[7 8 9]]\n",
            "\n",
            "Split along axis 1 (columns):\n",
            "[[1]\n",
            " [4]\n",
            " [7]]\n",
            "[[2]\n",
            " [5]\n",
            " [8]]\n",
            "[[3]\n",
            " [6]\n",
            " [9]]\n"
          ]
        }
      ]
    },
    {
      "cell_type": "code",
      "source": [
        "#50. Write a function that inserts and then deletes elements from a given array at specified indices.\n",
        "#original_array = np.array([1, 2, 3, 4, 5])\n",
        "#indices_to_insert = [2, 4]\n",
        "#values_to_insert = [10, 11]\n",
        "#indices_to_delete = [1, 3]\n",
        "def modify_array(arr, indices_to_insert, values_to_insert, indices_to_delete):\n",
        "    arr_after_insert = np.insert(arr, indices_to_insert, values_to_insert)\n",
        "    arr_after_delete = np.delete(arr_after_insert, indices_to_delete)\n",
        "\n",
        "    return arr_after_insert, arr_after_delete\n",
        "\n",
        "original_array = np.array([1, 2, 3, 4, 5])\n",
        "indices_to_insert = [2, 4]\n",
        "values_to_insert = [10, 11]\n",
        "indices_to_delete = [1, 3]\n",
        "\n",
        "arr_after_insert, arr_after_delete = modify_array(original_array, indices_to_insert, values_to_insert, indices_to_delete)\n",
        "\n",
        "print(\"Original array:\", original_array)\n",
        "print(\"Array after insertion:\", arr_after_insert)\n",
        "print(\"Array after deletion:\", arr_after_delete)\n"
      ],
      "metadata": {
        "colab": {
          "base_uri": "https://localhost:8080/"
        },
        "id": "8YqMdIogfXfm",
        "outputId": "84983096-f4e4-4016-b91e-3f049684d5f3"
      },
      "execution_count": null,
      "outputs": [
        {
          "output_type": "stream",
          "name": "stdout",
          "text": [
            "Original array: [1 2 3 4 5]\n",
            "Array after insertion: [ 1  2 10  3  4 11  5]\n",
            "Array after deletion: [ 1 10  4 11  5]\n"
          ]
        }
      ]
    },
    {
      "cell_type": "code",
      "source": [
        "#51. Create a NumPy array `arr1` with random integers and another array `arr2` with integers from 1 to 10. Perform element-wise addition between `arr1` and `arr2`.\n",
        "arr1 = np.random.randint(1, 11, size=5)\n",
        "arr2 = np.arange(1, 6)\n",
        "result = arr1 + arr2\n",
        "\n",
        "print(\"arr1:\", arr1)\n",
        "print(\"arr2:\", arr2)\n",
        "print(\"Result of element-wise addition:\", result)\n"
      ],
      "metadata": {
        "colab": {
          "base_uri": "https://localhost:8080/"
        },
        "id": "TIQnrn1Yf116",
        "outputId": "96417425-45ae-4c6f-ecfb-05738b519336"
      },
      "execution_count": null,
      "outputs": [
        {
          "output_type": "stream",
          "name": "stdout",
          "text": [
            "arr1: [5 2 8 6 2]\n",
            "arr2: [1 2 3 4 5]\n",
            "Result of element-wise addition: [ 6  4 11 10  7]\n"
          ]
        }
      ]
    },
    {
      "cell_type": "code",
      "source": [
        "#52. Generate a NumPy array `arr1` with sequential integers from 10 to 1 and another array `arr2` with integers from 1 to 10. Subtract `arr2` from `arr1` element-wise.\n",
        "arr1 = np.arange(10, 0, -1)\n",
        "arr2 = np.arange(1, 11)\n",
        "result = arr1 - arr2\n",
        "\n",
        "print(\"arr1:\", arr1)\n",
        "print(\"arr2:\", arr2)\n",
        "print(\"Result of element-wise subtraction:\", result)\n"
      ],
      "metadata": {
        "colab": {
          "base_uri": "https://localhost:8080/"
        },
        "id": "Apkg784EgHSt",
        "outputId": "2a3e06d4-a36b-463e-a277-2607ee22b8a8"
      },
      "execution_count": null,
      "outputs": [
        {
          "output_type": "stream",
          "name": "stdout",
          "text": [
            "arr1: [10  9  8  7  6  5  4  3  2  1]\n",
            "arr2: [ 1  2  3  4  5  6  7  8  9 10]\n",
            "Result of element-wise subtraction: [ 9  7  5  3  1 -1 -3 -5 -7 -9]\n"
          ]
        }
      ]
    },
    {
      "cell_type": "code",
      "source": [
        "#53. Create a NumPy array `arr1` with random integers and another array `arr2` with integers from 1 to 5. Perform element-wise multiplication between `arr1` and `arr2`.\n",
        "arr1 = np.random.randint(1, 11, size=5)\n",
        "arr2 = np.arange(1, 6)\n",
        "result = arr1 * arr2\n",
        "\n",
        "print(\"arr1:\", arr1)\n",
        "print(\"arr2:\", arr2)\n",
        "print(\"Result of element-wise multiplication:\", result)\n"
      ],
      "metadata": {
        "colab": {
          "base_uri": "https://localhost:8080/"
        },
        "id": "MCvFXb3YgS3v",
        "outputId": "466cc050-8625-446c-e78d-56d799c1124b"
      },
      "execution_count": null,
      "outputs": [
        {
          "output_type": "stream",
          "name": "stdout",
          "text": [
            "arr1: [ 5  1 10  6  9]\n",
            "arr2: [1 2 3 4 5]\n",
            "Result of element-wise multiplication: [ 5  2 30 24 45]\n"
          ]
        }
      ]
    },
    {
      "cell_type": "code",
      "source": [
        "#54. Generate a NumPy array `arr1` with even integers from 2 to 10 and another array `arr2` with integers from 1 to 5. Perform element-wise division of `arr1` by `arr2`.\n",
        "arr1 = np.arange(2, 11, 2)\n",
        "arr2 = np.arange(1, 6)\n",
        "result = arr1 / arr2\n",
        "\n",
        "print(\"arr1:\", arr1)\n",
        "print(\"arr2:\", arr2)\n",
        "print(\"Result of element-wise division:\", result)\n"
      ],
      "metadata": {
        "colab": {
          "base_uri": "https://localhost:8080/"
        },
        "id": "DRdhm0ywgvoX",
        "outputId": "4a75e702-0dd3-4a85-e717-c2da764b3d29"
      },
      "execution_count": null,
      "outputs": [
        {
          "output_type": "stream",
          "name": "stdout",
          "text": [
            "arr1: [ 2  4  6  8 10]\n",
            "arr2: [1 2 3 4 5]\n",
            "Result of element-wise division: [2. 2. 2. 2. 2.]\n"
          ]
        }
      ]
    },
    {
      "cell_type": "code",
      "source": [
        "#55. Create a NumPy array `arr1` with integers from 1 to 5 and another array `arr2` with the same numbers reversed. Calculate the exponentiation of `arr1` raised to the power of `arr2` element-wise.\n",
        "arr1 = np.arange(1, 6)\n",
        "arr2 = arr1[::-1]\n",
        "result = arr1 ** arr2\n",
        "\n",
        "print(\"arr1:\", arr1)\n",
        "print(\"arr2:\", arr2)\n",
        "print(\"Result of element-wise exponentiation:\", result)"
      ],
      "metadata": {
        "colab": {
          "base_uri": "https://localhost:8080/"
        },
        "id": "URXxhbAuhAVJ",
        "outputId": "25f9a338-956e-4535-aab0-7a2ad018d873"
      },
      "execution_count": null,
      "outputs": [
        {
          "output_type": "stream",
          "name": "stdout",
          "text": [
            "arr1: [1 2 3 4 5]\n",
            "arr2: [5 4 3 2 1]\n",
            "Result of element-wise exponentiation: [ 1 16 27 16  5]\n"
          ]
        }
      ]
    },
    {
      "cell_type": "code",
      "source": [
        "#56. Write a function that counts the occurrences of a specific substring within a NumPy array of strings.\n",
        "#arr = np.array(['hello', 'world', 'hello', 'numpy', 'hello'])\n",
        "def count_substring_occurrences(arr, substring):\n",
        "    occurrences = np.char.count(arr, substring)\n",
        "    return occurrences.sum()\n",
        "arr = np.array(['hello', 'world', 'hello', 'numpy', 'hello'])\n",
        "substring = 'hello'\n",
        "\n",
        "count = count_substring_occurrences(arr, substring)\n",
        "print(f\"The substring '{substring}' appears {count} times in the array.\")"
      ],
      "metadata": {
        "colab": {
          "base_uri": "https://localhost:8080/"
        },
        "id": "xS5QJd9uhM87",
        "outputId": "5c3bbf46-86f0-40d6-9638-913f89d239a9"
      },
      "execution_count": null,
      "outputs": [
        {
          "output_type": "stream",
          "name": "stdout",
          "text": [
            "The substring 'hello' appears 3 times in the array.\n"
          ]
        }
      ]
    },
    {
      "cell_type": "code",
      "source": [
        "#57. Write a function that extracts uppercase characters from a NumPy array of strings.\n",
        "#arr = np.array(['Hello', 'World', 'OpenAI', 'GPT'])\n",
        "def extract_uppercase(arr):\n",
        "    uppercase_chars = np.char.array(arr)\n",
        "    result = np.array([''.join([ch for ch in string if ch.isupper()]) for string in uppercase_chars])\n",
        "\n",
        "    return result\n",
        "arr = np.array(['Hello', 'World', 'OpenAI', 'GPT'])\n",
        "uppercase_chars = extract_uppercase(arr)\n",
        "print(\"Extracted uppercase characters:\", uppercase_chars)"
      ],
      "metadata": {
        "colab": {
          "base_uri": "https://localhost:8080/"
        },
        "id": "OyRORAE4epho",
        "outputId": "94f56fa8-538a-4652-842e-592b4c73a8bf"
      },
      "execution_count": null,
      "outputs": [
        {
          "output_type": "stream",
          "name": "stdout",
          "text": [
            "Extracted uppercase characters: ['H' 'W' 'OAI' 'GPT']\n"
          ]
        }
      ]
    },
    {
      "cell_type": "code",
      "source": [
        "#58. Write a function that replaces occurrences of a substring in a NumPy array of strings with a new string.\n",
        "arr = np.array(['apple', 'banana', 'grape', 'pineapple'])\n",
        "def replace_substring(arr, old_substring, new_substring):\n",
        "    result = np.char.replace(arr, old_substring, new_substring)\n",
        "    return result\n",
        "arr = np.array(['apple', 'banana', 'grape', 'pineapple'])\n",
        "old_substring = 'apple'\n",
        "new_substring = 'fruit'\n",
        "\n",
        "updated_arr = replace_substring(arr, old_substring, new_substring)\n",
        "print(\"Updated array:\", updated_arr)\n"
      ],
      "metadata": {
        "id": "Mvvx-4TziD4a",
        "colab": {
          "base_uri": "https://localhost:8080/"
        },
        "outputId": "0fac6565-10d2-4146-9aa6-3b6eabfd9a50"
      },
      "execution_count": null,
      "outputs": [
        {
          "output_type": "stream",
          "name": "stdout",
          "text": [
            "Updated array: ['fruit' 'banana' 'grape' 'pinefruit']\n"
          ]
        }
      ]
    },
    {
      "cell_type": "code",
      "source": [
        "#59. Write a function that concatenates strings in a NumPy array element-wise.\n",
        "arr1 = np.array(['Hello', 'World'])\n",
        "arr2 = np.array(['Open', 'AI'])\n",
        "def concatenate_strings(arr1, arr2):\n",
        "    result = np.char.add(arr1, arr2)\n",
        "    return result\n",
        "arr1 = np.array(['Hello', 'World'])\n",
        "arr2 = np.array(['Open', 'AI'])\n",
        "\n",
        "concatenated_arr = concatenate_strings(arr1, arr2)\n",
        "print(\"Concatenated array:\", concatenated_arr)\n"
      ],
      "metadata": {
        "colab": {
          "base_uri": "https://localhost:8080/"
        },
        "id": "SvSnML_6fj95",
        "outputId": "3e057619-c5cb-448a-f369-f9ebed03b941"
      },
      "execution_count": null,
      "outputs": [
        {
          "output_type": "stream",
          "name": "stdout",
          "text": [
            "Concatenated array: ['HelloOpen' 'WorldAI']\n"
          ]
        }
      ]
    },
    {
      "cell_type": "code",
      "source": [
        "#60. Write a function that finds the length of the longest string in a NumPy array.\n",
        "arr = np.array(['apple', 'banana', 'grape', 'pineapple'])\n",
        "def longest_string_length(arr):\n",
        "    lengths = np.vectorize(len)(arr)\n",
        "    return np.max(lengths)\n",
        "arr = np.array(['apple', 'banana', 'grape', 'pineapple'])\n",
        "longest_length = longest_string_length(arr)\n",
        "print(\"Length of the longest string:\", longest_length)\n"
      ],
      "metadata": {
        "colab": {
          "base_uri": "https://localhost:8080/"
        },
        "id": "vdVmEgcNgsbZ",
        "outputId": "587245ec-33be-4610-d8ae-f596e7a823b6"
      },
      "execution_count": null,
      "outputs": [
        {
          "output_type": "stream",
          "name": "stdout",
          "text": [
            "Length of the longest string: 9\n"
          ]
        }
      ]
    },
    {
      "cell_type": "code",
      "source": [
        "#61. Create a dataset of 100 random integers between 1 and 1000. Compute the mean, median, variance, and standard deviation of the dataset using NumPy's functions.\n",
        "dataset = np.random.randint(1, 1001, size=100)\n",
        "\n",
        "mean = np.mean(dataset)\n",
        "median = np.median(dataset)\n",
        "variance = np.var(dataset)\n",
        "std_deviation = np.std(dataset)\n",
        "print(\"Dataset:\", dataset)\n",
        "print(\"Mean:\", mean)\n",
        "print(\"Median:\", median)\n",
        "print(\"Variance:\", variance)\n",
        "print(\"Standard Deviation:\", std_deviation)\n"
      ],
      "metadata": {
        "colab": {
          "base_uri": "https://localhost:8080/"
        },
        "id": "yxwjSD5OhW3l",
        "outputId": "a92bd0c1-faae-49d1-dda5-4c023a3c4f58"
      },
      "execution_count": null,
      "outputs": [
        {
          "output_type": "stream",
          "name": "stdout",
          "text": [
            "Dataset: [528 617 412 376  52 416 961 941 666  90 575 982 295  82 561 717 758 954\n",
            " 569 698 166 367 276 842 211 964 163 527 941 735 600 944 743 886 347 444\n",
            " 879 590 487 359 466 625 923 154  33 590 271 157 849 555 568 912 317 136\n",
            " 694 932 124 273 907 795 655 902 620  43  97 987 980 575 255 505 599 192\n",
            " 787 527 101 907 696 709  76 395 781 550 207  47 820 581 213 326 655 885\n",
            " 181 131 484 831 778 979  98 963 648 444]\n",
            "Mean: 542.12\n",
            "Median: 572.0\n",
            "Variance: 86240.9456\n",
            "Standard Deviation: 293.6680874729156\n"
          ]
        }
      ]
    },
    {
      "cell_type": "code",
      "source": [
        "#62. Generate an array of 50 random numbers between 1 and 100. Find the 25th and 75th percentiles of the dataset.\n",
        "dataset = np.random.uniform(1, 100, size=50)\n",
        "\n",
        "percentile_25 = np.percentile(dataset, 25)\n",
        "percentile_75 = np.percentile(dataset, 75)\n",
        "print(\"Dataset:\", dataset)\n",
        "print(\"25th Percentile:\", percentile_25)\n",
        "print(\"75th Percentile:\", percentile_75)\n"
      ],
      "metadata": {
        "colab": {
          "base_uri": "https://localhost:8080/"
        },
        "id": "P-I7xzBBhwiC",
        "outputId": "30e5447a-7fee-4be8-ba9f-0b49a4cfd53b"
      },
      "execution_count": null,
      "outputs": [
        {
          "output_type": "stream",
          "name": "stdout",
          "text": [
            "Dataset: [83.76591751  7.99260108 52.96394048 70.81530598 24.07334495 13.18702356\n",
            " 36.1897398  88.37733731  8.72356554 81.91252199 37.57786496 32.8626967\n",
            " 95.66324769 18.04203073  9.99986072 25.60251563 77.52683148 45.95492535\n",
            " 83.88537023 70.82036552 71.29348393 36.0107958  47.05312812 32.2953503\n",
            " 91.57801321 56.00810508 34.03916791  6.10916409 87.63680219 55.29961296\n",
            " 59.66673569 99.73529579 22.23836532 88.89394496 19.83654819 20.81550836\n",
            " 94.205262   60.98311949 13.98717676 33.05145107 27.42351214 64.24586422\n",
            " 21.19563371 32.68998912 77.70557226 37.2409225  15.86459051  4.18081666\n",
            " 25.41614723 30.47836922]\n",
            "25th Percentile: 22.697110229194386\n",
            "75th Percentile: 71.17520432560651\n"
          ]
        }
      ]
    },
    {
      "cell_type": "code",
      "source": [
        "#63. Create two arrays representing two sets of variables. Compute the correlation coefficient between these arrays using NumPy's `corrcoef` function.\n",
        "\n",
        "array1 = np.random.randint(1, 101, size=10)\n",
        "array2 = np.random.randint(1, 101, size=10)\n",
        "correlation_matrix = np.corrcoef(array1, array2)\n",
        "correlation_coefficient = correlation_matrix[0, 1]\n",
        "\n",
        "print(\"Array 1:\", array1)\n",
        "print(\"Array 2:\", array2)\n",
        "print(\"Correlation Matrix:\\n\", correlation_matrix)\n",
        "print(\"Correlation Coefficient:\", correlation_coefficient)\n"
      ],
      "metadata": {
        "colab": {
          "base_uri": "https://localhost:8080/"
        },
        "id": "4zuszfi6iE1x",
        "outputId": "7b9fa00f-e90d-4c3b-822b-4a429bf5219b"
      },
      "execution_count": null,
      "outputs": [
        {
          "output_type": "stream",
          "name": "stdout",
          "text": [
            "Array 1: [ 3 29 54 81 33 37 74 27 46 78]\n",
            "Array 2: [78 79 96 16 23  6 71 92 95 95]\n",
            "Correlation Matrix:\n",
            " [[ 1.         -0.06967689]\n",
            " [-0.06967689  1.        ]]\n",
            "Correlation Coefficient: -0.06967688748153507\n"
          ]
        }
      ]
    },
    {
      "cell_type": "code",
      "source": [
        "#64. Create two matrices and perform matrix multiplication using NumPy's `dot` function.\n",
        "matrix1 = np.array([[1, 2, 3], [4, 5, 6]])\n",
        "matrix2 = np.array([[7, 8], [9, 10], [11, 12]])\n",
        "result = np.dot(matrix1, matrix2)\n",
        "print(\"Matrix 1:\\n\", matrix1)\n",
        "print(\"Matrix 2:\\n\", matrix2)\n",
        "print(\"Result of Matrix Multiplication:\\n\", result)\n"
      ],
      "metadata": {
        "colab": {
          "base_uri": "https://localhost:8080/"
        },
        "id": "Y4NkEZqsiifo",
        "outputId": "f94f88f1-4d8c-42d9-d067-b92e359762cd"
      },
      "execution_count": null,
      "outputs": [
        {
          "output_type": "stream",
          "name": "stdout",
          "text": [
            "Matrix 1:\n",
            " [[1 2 3]\n",
            " [4 5 6]]\n",
            "Matrix 2:\n",
            " [[ 7  8]\n",
            " [ 9 10]\n",
            " [11 12]]\n",
            "Result of Matrix Multiplication:\n",
            " [[ 58  64]\n",
            " [139 154]]\n"
          ]
        }
      ]
    },
    {
      "cell_type": "code",
      "source": [
        "#65. Create an array of 50 integers between 10 and 1000. Calculate the 10th, 50th (median), and 90th percentiles along with the first and third quartiles.\n",
        "array = np.random.randint(10, 1001, size=50)\n",
        "\n",
        "percentile_10 = np.percentile(array, 10)\n",
        "percentile_50 = np.percentile(array, 50)\n",
        "percentile_90 = np.percentile(array, 90)\n",
        "\n",
        "first_quartile = np.percentile(array, 25)\n",
        "third_quartile = np.percentile(array, 75)\n",
        "print(\"Array:\", array)\n",
        "print(\"10th Percentile:\", percentile_10)\n",
        "print(\"50th Percentile (Median):\", percentile_50)\n",
        "print(\"90th Percentile:\", percentile_90)\n",
        "print(\"First Quartile (25th Percentile):\", first_quartile)\n",
        "print(\"Third Quartile (75th Percentile):\", third_quartile)\n"
      ],
      "metadata": {
        "colab": {
          "base_uri": "https://localhost:8080/"
        },
        "id": "U5imJki6i20Y",
        "outputId": "71886c3a-b6d7-46cd-b9e1-fff9768ddfad"
      },
      "execution_count": null,
      "outputs": [
        {
          "output_type": "stream",
          "name": "stdout",
          "text": [
            "Array: [685 450 494 931 950 680 912 993 175  63 382 963 222 695 950 761  44 174\n",
            " 903 581 177 591 132 493 829 388 860  96 410 137 391 238 640  73 457 494\n",
            " 419 725 833 513 901 257 166 470 638 192 622 337 858 486]\n",
            "10th Percentile: 136.5\n",
            "50th Percentile (Median): 493.5\n",
            "90th Percentile: 913.9\n",
            "First Quartile (25th Percentile): 242.75\n",
            "Third Quartile (75th Percentile): 752.0\n"
          ]
        }
      ]
    },
    {
      "cell_type": "code",
      "source": [
        "#66. Create a NumPy array of integers and find the index of a specific element.\n",
        "array = np.array([10, 20, 30, 40, 50, 60, 70, 80])\n",
        "element_to_find = 40\n",
        "index = np.where(array == element_to_find)[0]\n",
        "print(\"Array:\", array)\n",
        "print(f\"Index of element {element_to_find}:\", index)\n"
      ],
      "metadata": {
        "colab": {
          "base_uri": "https://localhost:8080/"
        },
        "id": "-o2oRxbx6TvO",
        "outputId": "c16df1e2-04b3-4a9d-e1a6-605d5672b3fc"
      },
      "execution_count": null,
      "outputs": [
        {
          "output_type": "stream",
          "name": "stdout",
          "text": [
            "Array: [10 20 30 40 50 60 70 80]\n",
            "Index of element 40: [3]\n"
          ]
        }
      ]
    },
    {
      "cell_type": "code",
      "source": [
        "#67. Generate a random NumPy array and sort it in ascending order.\n",
        "random_array = np.random.randint(1, 101, size=10)\n",
        "sorted_array = np.sort(random_array)\n",
        "print(\"Original Array:\", random_array)\n",
        "print(\"Sorted Array (Ascending):\", sorted_array)"
      ],
      "metadata": {
        "colab": {
          "base_uri": "https://localhost:8080/"
        },
        "id": "CvP91lRM6uG2",
        "outputId": "f8b1c031-825a-4edc-ae59-cab54dd576f8"
      },
      "execution_count": null,
      "outputs": [
        {
          "output_type": "stream",
          "name": "stdout",
          "text": [
            "Original Array: [98 32 12 81 26 70  8 29 99 73]\n",
            "Sorted Array (Ascending): [ 8 12 26 29 32 70 73 81 98 99]\n"
          ]
        }
      ]
    },
    {
      "cell_type": "code",
      "source": [
        "#68. Filter elements >20  in the given NumPy array.\n",
        "arr = np.array([12, 25, 6, 42, 8, 30])\n",
        "filtered_arr = arr[arr > 20]\n",
        "print(\"Filtered Array (elements > 20):\", filtered_arr)\n"
      ],
      "metadata": {
        "colab": {
          "base_uri": "https://localhost:8080/"
        },
        "id": "DAKqEOr77Z7D",
        "outputId": "aeccf4d8-a564-4045-90d7-8c5a4efae5f7"
      },
      "execution_count": null,
      "outputs": [
        {
          "output_type": "stream",
          "name": "stdout",
          "text": [
            "Filtered Array (elements > 20): [25 42 30]\n"
          ]
        }
      ]
    },
    {
      "cell_type": "code",
      "source": [
        "#69. Filter elements which are divisible by 3 from a given NumPy array.\n",
        "arr = np.array([1, 5, 8, 12, 15])\n",
        "filtered_arr = arr[arr % 3 == 0]\n",
        "print(\"Filtered Array (elements divisible by 3):\", filtered_arr)\n"
      ],
      "metadata": {
        "colab": {
          "base_uri": "https://localhost:8080/"
        },
        "id": "6plLS8uX8ITR",
        "outputId": "6dedf167-108f-4bd1-a682-c795ab2ef339"
      },
      "execution_count": null,
      "outputs": [
        {
          "output_type": "stream",
          "name": "stdout",
          "text": [
            "Filtered Array (elements divisible by 3): [12 15]\n"
          ]
        }
      ]
    },
    {
      "cell_type": "code",
      "source": [
        "#70. Filter elements which are ≥ 20 and ≤ 40 from a given NumPy array.\n",
        "arr = np.array([10, 20, 30, 40, 50])\n",
        "filtered_arr = arr[(arr >= 20) & (arr <= 40)]\n",
        "print(\"Filtered Array (elements ≥ 20 and ≤ 40):\", filtered_arr)\n"
      ],
      "metadata": {
        "colab": {
          "base_uri": "https://localhost:8080/"
        },
        "id": "h8Dbgs558PKK",
        "outputId": "65b892bc-cf45-4e3c-8abb-fb0370243887"
      },
      "execution_count": null,
      "outputs": [
        {
          "output_type": "stream",
          "name": "stdout",
          "text": [
            "Filtered Array (elements ≥ 20 and ≤ 40): [20 30 40]\n"
          ]
        }
      ]
    },
    {
      "cell_type": "code",
      "source": [
        "#71. For the given NumPy array, check its byte order using the `dtype` attribute byteorder.\n",
        "arr = np.array([1, 2, 3])\n",
        "byte_order = arr.dtype.byteorder\n",
        "print(\"Byte order of the array:\", byte_order)"
      ],
      "metadata": {
        "colab": {
          "base_uri": "https://localhost:8080/"
        },
        "id": "J2x_FZto80SC",
        "outputId": "e63b4d2c-334e-483d-c545-d1ec0746239b"
      },
      "execution_count": null,
      "outputs": [
        {
          "output_type": "stream",
          "name": "stdout",
          "text": [
            "Byte order of the array: =\n"
          ]
        }
      ]
    },
    {
      "cell_type": "code",
      "source": [
        "#72. For the given NumPy array, perform byte swapping in place using `byteswap()`.\n",
        "arr = np.array([1, 2, 3], dtype=np.int32)\n",
        "arr.byteswap(inplace=True)\n",
        "print(\"Array after byte swapping:\", arr)"
      ],
      "metadata": {
        "id": "rYQQcvdd9KkG",
        "colab": {
          "base_uri": "https://localhost:8080/"
        },
        "outputId": "13d8dda1-5efa-4a2b-f804-e19d6169b07c"
      },
      "execution_count": 2,
      "outputs": [
        {
          "output_type": "stream",
          "name": "stdout",
          "text": [
            "Array after byte swapping: [16777216 33554432 50331648]\n"
          ]
        }
      ]
    },
    {
      "cell_type": "code",
      "source": [
        "#73. For the given NumPy array, swap its byte order without modifying the original array using `newbyteorder()`.\n",
        "arr = np.array([1, 2, 3], dtype=np.int32)\n",
        "swapped_arr = arr.newbyteorder()\n",
        "print(\"Original array:\", arr)\n",
        "print(\"Swapped Array:\", swapped_arr)"
      ],
      "metadata": {
        "colab": {
          "base_uri": "https://localhost:8080/"
        },
        "id": "oIrJckr92y_K",
        "outputId": "e382ea64-2b33-4307-9f41-f8b87c427d1e"
      },
      "execution_count": 4,
      "outputs": [
        {
          "output_type": "stream",
          "name": "stdout",
          "text": [
            "Original array: [1 2 3]\n",
            "Swapped Array: [16777216 33554432 50331648]\n"
          ]
        }
      ]
    },
    {
      "cell_type": "code",
      "source": [
        "#74. For the given NumPy array and swap its byte order conditionally based on system endianness using`newbyteorder()`.\n",
        "arr = np.array([1, 2, 3], dtype=np.int32)\n",
        "if arr.dtype.byteorder == '=':\n",
        "    print(\"System's byte order is native. Conditionally swapping...\")\n",
        "    swapped_arr = arr.newbyteorder()\n",
        "else:\n",
        "    print(\"System's byte order is already specified (big or little). No swap needed.\")\n",
        "    swapped_arr = arr\n",
        "\n",
        "print(\"Original array:\", arr)\n",
        "print(\"Array after conditional byte order swap:\", swapped_arr)\n"
      ],
      "metadata": {
        "colab": {
          "base_uri": "https://localhost:8080/"
        },
        "id": "S-_IUiBj3Bqx",
        "outputId": "a56846c9-4706-45a6-928b-8f0cbe53a38b"
      },
      "execution_count": 7,
      "outputs": [
        {
          "output_type": "stream",
          "name": "stdout",
          "text": [
            "System's byte order is native. Conditionally swapping...\n",
            "Original array: [1 2 3]\n",
            "Array after conditional byte order swap: [16777216 33554432 50331648]\n"
          ]
        }
      ]
    },
    {
      "cell_type": "code",
      "source": [
        "#75. For the given NumPy array, check if byte swapping is necessary for the current system using `dtype` attribute `byteorder`.\n",
        "arr = np.array([1, 2, 3], dtype=np.int32)\n",
        "if arr.dtype.byteorder == '=':\n",
        "    print(\"No byte swapping is necessary. The array already uses the system's native byte order.\")\n",
        "elif arr.dtype.byteorder == '<':\n",
        "    print(\"The array is in little-endian format.\")\n",
        "elif arr.dtype.byteorder == '>':\n",
        "    print(\"The array is in big-endian format.\")\n",
        "else:\n",
        "    print(\"Unknown byte order.\")\n",
        "\n",
        "print(\"Array byte order:\", arr.dtype.byteorder)\n"
      ],
      "metadata": {
        "colab": {
          "base_uri": "https://localhost:8080/"
        },
        "id": "Hzd7NOkr3oGZ",
        "outputId": "817e75d1-49f5-4640-83f2-433483bd16d2"
      },
      "execution_count": 8,
      "outputs": [
        {
          "output_type": "stream",
          "name": "stdout",
          "text": [
            "No byte swapping is necessary. The array already uses the system's native byte order.\n",
            "Array byte order: =\n"
          ]
        }
      ]
    },
    {
      "cell_type": "code",
      "source": [
        "#76. Create a NumPy array `arr1` with values from 1 to 10. Create a copy of `arr1` named `copy_arr` and modify an element in `copy_arr`. Check if modifying `copy_arr` affects `arr1`.\n",
        "arr1 = np.arange(1, 11)\n",
        "copy_arr = arr1.copy()\n",
        "copy_arr[0] = 99\n",
        "print(\"Original array (arr1):\", arr1)\n",
        "print(\"Modified copy (copy_arr):\", copy_arr)\n",
        "if np.array_equal(arr1, copy_arr):\n",
        "    print(\"Modifying copy_arr affected arr1.\")\n",
        "else:\n",
        "    print(\"Modifying copy_arr does NOT affect arr1.\")\n"
      ],
      "metadata": {
        "colab": {
          "base_uri": "https://localhost:8080/"
        },
        "id": "ueYz3rlV45mi",
        "outputId": "6bcd214f-b0d7-41da-ca94-e9434e45c876"
      },
      "execution_count": 9,
      "outputs": [
        {
          "output_type": "stream",
          "name": "stdout",
          "text": [
            "Original array (arr1): [ 1  2  3  4  5  6  7  8  9 10]\n",
            "Modified copy (copy_arr): [99  2  3  4  5  6  7  8  9 10]\n",
            "Modifying copy_arr does NOT affect arr1.\n"
          ]
        }
      ]
    },
    {
      "cell_type": "code",
      "source": [
        "#77. Create a 2D NumPy array `matrix` of shape (3, 3) with random integers. Extract a slice `view_slice` from the matrix. Modify an element in `view_slice` and observe if it changes the original `matrix`.\n",
        "matrix = np.random.randint(1, 10, size=(3, 3))\n",
        "view_slice = matrix[1:, 1:]\n",
        "view_slice[0, 0] = 99\n",
        "print(\"Original matrix after modification:\")\n",
        "print(matrix)\n",
        "print(\"\\nSlice (view_slice) after modification:\")\n",
        "print(view_slice)\n",
        "if matrix[1, 1] == view_slice[0, 0]:\n",
        "    print(\"\\nModifying view_slice affects the original matrix.\")\n",
        "else:\n",
        "    print(\"\\nModifying view_slice does NOT affect the original matrix.\")\n"
      ],
      "metadata": {
        "colab": {
          "base_uri": "https://localhost:8080/"
        },
        "id": "kqtGAGsB5JQx",
        "outputId": "141d425c-a75d-4f34-9244-ba66836ae1ca"
      },
      "execution_count": 10,
      "outputs": [
        {
          "output_type": "stream",
          "name": "stdout",
          "text": [
            "Original matrix after modification:\n",
            "[[ 6  8  5]\n",
            " [ 6 99  1]\n",
            " [ 7  8  2]]\n",
            "\n",
            "Slice (view_slice) after modification:\n",
            "[[99  1]\n",
            " [ 8  2]]\n",
            "\n",
            "Modifying view_slice affects the original matrix.\n"
          ]
        }
      ]
    },
    {
      "cell_type": "code",
      "source": [
        "#78. Create a NumPy array `array_a` of shape (4, 3) with sequential integers from 1 to 12. Extract a slice `view_b` from `array_a` and broadcast the addition of 5 to view_b. Check if it alters the original `array_a`.\n",
        "array_a = np.arange(1, 13).reshape(4, 3)\n",
        "view_b = array_a[:2, :]\n",
        "view_b += 5\n",
        "print(\"Original array (array_a) after broadcasting addition:\")\n",
        "print(array_a)\n",
        "print(\"\\nSlice (view_b) after broadcasting addition:\")\n",
        "print(view_b)\n",
        "if np.any(array_a[:2, :] == view_b):\n",
        "    print(\"\\nBroadcasting addition to view_b alters the original array.\")\n",
        "else:\n",
        "    print(\"\\nBroadcasting addition to view_b does NOT alter the original array.\")\n"
      ],
      "metadata": {
        "colab": {
          "base_uri": "https://localhost:8080/"
        },
        "id": "VI9zELSu5bpC",
        "outputId": "91209c31-0124-4904-faa5-a0bfec52b0cd"
      },
      "execution_count": 11,
      "outputs": [
        {
          "output_type": "stream",
          "name": "stdout",
          "text": [
            "Original array (array_a) after broadcasting addition:\n",
            "[[ 6  7  8]\n",
            " [ 9 10 11]\n",
            " [ 7  8  9]\n",
            " [10 11 12]]\n",
            "\n",
            "Slice (view_b) after broadcasting addition:\n",
            "[[ 6  7  8]\n",
            " [ 9 10 11]]\n",
            "\n",
            "Broadcasting addition to view_b alters the original array.\n"
          ]
        }
      ]
    },
    {
      "cell_type": "code",
      "source": [
        "#79. Create a NumPy array `orig_array` of shape (2, 4) with values from 1 to 8. Create a reshaped view `reshaped_view` of shape (4, 2) from orig_array. Modify an element in `reshaped_view` and check if it reflects changes in the original `orig_array`.\n",
        "orig_array = np.arange(1, 9).reshape(2, 4)\n",
        "reshaped_view = orig_array.reshape(4, 2)\n",
        "reshaped_view[1, 0] = 99\n",
        "print(\"Original array (orig_array) after modification:\")\n",
        "print(orig_array)\n",
        "print(\"\\nReshaped view (reshaped_view) after modification:\")\n",
        "print(reshaped_view)\n",
        "if np.any(orig_array == 99):\n",
        "    print(\"\\nModifying reshaped_view reflects changes in orig_array.\")\n",
        "else:\n",
        "    print(\"\\nModifying reshaped_view does NOT reflect changes in orig_array.\")\n"
      ],
      "metadata": {
        "colab": {
          "base_uri": "https://localhost:8080/"
        },
        "id": "z84fxEwu53x4",
        "outputId": "18593e97-fc04-4b1f-b19b-a9d3c73a3ee4"
      },
      "execution_count": 12,
      "outputs": [
        {
          "output_type": "stream",
          "name": "stdout",
          "text": [
            "Original array (orig_array) after modification:\n",
            "[[ 1  2 99  4]\n",
            " [ 5  6  7  8]]\n",
            "\n",
            "Reshaped view (reshaped_view) after modification:\n",
            "[[ 1  2]\n",
            " [99  4]\n",
            " [ 5  6]\n",
            " [ 7  8]]\n",
            "\n",
            "Modifying reshaped_view reflects changes in orig_array.\n"
          ]
        }
      ]
    },
    {
      "cell_type": "code",
      "source": [
        "#80. Create a NumPy array `data` of shape (3, 4) with random integers. Extract a copy `data_copy` of elements greater than 5. Modify an element in `data_copy` and verify if it affects the original `data`.\n",
        "data = np.random.randint(1, 11, size=(3, 4))\n",
        "data_copy = data[data > 5].copy()\n",
        "if len(data_copy) > 0:\n",
        "    data_copy[0] = 99\n",
        "print(\"Original array (data):\")\n",
        "print(data)\n",
        "print(\"\\nModified copy (data_copy):\")\n",
        "print(data_copy)\n",
        "if 99 in data:\n",
        "    print(\"\\nModifying data_copy affects the original array.\")\n",
        "else:\n",
        "    print(\"\\nModifying data_copy does NOT affect the original array.\")\n"
      ],
      "metadata": {
        "colab": {
          "base_uri": "https://localhost:8080/"
        },
        "id": "jEcSsU8M6Vjr",
        "outputId": "0c29e102-afc0-445a-afe1-80b2841ae1e0"
      },
      "execution_count": 13,
      "outputs": [
        {
          "output_type": "stream",
          "name": "stdout",
          "text": [
            "Original array (data):\n",
            "[[ 7  6  5  5]\n",
            " [10  6  2  6]\n",
            " [ 4  8  3  2]]\n",
            "\n",
            "Modified copy (data_copy):\n",
            "[99  6 10  6  6  8]\n",
            "\n",
            "Modifying data_copy does NOT affect the original array.\n"
          ]
        }
      ]
    },
    {
      "cell_type": "code",
      "source": [
        "#81. Create two matrices A and B of identical shape containing integers and perform addition and subtraction operations between them.\n",
        "A = np.array([[1, 2, 3], [4, 5, 6], [7, 8, 9]])\n",
        "B = np.array([[9, 8, 7], [6, 5, 4], [3, 2, 1]])\n",
        "addition_result = A + B\n",
        "subtraction_result = A - B\n",
        "print(\"Matrix A:\")\n",
        "print(A)\n",
        "print(\"\\nMatrix B:\")\n",
        "print(B)\n",
        "print(\"\\nAddition of A and B:\")\n",
        "print(addition_result)\n",
        "print(\"\\nSubtraction of A and B:\")\n",
        "print(subtraction_result)"
      ],
      "metadata": {
        "colab": {
          "base_uri": "https://localhost:8080/"
        },
        "id": "aGnG1EYc6qQ7",
        "outputId": "9d5b03d5-aaa5-4567-8b29-149c6c5ecd96"
      },
      "execution_count": 14,
      "outputs": [
        {
          "output_type": "stream",
          "name": "stdout",
          "text": [
            "Matrix A:\n",
            "[[1 2 3]\n",
            " [4 5 6]\n",
            " [7 8 9]]\n",
            "\n",
            "Matrix B:\n",
            "[[9 8 7]\n",
            " [6 5 4]\n",
            " [3 2 1]]\n",
            "\n",
            "Addition of A and B:\n",
            "[[10 10 10]\n",
            " [10 10 10]\n",
            " [10 10 10]]\n",
            "\n",
            "Subtraction of A and B:\n",
            "[[-8 -6 -4]\n",
            " [-2  0  2]\n",
            " [ 4  6  8]]\n"
          ]
        }
      ]
    },
    {
      "cell_type": "code",
      "source": [
        "#82. Generate two matrices `C` (3x2) and `D` (2x4) and perform matrix multiplication.\n",
        "C = np.random.randint(1, 10, (3, 2))\n",
        "D = np.random.randint(1, 10, (2, 4))\n",
        "result = np.dot(C, D)\n",
        "print(\"Matrix C (3x2):\")\n",
        "print(C)\n",
        "print(\"\\nMatrix D (2x4):\")\n",
        "print(D)\n",
        "print(\"\\nResult of matrix multiplication (3x4):\")\n",
        "print(result)"
      ],
      "metadata": {
        "colab": {
          "base_uri": "https://localhost:8080/"
        },
        "id": "GcD-ZDhh69E9",
        "outputId": "c988cc3b-2b3f-4d49-b259-d087161a50b7"
      },
      "execution_count": 15,
      "outputs": [
        {
          "output_type": "stream",
          "name": "stdout",
          "text": [
            "Matrix C (3x2):\n",
            "[[1 2]\n",
            " [4 8]\n",
            " [3 8]]\n",
            "\n",
            "Matrix D (2x4):\n",
            "[[4 8 3 7]\n",
            " [3 3 8 1]]\n",
            "\n",
            "Result of matrix multiplication (3x4):\n",
            "[[10 14 19  9]\n",
            " [40 56 76 36]\n",
            " [36 48 73 29]]\n"
          ]
        }
      ]
    },
    {
      "cell_type": "code",
      "source": [
        "#83. Create a matrix `E` and find its transpose.\n",
        "E = np.random.randint(1, 10, (3, 2))\n",
        "E_transpose = E.T\n",
        "print(\"Matrix E (3x2):\")\n",
        "print(E)\n",
        "print(\"\\nTranspose of Matrix E (2x3):\")\n",
        "print(E_transpose)"
      ],
      "metadata": {
        "colab": {
          "base_uri": "https://localhost:8080/"
        },
        "id": "CyKQLkYi7Mkm",
        "outputId": "c0c3c106-4f73-4334-f33d-5d7236434d5a"
      },
      "execution_count": 16,
      "outputs": [
        {
          "output_type": "stream",
          "name": "stdout",
          "text": [
            "Matrix E (3x2):\n",
            "[[8 9]\n",
            " [4 7]\n",
            " [5 5]]\n",
            "\n",
            "Transpose of Matrix E (2x3):\n",
            "[[8 4 5]\n",
            " [9 7 5]]\n"
          ]
        }
      ]
    },
    {
      "cell_type": "code",
      "source": [
        "#84. Generate a square matrix `F` and compute its determinant.\n",
        "F = np.random.randint(1, 10, (3, 3))\n",
        "determinant = np.linalg.det(F)\n",
        "print(\"Matrix F (3x3):\")\n",
        "print(F)\n",
        "print(\"\\nDeterminant of Matrix F:\")\n",
        "print(determinant)"
      ],
      "metadata": {
        "colab": {
          "base_uri": "https://localhost:8080/"
        },
        "id": "Oubr7JyL7gIP",
        "outputId": "291f6c9c-89f6-427e-991d-d34bad943d1b"
      },
      "execution_count": 17,
      "outputs": [
        {
          "output_type": "stream",
          "name": "stdout",
          "text": [
            "Matrix F (3x3):\n",
            "[[5 7 8]\n",
            " [8 8 9]\n",
            " [3 8 4]]\n",
            "\n",
            "Determinant of Matrix F:\n",
            "84.99999999999994\n"
          ]
        }
      ]
    },
    {
      "cell_type": "code",
      "source": [
        "#85. Create a square matrix `G` and find its inverse\n",
        "G = np.random.randint(1, 10, (3, 3))\n",
        "if np.linalg.det(G) != 0:\n",
        "    inverse_G = np.linalg.inv(G)\n",
        "    print(\"Matrix G (3x3):\")\n",
        "    print(G)\n",
        "    print(\"\\nInverse of Matrix G:\")\n",
        "    print(inverse_G)\n",
        "else:\n",
        "    print(\"Matrix G is singular and does not have an inverse.\")"
      ],
      "metadata": {
        "colab": {
          "base_uri": "https://localhost:8080/"
        },
        "id": "ixbieeGa7vth",
        "outputId": "9ccd5f27-71b3-486c-8dcb-a5b3fe103138"
      },
      "execution_count": 18,
      "outputs": [
        {
          "output_type": "stream",
          "name": "stdout",
          "text": [
            "Matrix G (3x3):\n",
            "[[4 9 6]\n",
            " [1 3 2]\n",
            " [2 5 9]]\n",
            "\n",
            "Inverse of Matrix G:\n",
            "[[ 1.         -3.          0.        ]\n",
            " [-0.29411765  1.41176471 -0.11764706]\n",
            " [-0.05882353 -0.11764706  0.17647059]]\n"
          ]
        }
      ]
    },
    {
      "cell_type": "code",
      "source": [],
      "metadata": {
        "id": "G5K9vQfE8DWd"
      },
      "execution_count": null,
      "outputs": []
    }
  ]
}