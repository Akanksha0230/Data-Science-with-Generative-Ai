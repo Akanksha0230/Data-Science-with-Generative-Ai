{
  "nbformat": 4,
  "nbformat_minor": 0,
  "metadata": {
    "colab": {
      "provenance": []
    },
    "kernelspec": {
      "name": "python3",
      "display_name": "Python 3"
    },
    "language_info": {
      "name": "python"
    }
  },
  "cells": [
    {
      "cell_type": "code",
      "execution_count": null,
      "metadata": {
        "colab": {
          "base_uri": "https://localhost:8080/"
        },
        "id": "o-XYVtqvUZIN",
        "outputId": "ac538ad3-8df0-4e7b-a7b8-24883efe2de6"
      },
      "outputs": [
        {
          "output_type": "stream",
          "name": "stdout",
          "text": [
            "Hello, World!\n",
            "This is an example file.\n",
            "It contains multiple lines of text.\n",
            "\n"
          ]
        }
      ],
      "source": [
        "1. # write a code to read the contents of a file in Python.\n",
        "\n",
        "with open('example.txt', 'w') as file:\n",
        "    file.write(\"Hello, World!\\n\")\n",
        "    file.write(\"This is an example file.\\n\")\n",
        "    file.write(\"It contains multiple lines of text.\\n\")\n",
        "with open('example.txt', 'r') as file:\n",
        "    contents = file.read()\n",
        "print(contents)\n"
      ]
    },
    {
      "cell_type": "code",
      "source": [
        "#2. Write code to write a file in Python.\n",
        "\n",
        "with open('example.txt', 'w') as file:\n",
        "    file.write(\"Hello, World!\\n\")\n",
        "    file.write(\"This is an example file.\\n\")\n",
        "    file.write(\"It contains multiple lines of text.\\n\")\n"
      ],
      "metadata": {
        "id": "I-97hicNXRaT"
      },
      "execution_count": 1,
      "outputs": []
    },
    {
      "cell_type": "code",
      "source": [
        "#3. Write a code to append to a file in Python.\n",
        "\n",
        "with open('example.txt', 'a') as file:\n",
        "    file.write(\"Appending this line to the file.\\n\")\n",
        "    file.write(\"Adding another line to the file.\\n\")\n",
        "\n",
        "with open('example.txt', 'r') as file:\n",
        "    contents = file.read()\n",
        "\n",
        "print(contents)"
      ],
      "metadata": {
        "colab": {
          "base_uri": "https://localhost:8080/"
        },
        "id": "PEm6rJkHZjzY",
        "outputId": "3771fc29-50a8-4812-819c-b672979da4f8"
      },
      "execution_count": null,
      "outputs": [
        {
          "output_type": "stream",
          "name": "stdout",
          "text": [
            "Hello, World!\n",
            "This is an example file.\n",
            "It contains multiple lines of text.\n",
            "Appending this line to the file.\n",
            "Adding another line to the file.\n",
            "\n"
          ]
        }
      ]
    },
    {
      "cell_type": "code",
      "source": [
        "#4. Write a code to read a binary file in Python\n",
        "\n",
        "with open('example.bin', 'wb') as file:\n",
        "    file.write(b'\\x00\\x01\\x02\\x03\\x04\\x05\\x06\\x07\\x08\\x09')\n",
        "with open('example.bin', 'rb') as file:\n",
        "    contents = file.read()\n",
        "print(contents)\n"
      ],
      "metadata": {
        "colab": {
          "base_uri": "https://localhost:8080/"
        },
        "id": "bqG_EgtybgGE",
        "outputId": "f51ae98a-e810-4184-97cd-13aa3c07cd1a"
      },
      "execution_count": null,
      "outputs": [
        {
          "output_type": "stream",
          "name": "stdout",
          "text": [
            "b'\\x00\\x01\\x02\\x03\\x04\\x05\\x06\\x07\\x08\\t'\n"
          ]
        }
      ]
    },
    {
      "cell_type": "markdown",
      "source": [
        "5. What happens if we don't use 'with' keyword with 'open' in Python?\n",
        "\n",
        "\n",
        "Answer-->\n",
        "If we don't use the with keyword with open in Python, we must manually close the file using file.close(). Failing to do so can lead to resource leaks, as the file remains open until explicitly closed. This can also result in data loss or corruption if the file is not properly flushed and closed. Using with ensures that the file is automatically closed, even if an exception occurs."
      ],
      "metadata": {
        "id": "sq-TwaEufQJ0"
      }
    },
    {
      "cell_type": "markdown",
      "source": [
        "6. Explain the concept of buffering in file handling and how it helps in improving read and write operations.\n",
        "\n",
        "Answer--> Buffering in file handling refers to the temporary storage of data in a buffer during read and write operations. This helps improve performance by reducing the number of direct interactions with the underlying storage system, which can be slow. Buffered reads and writes allow for larger chunks of data to be processed at once, minimizing overhead and improving efficiency. It also helps manage data transfer smoothly, ensuring that operations are more efficient and less prone to errors.\n"
      ],
      "metadata": {
        "id": "L-xC91XpgNjp"
      }
    },
    {
      "cell_type": "markdown",
      "source": [
        "7. Describe the steps involved in implementing buffered file handling in a programming language of your choice.\n",
        "\n",
        "Anawer-->  To implement buffered file handling in Python, first, open the file using open() with the appropriate mode and specify the buffering size if needed. Use the read() or write() methods to perform buffered read/write operations. The buffer automatically manages data transfer between the program and the file. Finally, close the file with close() or use a with statement to ensure automatic closure and flushing of the buffer."
      ],
      "metadata": {
        "id": "f07jfOyXhnT6"
      }
    },
    {
      "cell_type": "code",
      "source": [
        "#8. write a Python function to read a text file using buffered reading and return its contents.\n",
        "def read_text_file(filename, buffer_size=4096):\n",
        "    try:\n",
        "        with open(filename, 'r', buffering=buffer_size) as file:\n",
        "            contents = file.read()\n",
        "        return contents\n",
        "    except IOError as e:\n",
        "        print(f\"Error reading the file: {e}\")\n",
        "filename = 'example.txt'\n",
        "file_contents = read_text_file(filename)\n",
        "print(file_contents)\n"
      ],
      "metadata": {
        "colab": {
          "base_uri": "https://localhost:8080/"
        },
        "id": "rS1jm_hZpyRJ",
        "outputId": "46c693e2-c2af-4bca-f251-bf73dbebf1ab"
      },
      "execution_count": null,
      "outputs": [
        {
          "output_type": "stream",
          "name": "stdout",
          "text": [
            "Hello, World!\n",
            "This is an example file.\n",
            "It contains multiple lines of text.\n",
            "Appending this line to the file.\n",
            "Adding another line to the file.\n",
            "\n"
          ]
        }
      ]
    },
    {
      "cell_type": "markdown",
      "source": [
        "9. What are the advantages of using buffered reading over direct file reading in Python?\n",
        "\n",
        "Answer-->\n",
        "Using buffered reading in Python offers several advantages over direct file reading:\n",
        "\n",
        "Improved Performance: Buffered reading allows for larger chunks of data to be processed at once, reducing the number of interactions with the underlying storage system.\n",
        "\n",
        "Efficiency: It minimizes overhead by managing data transfers more efficiently between the program and the file, resulting in faster read operations.\n",
        "\n",
        "Reduced I/O Operations: By reading data into memory in chunks, buffered reading decreases the frequency of I/O operations, which are typically slower compared to memory operations.\n",
        "\n",
        "Enhanced Control: It provides control over the size of data read, optimizing resource utilization and ensuring smoother handling of file contents."
      ],
      "metadata": {
        "id": "FUuuoWuwrAI-"
      }
    },
    {
      "cell_type": "code",
      "source": [
        "#10. Write a Python code snippet to append content to a file using buffered writing.\n",
        "def append_to_file(filename, content, buffer_size=4096):\n",
        "    try:\n",
        "        with open(filename, 'a', buffering=buffer_size) as file:\n",
        "            file.write(content)\n",
        "        print(f\"Content appended to {filename} successfully.\")\n",
        "    except IOError as e:\n",
        "        print(f\"Error appending to the file: {e}\")\n",
        "filename = 'example.txt'\n",
        "content_to_append = \"Additional line of content.\\n\"\n",
        "append_to_file(filename, content_to_append)\n"
      ],
      "metadata": {
        "colab": {
          "base_uri": "https://localhost:8080/"
        },
        "id": "eJVeKF0bsMzw",
        "outputId": "086a069d-2ebd-43a4-be6a-ac5c321acad5"
      },
      "execution_count": null,
      "outputs": [
        {
          "output_type": "stream",
          "name": "stdout",
          "text": [
            "Content appended to example.txt successfully.\n"
          ]
        }
      ]
    },
    {
      "cell_type": "code",
      "source": [
        "# 11. Write a Python function that demonstrates the use of close() method on a file.\n",
        "def write_and_close_file(filename, content):\n",
        "    try:\n",
        "        file = open(filename, 'w')\n",
        "        file.write(content)\n",
        "        file.close()\n",
        "        print(f\"Content successfully written to {filename} and the file is now closed.\")\n",
        "    except IOError as e:\n",
        "        print(f\"An error occurred: {e}\")\n",
        "    finally:\n",
        "        if file and not file.closed:\n",
        "            file.close()\n",
        "            print(f\"File {filename} closed in finally block.\")\n",
        "filename = 'example.txt'\n",
        "content = \"This is an example content.\"\n",
        "write_and_close_file(filename, content)\n"
      ],
      "metadata": {
        "id": "sRyEZPQNtO6L",
        "colab": {
          "base_uri": "https://localhost:8080/"
        },
        "outputId": "5c34bda3-3223-4725-d044-1c3c6c5abbe7"
      },
      "execution_count": null,
      "outputs": [
        {
          "output_type": "stream",
          "name": "stdout",
          "text": [
            "Content successfully written to example.txt and the file is now closed.\n"
          ]
        }
      ]
    },
    {
      "cell_type": "code",
      "source": [
        "#12. Create a Python function to showcase the detach() method on a file.\n",
        "import io\n",
        "def showcase_detach(filename, content):\n",
        "    try:\n",
        "        # Open the file in binary write mode and create a BufferedWriter\n",
        "        with open(filename, 'wb') as file:\n",
        "            buffered_writer = io.BufferedWriter(file)\n",
        "            buffered_writer.write(content.encode('utf-8'))\n",
        "            buffered_writer.flush()\n",
        "            raw_file = buffered_writer.detach()\n",
        "            print(f\"Buffered writer detached. Raw file mode: {raw_file.mode}\")\n",
        "            raw_file.close()\n",
        "            print(f\"Raw file {filename} is now closed.\")\n",
        "    except IOError as e:\n",
        "        print(f\"An error occurred: {e}\")\n",
        "filename = 'example.bin'\n",
        "content = \"This is an example content.\"\n",
        "showcase_detach(filename, content)"
      ],
      "metadata": {
        "colab": {
          "base_uri": "https://localhost:8080/"
        },
        "id": "d42EIjpdIYSi",
        "outputId": "5f5cf795-aa33-404a-ac2b-3315eb2f8388"
      },
      "execution_count": null,
      "outputs": [
        {
          "output_type": "stream",
          "name": "stdout",
          "text": [
            "Buffered writer detached. Raw file mode: wb\n",
            "Raw file example.bin is now closed.\n"
          ]
        }
      ]
    },
    {
      "cell_type": "code",
      "source": [
        "13.# write a Python function to demonstrate the use of the seek() method to change the file position.\n",
        "def demonstrate_seek(filename):\n",
        "    try:\n",
        "        with open(filename, 'w') as file:\n",
        "            file.write(\"Hello, this is a demonstration of the seek method.\\n\")\n",
        "        with open(filename, 'r') as file:\n",
        "            print(f\"First 5 characters: {file.read(5)}\")\n",
        "            file.seek(0)\n",
        "            print(\"File position reset to the beginning.\")\n",
        "            print(f\"First 5 characters after seek: {file.read(5)}\")\n",
        "            file.seek(17)\n",
        "            print(\"File position moved to the 18th character.\")\n",
        "            print(f\"Next 10 characters after seek: {file.read(10)}\")\n",
        "    except IOError as e:\n",
        "        print(f\"An error occurred: {e}\")\n",
        "filename = 'example_seek.txt'\n",
        "demonstrate_seek(filename)\n"
      ],
      "metadata": {
        "colab": {
          "base_uri": "https://localhost:8080/"
        },
        "id": "E41uVCVnKCSe",
        "outputId": "ecaf550a-38ad-4924-9206-99a727be1140"
      },
      "execution_count": null,
      "outputs": [
        {
          "output_type": "stream",
          "name": "stdout",
          "text": [
            "First 5 characters: Hello\n",
            "File position reset to the beginning.\n",
            "First 5 characters after seek: Hello\n",
            "File position moved to the 18th character.\n",
            "Next 10 characters after seek: demonstrat\n"
          ]
        }
      ]
    },
    {
      "cell_type": "code",
      "source": [
        "# 14.Create a Python function to return the file descriptor(integer number) of a file using the fileno() method.\n",
        "def get_file_descriptor(filename):\n",
        "    try:\n",
        "        with open(filename, 'r') as file:\n",
        "            file_descriptor = file.fileno()\n",
        "            print(f\"File descriptor for {filename}: {file_descriptor}\")\n",
        "            return file_descriptor\n",
        "    except IOError as e:\n",
        "        print(f\"An error occurred: {e}\")\n",
        "        return None\n",
        "filename = 'example_fileno.txt'\n",
        "with open(filename, 'w') as f:\n",
        "    f.write(\"This is a test file for demonstrating fileno().\")\n",
        "\n",
        "file_descriptor = get_file_descriptor(filename)"
      ],
      "metadata": {
        "colab": {
          "base_uri": "https://localhost:8080/"
        },
        "id": "AAziK8V7LswJ",
        "outputId": "9ab5ece9-d97e-415e-d252-fe8bd3182dde"
      },
      "execution_count": null,
      "outputs": [
        {
          "output_type": "stream",
          "name": "stdout",
          "text": [
            "File descriptor for example_fileno.txt: 42\n"
          ]
        }
      ]
    },
    {
      "cell_type": "code",
      "source": [
        "# 15. Write a Python function to return the current position of the file's object using the tell() method.\n",
        "def get_file_position(filename):\n",
        "    try:\n",
        "        with open(filename, 'r') as file:\n",
        "            content = file.read(10)\n",
        "            print(f\"Read content: {content}\")\n",
        "            position = file.tell()\n",
        "            print(f\"Current file position: {position}\")\n",
        "            return position\n",
        "    except IOError as e:\n",
        "        print(f\"An error occurred: {e}\")\n",
        "        return None\n",
        "filename = 'example_tell.txt'\n",
        "with open(filename, 'w') as f:\n",
        "    f.write(\"This is a test file for demonstrating tell().\")\n",
        "\n",
        "current_position = get_file_position(filename)"
      ],
      "metadata": {
        "colab": {
          "base_uri": "https://localhost:8080/"
        },
        "id": "IM1JhDk8L8nc",
        "outputId": "688b2655-a40e-4983-e75a-fe24f952784f"
      },
      "execution_count": null,
      "outputs": [
        {
          "output_type": "stream",
          "name": "stdout",
          "text": [
            "Read content: This is a \n",
            "Current file position: 10\n"
          ]
        }
      ]
    },
    {
      "cell_type": "code",
      "source": [
        "#16. Create a Python program that logs a message to a file using the logging module.\n",
        "import logging\n",
        "def setup_logger(log_filename):\n",
        "    logging.basicConfig(\n",
        "        filename=log_filename,\n",
        "        level=logging.INFO,\n",
        "        format='%(asctime)s - %(levelname)s - %(message)s',\n",
        "        filemode='a'\n",
        "    )\n",
        "def log_message(message):\n",
        "    logging.info(message)\n",
        "log_filename = 'example.log'\n",
        "setup_logger(log_filename)\n",
        "log_message(\"This is a test log message.\")\n",
        "\n",
        "print(f\"Message logged to {log_filename}\")\n",
        "\n"
      ],
      "metadata": {
        "id": "onBXUCuuMODU",
        "colab": {
          "base_uri": "https://localhost:8080/"
        },
        "outputId": "8d3cdba1-7c78-4e4a-a5d5-ae29ac78403d"
      },
      "execution_count": null,
      "outputs": [
        {
          "output_type": "stream",
          "name": "stdout",
          "text": [
            "Message logged to example.log\n"
          ]
        }
      ]
    },
    {
      "cell_type": "markdown",
      "source": [
        "17.Explain the importance of logging levels in Python' logging module.\n",
        "\n",
        "Answer--> Logging levels in Python's logging module are crucial for categorizing the significance and severity of log messages. They help developers control the verbosity of logs, allowing for filtering of messages based on their importance (e.g., DEBUG, INFO, WARNING, ERROR, CRITICAL). This ensures that critical issues can be highlighted while less important information can be logged for debugging purposes without overwhelming the log files. Proper use of logging levels enhances the efficiency of monitoring and troubleshooting applications."
      ],
      "metadata": {
        "id": "dz4OrDvdTPSO"
      }
    },
    {
      "cell_type": "code",
      "source": [
        "#18. Create a Python program that uses the debugger to find the value of a variable inside a loop.\n",
        "import logging\n",
        "def setup_logger():\n",
        "    logging.basicConfig(\n",
        "        level=logging.DEBUG,\n",
        "        format='%(asctime)s - %(levelname)s - %(message)s'\n",
        "    )\n",
        "def find_variable_values(n):\n",
        "    setup_logger()\n",
        "    total = 0\n",
        "    for i in range(1, n + 1):\n",
        "        total += i\n",
        "        logging.debug(f\"Current value of i: {i}, Current total: {total}\")\n",
        "\n",
        "    return total\n",
        "n = 10\n",
        "final_total = find_variable_values(n)\n",
        "print(f\"The final total is: {final_total}\")\n"
      ],
      "metadata": {
        "id": "ue15Hr1pMilW",
        "colab": {
          "base_uri": "https://localhost:8080/"
        },
        "outputId": "32bfb7f0-6983-4ad3-f5e4-d4ffae30c369"
      },
      "execution_count": null,
      "outputs": [
        {
          "output_type": "stream",
          "name": "stdout",
          "text": [
            "The final total is: 55\n"
          ]
        }
      ]
    },
    {
      "cell_type": "code",
      "source": [
        "#19. Create a Python program the demonstrate setting breakpoints and inspecting variable using the debugger.\n",
        "import logging\n",
        "\n",
        "def setup_logger():\n",
        "    logging.basicConfig(\n",
        "        level=logging.DEBUG,\n",
        "        format='%(asctime)s - %(levelname)s - %(message)s'\n",
        "    )\n",
        "\n",
        "def process_numbers(numbers):\n",
        "    setup_logger()\n",
        "\n",
        "    result = 0\n",
        "    for index, number in enumerate(numbers):\n",
        "        logging.debug(f\"Before processing index: {index}, number: {number}, current result: {result}\")\n",
        "\n",
        "        result += number\n",
        "        logging.debug(f\"After processing index: {index}, number: {number}, updated result: {result}\")\n",
        "\n",
        "    return result\n",
        "numbers = [1, 2, 3, 4, 5]\n",
        "final_result = process_numbers(numbers)\n",
        "print(f\"The final result is: {final_result}\")"
      ],
      "metadata": {
        "id": "-N7ELKH0Mv9-",
        "colab": {
          "base_uri": "https://localhost:8080/"
        },
        "outputId": "096cb62c-dee5-4381-935c-1afd0ff12954"
      },
      "execution_count": null,
      "outputs": [
        {
          "output_type": "stream",
          "name": "stdout",
          "text": [
            "The final result is: 15\n"
          ]
        }
      ]
    },
    {
      "cell_type": "code",
      "source": [
        "#20. Create a Python program that uses the debugger to trace a recursive function.\n",
        "\n",
        "def setup_logger():\n",
        "    logging.basicConfig(\n",
        "        level=logging.DEBUG,\n",
        "        format='%(asctime)s - %(levelname)s - %(message)s'\n",
        "    )\n",
        "\n",
        "def factorial(n):\n",
        "    setup_logger()\n",
        "\n",
        "    def inner_factorial(n, depth=0):\n",
        "        logging.debug(f\"{'  ' * depth}Entering factorial: n={n}\")\n",
        "\n",
        "        if n == 0 or n == 1:\n",
        "            result = 1\n",
        "        else:\n",
        "            result = n * inner_factorial(n - 1, depth + 1)\n",
        "        logging.debug(f\"{'  ' * depth}Exiting factorial: n={n}, result={result}\")\n",
        "\n",
        "        return result\n",
        "\n",
        "    return inner_factorial(n)\n",
        "n = 5\n",
        "result = factorial(n)\n",
        "print(f\"The factorial of {n} is: {result}\")"
      ],
      "metadata": {
        "id": "hH0febeCM-_5",
        "colab": {
          "base_uri": "https://localhost:8080/"
        },
        "outputId": "19bf0321-c301-46a1-b857-1c6d73c4678d"
      },
      "execution_count": null,
      "outputs": [
        {
          "output_type": "stream",
          "name": "stdout",
          "text": [
            "The factorial of 5 is: 120\n"
          ]
        }
      ]
    },
    {
      "cell_type": "code",
      "source": [
        "#21. Write a try-except block to handle a ZeroDivisionError.\n",
        "def divide_numbers(a, b):\n",
        "    try:\n",
        "        result = a / b\n",
        "    except ZeroDivisionError as e:\n",
        "        print(f\"Error: {e} occurred. Division by zero is not allowed.\")\n",
        "    else:\n",
        "        print(f\"The result of {a} divided by {b} is: {result}\")\n",
        "divide_numbers(10, 2)\n",
        "divide_numbers(10, 0)\n"
      ],
      "metadata": {
        "id": "rahJVgFsNHhP",
        "colab": {
          "base_uri": "https://localhost:8080/"
        },
        "outputId": "730fc0c7-2904-481a-8131-72e9f5a2521e"
      },
      "execution_count": null,
      "outputs": [
        {
          "output_type": "stream",
          "name": "stdout",
          "text": [
            "The result of 10 divided by 2 is: 5.0\n",
            "Error: division by zero occurred. Division by zero is not allowed.\n"
          ]
        }
      ]
    },
    {
      "cell_type": "markdown",
      "source": [
        "22. How does the else block work with try-except?\n",
        "\n",
        "Answer--> The try block contains code that may raise an exception.\n",
        "If an exception is raised, control shifts to the except block, where the exception is handled.If no exception occurs in the try block, the else block (if present) is executed immediately after the try block.\n",
        "The else block is skipped if an exception is raised because control jumps directly to the except block."
      ],
      "metadata": {
        "id": "foZl9rAMPIE1"
      }
    },
    {
      "cell_type": "code",
      "source": [
        "#23. Implement a try-except-else block to open and read a file.\n",
        "def read_file(filename):\n",
        "    try:\n",
        "        with open(filename, 'r') as file:\n",
        "            content = file.read()\n",
        "    except FileNotFoundError:\n",
        "        print(f\"Error: The file '{filename}' does not exist.\")\n",
        "    except IOError as e:\n",
        "        print(f\"Error: An IOError occurred - {e}\")\n",
        "    else:\n",
        "        print(f\"File '{filename}' opened successfully.\")\n",
        "        print(\"Content:\")\n",
        "        print(content)\n",
        "filename = \"example.txt\"\n",
        "read_file(filename)\n"
      ],
      "metadata": {
        "id": "DXMe49INOiQk",
        "colab": {
          "base_uri": "https://localhost:8080/"
        },
        "outputId": "54ea6f84-d947-496e-d420-d64650053552"
      },
      "execution_count": null,
      "outputs": [
        {
          "output_type": "stream",
          "name": "stdout",
          "text": [
            "Error: The file 'example.txt' does not exist.\n"
          ]
        }
      ]
    },
    {
      "cell_type": "markdown",
      "source": [
        "24. what is the purpose of the finally block in exception handling.\n",
        "\n",
        "Answer--> Execution Guarantee: It ensures that a specific block of code executes, regardless of whether an exception occurred or not.\n",
        "\n",
        "Cleanup Operations: It is used to perform cleanup actions such as closing files or releasing resources.\n",
        "\n",
        "Error Handling Completion: It allows finalization of operations that should occur even if an exception is raised.\n",
        "\n",
        "Post-Exception Actions: It is executed after the try and except blocks, providing a place for code that must run regardless of exceptions."
      ],
      "metadata": {
        "id": "S8wDSjMvO7Zb"
      }
    },
    {
      "cell_type": "code",
      "source": [
        "#25. Write a try-except-finally block to handle a ValueError.\n",
        "def divide_numbers(a, b):\n",
        "    try:\n",
        "        result = a / b\n",
        "    except ZeroDivisionError as e:\n",
        "        print(f\"Error: {e} occurred. Division by zero is not allowed.\")\n",
        "    except ValueError as e:\n",
        "        print(f\"Error: {e} occurred. Please provide valid numeric inputs.\")\n",
        "    finally:\n",
        "        print(\"Executing finally block.\")\n",
        "divide_numbers(10, 2)\n",
        "divide_numbers(10, 0)"
      ],
      "metadata": {
        "id": "e3m2VE0sOrMK",
        "colab": {
          "base_uri": "https://localhost:8080/"
        },
        "outputId": "ccf0338b-819c-47f6-f7f0-f3276cb0ccb4"
      },
      "execution_count": null,
      "outputs": [
        {
          "output_type": "stream",
          "name": "stdout",
          "text": [
            "Executing finally block.\n",
            "Error: division by zero occurred. Division by zero is not allowed.\n",
            "Executing finally block.\n"
          ]
        }
      ]
    },
    {
      "cell_type": "markdown",
      "source": [
        "26. How multiple except blocks work in Python?\n",
        "\n",
        "Answer-->  multiple except blocks allow you to handle different types of exceptions separately within a try block. Each except block specifies a particular exception type, and the corresponding block is executed when that specific exception occurs, enabling tailored error handling based on the type of exception raised.\n"
      ],
      "metadata": {
        "id": "3TldOqToPR6o"
      }
    },
    {
      "cell_type": "markdown",
      "source": [
        "27. What is a custom exception in Python?\n",
        "\n",
        "Answer--> A custom exception in Python is a user-defined exception class that extends the base Exception class or its subclasses. It allows programmers to define and raise specific errors based on application-specific conditions or requirements. Custom exceptions enhance code readability and maintainability by providing clear, meaningful error messages tailored to specific scenarios within the application's logic."
      ],
      "metadata": {
        "id": "xQGX3glNPbQ5"
      }
    },
    {
      "cell_type": "code",
      "source": [
        "#28. Create a custom exception class with a message.\n",
        "class CustomException(Exception):\n",
        "    def __init__(self, message=\"This is a custom exception\"):\n",
        "        self.message = message\n",
        "        super().__init__(self.message)\n",
        "try:\n",
        "    raise CustomException(\"Custom exception message\")\n",
        "except CustomException as e:\n",
        "    print(e)"
      ],
      "metadata": {
        "id": "0tbt2jnDPtrs",
        "colab": {
          "base_uri": "https://localhost:8080/"
        },
        "outputId": "7741d4ba-0906-4279-9d28-99e538108f22"
      },
      "execution_count": null,
      "outputs": [
        {
          "output_type": "stream",
          "name": "stdout",
          "text": [
            "Custom exception message\n"
          ]
        }
      ]
    },
    {
      "cell_type": "code",
      "source": [
        "#29. Write a code to raise a custom exception in PYthon.\n",
        "class CustomException(Exception):\n",
        "    def __init__(self, message=\"This is a custom exception\"):\n",
        "        self.message = message\n",
        "        super().__init__(self.message)\n",
        "\n",
        "def check_value(value):\n",
        "    if value < 0:\n",
        "        raise CustomException(\"Value must be non-negative.\")\n",
        "try:\n",
        "    check_value(-1)\n",
        "except CustomException as e:\n",
        "    print(f\"Caught CustomException: {e}\")"
      ],
      "metadata": {
        "id": "l704TROwPwVl",
        "colab": {
          "base_uri": "https://localhost:8080/"
        },
        "outputId": "55234a13-1aad-43d8-d962-4f03d302ccf8"
      },
      "execution_count": null,
      "outputs": [
        {
          "output_type": "stream",
          "name": "stdout",
          "text": [
            "Caught CustomException: Value must be non-negative.\n"
          ]
        }
      ]
    },
    {
      "cell_type": "code",
      "source": [
        "30.# Write a function that raise a custom exception when a value is negative.\n",
        "class NegativeValueError(Exception):\n",
        "    def __init__(self, value):\n",
        "        self.message = f\"Error: Negative value ({value}) is not allowed.\"\n",
        "        super().__init__(self.message)\n",
        "\n",
        "def process_value(value):\n",
        "    if value < 0:\n",
        "        raise NegativeValueError(value)\n",
        "    else:\n",
        "        print(f\"Value {value} is valid.\")\n",
        "try:\n",
        "    process_value(10)\n",
        "    process_value(-5)\n",
        "except NegativeValueError as e:\n",
        "    print(e)"
      ],
      "metadata": {
        "id": "brZLl3kJP6FH",
        "colab": {
          "base_uri": "https://localhost:8080/"
        },
        "outputId": "70a4b1f6-2962-4b3c-b5ad-762d8b4951ca"
      },
      "execution_count": null,
      "outputs": [
        {
          "output_type": "stream",
          "name": "stdout",
          "text": [
            "Value 10 is valid.\n",
            "Error: Negative value (-5) is not allowed.\n"
          ]
        }
      ]
    },
    {
      "cell_type": "markdown",
      "source": [
        "31. What is the role of try, except, else, and finally in handling exceptions.\n",
        "\n",
        "Answer--> try: Encloses the code block where exceptions may occur. It monitors for exceptions during its execution.\n",
        "\n",
        "\n",
        "except: Catches specific exceptions raised within the try block. It provides handling instructions for each caught exception type.\n",
        "\n",
        "\n",
        "else: Executes if no exceptions are raised in the try block. It typically contains code that should only run if the try block succeeds.\n",
        "\n",
        "\n",
        "finally: Executes regardless of whether an exception occurs or not. It is useful for cleanup actions, such as closing files or releasing resources."
      ],
      "metadata": {
        "id": "skVpi8evPirC"
      }
    },
    {
      "cell_type": "markdown",
      "source": [
        "32.How can custom exceptions improve code readability and amaintability?\n",
        "\n",
        "Answer--> Clarity: They provide descriptive names that reflect specific error conditions, making it clear what went wrong.\n",
        "\n",
        "\n",
        "Separation of Concerns: Custom exceptions isolate error handling logic from core business logic, enhancing code organization.\n",
        "\n",
        "\n",
        "Ease of Debugging: They simplify debugging by pinpointing issues with informative error messages tailored to specific scenarios.\n",
        "\n",
        "\n",
        "Consistency: By defining standard error types, they promote consistent error handling practices across the codebase, aiding in maintenance and updates."
      ],
      "metadata": {
        "id": "zUZ8W36XQSVr"
      }
    },
    {
      "cell_type": "markdown",
      "source": [
        "33. What is multithreading?\n",
        "\n",
        "Anwer--> Multithreading refers to concurrent execution of multiple threads within a process, allowing tasks to run concurrently and utilize CPU resources efficiently. It enables programs to perform multiple operations simultaneously, enhancing responsiveness and performance in applications that require concurrent execution of tasks."
      ],
      "metadata": {
        "id": "LcOPDzVzQdBn"
      }
    },
    {
      "cell_type": "code",
      "source": [
        "#34. Create a thread in Python.\n",
        "import threading\n",
        "def thread_function():\n",
        "    print(\"Thread is running!\")\n",
        "thread = threading.Thread(target=thread_function)\n",
        "thread.start()\n",
        "thread.join()\n"
      ],
      "metadata": {
        "id": "o4kh8z62P44C",
        "colab": {
          "base_uri": "https://localhost:8080/"
        },
        "outputId": "2fdff44f-c852-4185-d86e-35f3f143b9f7"
      },
      "execution_count": null,
      "outputs": [
        {
          "output_type": "stream",
          "name": "stdout",
          "text": [
            "Thread is running!\n"
          ]
        }
      ]
    },
    {
      "cell_type": "markdown",
      "source": [
        "35. What is the global interpreter lock(GIL in Python?\n",
        "\n",
        "Answer--> The Global Interpreter Lock (GIL) in Python is a mutex (or lock) that protects access to Python objects, preventing multiple native threads from executing Python bytecodes simultaneously in the same process. This means that only one thread can execute Python bytecode at any given time, despite Python threads being used for concurrent execution. As a result, the GIL can impact the performance of multithreaded Python programs that primarily execute CPU-bound tasks, though it does not hinder programs with I/O-bound operations as much."
      ],
      "metadata": {
        "id": "OeKpw0aQQo8s"
      }
    },
    {
      "cell_type": "code",
      "source": [
        "#36.Implement a simple multithreading example in Python.\n",
        "import threading\n",
        "import time\n",
        "def thread_function(name):\n",
        "    print(f\"Thread {name} started\")\n",
        "    time.sleep(2)\n",
        "    print(f\"Thread {name} ended\")\n",
        "threads = []\n",
        "for i in range(5):\n",
        "    thread = threading.Thread(target=thread_function, args=(i,))\n",
        "    threads.append(thread)\n",
        "    thread.start()\n",
        "for thread in threads:\n",
        "    thread.join()\n",
        "\n",
        "print(\"All threads have finished\")"
      ],
      "metadata": {
        "id": "MwAUDaywQxkH",
        "colab": {
          "base_uri": "https://localhost:8080/"
        },
        "outputId": "60d19103-5044-4433-b7cc-5b2996d4c9d6"
      },
      "execution_count": null,
      "outputs": [
        {
          "output_type": "stream",
          "name": "stdout",
          "text": [
            "Thread 0 started\n",
            "Thread 1 started\n",
            "Thread 2 started\n",
            "Thread 3 started\n",
            "Thread 4 started\n",
            "Thread 0 ended\n",
            "Thread 1 ended\n",
            "Thread 2 ended\n",
            "Thread 3 ended\n",
            "Thread 4 ended\n",
            "All threads have finished\n"
          ]
        }
      ]
    },
    {
      "cell_type": "markdown",
      "source": [
        "37. what id the purpose of the join( method in threading?\n",
        "\n",
        "Answer--> The join() method in threading is used to ensure that the main program waits for all threads to complete their execution before proceeding further. It blocks the main thread until the thread on which it is called terminates. This is essential for synchronizing threads and coordinating their execution, especially when the main program needs results or actions from the threads before continuing."
      ],
      "metadata": {
        "id": "NOZJ9S3GQ6Pb"
      }
    },
    {
      "cell_type": "markdown",
      "source": [
        "38. Describe a scenario where multithreading would be beneficial in Python.\n",
        "\n",
        "Answer-->\n",
        "Multithreading in Python is beneficial in scenarios where tasks can run concurrently, leveraging multiple CPU cores and improving overall performance. One such scenario is in web servers handling multiple simultaneous client requests. By using threads, the server can handle each incoming request concurrently, ensuring responsiveness and efficient resource utilization without blocking other clients. This approach allows the server to handle more requests simultaneously, enhancing scalability and user experience in web applications."
      ],
      "metadata": {
        "id": "V0y9ThVpREex"
      }
    },
    {
      "cell_type": "markdown",
      "source": [
        "39 What is multiProcessing in Python?\n",
        "\n",
        "Answer--> Multiprocessing in Python refers to the capability of running multiple processes concurrently to achieve parallelism and utilize multiple CPU cores. Unlike multithreading, multiprocessing bypasses the Global Interpreter Lock (GIL) and allows true parallel execution of Python code. It is used for CPU-bound tasks, such as intensive computations or data processing, where performance gains from parallel execution across multiple processors or cores are significant."
      ],
      "metadata": {
        "id": "9ZxChcw7ROyS"
      }
    },
    {
      "cell_type": "markdown",
      "source": [
        "40 How is multiprocessing different from multithreading in Python?\n",
        "\n",
        "Answer--> Multiprocessing in Python involves running multiple processes concurrently, utilizing separate memory spaces and allowing true parallel execution across multiple CPU cores. Each process operates independently and communicates through inter-process communication (IPC) mechanisms like pipes or queues. This approach avoids the Global Interpreter Lock (GIL), making it suitable for CPU-bound tasks.\n",
        "\n",
        "Multithreading, on the other hand, involves running multiple threads within the same process, sharing the same memory space and subject to the GIL. While threads are lighter weight and more suitable for I/O-bound tasks, they do not achieve true parallelism due to the GIL, which restricts Python bytecode execution to one thread at a time."
      ],
      "metadata": {
        "id": "qzadaSxuRUry"
      }
    },
    {
      "cell_type": "code",
      "source": [
        "#41 Create a process using the multiprocessing module in Python.\n",
        "import multiprocessing\n",
        "import os\n",
        "def process_function():\n",
        "    print(f\"Process ID: {os.getpid()} - Process is running\")\n",
        "\n",
        "if __name__ == \"__main__\":\n",
        "    process = multiprocessing.Process(target=process_function)\n",
        "    process.start()\n",
        "    process.join()\n",
        "\n",
        "    print(\"Main process continues execution\")\n"
      ],
      "metadata": {
        "id": "C4MttuL5RhQv",
        "colab": {
          "base_uri": "https://localhost:8080/"
        },
        "outputId": "ab411603-521b-4853-aba4-b38811156845"
      },
      "execution_count": null,
      "outputs": [
        {
          "output_type": "stream",
          "name": "stdout",
          "text": [
            "Process ID: 43820 - Process is running\n",
            "Main process continues execution\n"
          ]
        }
      ]
    },
    {
      "cell_type": "markdown",
      "source": [
        "42. Explain the concept of pool in the multiprocessing module.\n",
        "\n",
        "Answer--> In the multiprocessing module of Python, a pool represents a group of worker processes managed by the operating system. It enables parallel execution of tasks by distributing them across multiple processes in the pool. Tasks are assigned to processes asynchronously, allowing efficient utilization of CPU cores and facilitating concurrent execution of functions or methods across a dataset or iterable."
      ],
      "metadata": {
        "id": "dHaPY47uRqC8"
      }
    },
    {
      "cell_type": "markdown",
      "source": [
        "43. Explain inter-process communication in multiprocessing.\n",
        "\n",
        "Answer-->  Inter-process communication (IPC) in multiprocessing involves mechanisms for processes to exchange data and synchronize their actions. In Python's multiprocessing module, IPC is achieved through shared memory (using multiprocessing.Array or multiprocessing.Value) or message passing (using multiprocessing.Queue or multiprocessing.Pipe). These mechanisms enable processes to collaborate, share information, and coordinate their activities effectively while operating concurrently."
      ],
      "metadata": {
        "id": "cZEKmMcBR1Jg"
      }
    }
  ]
}