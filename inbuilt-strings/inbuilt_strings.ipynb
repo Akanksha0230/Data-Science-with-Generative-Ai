{
  "nbformat": 4,
  "nbformat_minor": 0,
  "metadata": {
    "colab": {
      "provenance": []
    },
    "kernelspec": {
      "name": "python3",
      "display_name": "Python 3"
    },
    "language_info": {
      "name": "python"
    }
  },
  "cells": [
    {
      "cell_type": "markdown",
      "source": [
        "1. What is the purpose of the len() function in Python, and how can it be used with strings?\n",
        "\n",
        "Answer-> The `len()` function in Python returns the number of elements in an object, such as the length of a string, list, or dictionary. When used with strings, `len()` returns the number of characters in the string, including spaces and punctuation, enabling counting and measuring string lengths programmatically."
      ],
      "metadata": {
        "id": "fzl9AlN56Zcg"
      }
    },
    {
      "cell_type": "markdown",
      "source": [
        "2. How can you concatenate two or more strings in Python, and can you provide an example of string concatenation?\n",
        "\n",
        "Answer-> In Python, strings can be concatenated using the + operator or the str.join() method, which joins multiple strings with a specified delimiter.\n",
        "\n",
        "example:- 1. \"Hello\" + \" \" + \"Akanksha\" would concatenate the strings to produce \"Hello Akanksha\".\n",
        "2.  \" \".join([\"Hello\", \"Akanksha\"]) would achieve the same result using the str.join() method."
      ],
      "metadata": {
        "id": "8RlsQOgU6Zm1"
      }
    },
    {
      "cell_type": "markdown",
      "source": [
        "3. What is string slicing in Python, and how can you extract a portion of a string using this method?\n",
        "\n",
        "Answer-> String slicing in Python allows you to extract a substring from a string by specifying a start index and an end index, optionally with a step size.\n",
        "\n",
        " example:- string[start:end:jump] extracts characters from the start index up to, but not including, the end index."
      ],
      "metadata": {
        "id": "vwoZxUgp6ZuK"
      }
    },
    {
      "cell_type": "markdown",
      "source": [
        "4. How can you change the case of a string in Python, and can you provide examples of both making a string all uppercase and all lowercase?\n",
        "\n",
        "Answer-> In Python, you can change the case of a string using the upper() and lower() methods.\n",
        "\n",
        "example:- \"Akanksha\".upper() returns \"AKANKSHA\" and \"Akanksha\".lower() returns \"akanksha\", respectively, converting the string to all uppercase and all lowercase."
      ],
      "metadata": {
        "id": "PMd7Fw0K6Zyp"
      }
    },
    {
      "cell_type": "markdown",
      "source": [
        "5. What does the split() method do in Python, and how can you split a string using a specific delimiter?\n",
        "\n",
        "Answer-> The split() method in Python splits a string into a list of substrings based on a specified delimiter, which defaults to whitespace if not provided.\n",
        "\n",
        "example:- \"Hello-World\".split(\"-\") would split it into [\"Hello\", \"World\"] using \"-\" as the delimiter."
      ],
      "metadata": {
        "id": "AUuiJjEz6Z2q"
      }
    }
  ]
}