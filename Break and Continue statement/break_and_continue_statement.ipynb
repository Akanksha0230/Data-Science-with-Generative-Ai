{
  "nbformat": 4,
  "nbformat_minor": 0,
  "metadata": {
    "colab": {
      "provenance": []
    },
    "kernelspec": {
      "name": "python3",
      "display_name": "Python 3"
    },
    "language_info": {
      "name": "python"
    }
  },
  "cells": [
    {
      "cell_type": "code",
      "execution_count": null,
      "metadata": {
        "colab": {
          "base_uri": "https://localhost:8080/"
        },
        "id": "ysTDygGOQ9v1",
        "outputId": "e5ce0826-ecc9-4d3e-8423-6b91d2fda9ff"
      },
      "outputs": [
        {
          "output_type": "stream",
          "name": "stdout",
          "text": [
            "1.Write a program to print numbers from 1 to 10, but stop if the number is 5.\n",
            "1\n",
            "2\n",
            "3\n",
            "4\n",
            "5\n"
          ]
        }
      ],
      "source": [
        "#1.Write a program to print numbers from 1 to 10, but stop if the number is 5.\n",
        "print(\"1.Write a program to print numbers from 1 to 10, but stop if the number is 5.\")\n",
        "i = 1\n",
        "while i<=10:\n",
        "  if i==5:\n",
        "    print(i)\n",
        "    break\n",
        "  print(i)\n",
        "  i +=1\n"
      ]
    },
    {
      "cell_type": "code",
      "source": [
        "#2.Write a program to iterate through a list and stop when encountering a specific element.\n",
        "print(\"2.Write a program to iterate through a list and stop when encountering a specific element.\")\n",
        "list1 = [23,1,6,8,\"Akanksha\",\"Ananta\",\"shashish\",\"sakshi dii\"]\n",
        "newlist=[]\n",
        "for i in list1:\n",
        "  if i == \"shashish\":\n",
        "    break\n",
        "  newlist.append(i)\n",
        "print(newlist)"
      ],
      "metadata": {
        "colab": {
          "base_uri": "https://localhost:8080/"
        },
        "id": "n04DT7seR0Gk",
        "outputId": "4bb0c04c-6b98-4c3b-b86d-b722e58cb083"
      },
      "execution_count": null,
      "outputs": [
        {
          "output_type": "stream",
          "name": "stdout",
          "text": [
            "2.Write a program to iterate through a list and stop when encountering a specific element.\n",
            "[23, 1, 6, 8, 'Akanksha', 'Ananta']\n"
          ]
        }
      ]
    },
    {
      "cell_type": "code",
      "source": [
        "#3.Write a program to skip printing even numbers from 1 to 10.\n",
        "print(\"3.Write a program to skip printing even numbers from 1 to 10.\")\n",
        "for i in range(1,11):\n",
        "  if i%2==0:\n",
        "    continue\n",
        "  print(i)"
      ],
      "metadata": {
        "colab": {
          "base_uri": "https://localhost:8080/"
        },
        "id": "pwa8wjX2Wqi0",
        "outputId": "17863dc2-5e74-4a27-cc1f-bae1eb3b93b6"
      },
      "execution_count": null,
      "outputs": [
        {
          "output_type": "stream",
          "name": "stdout",
          "text": [
            "3.Write a program to skip printing even numbers from 1 to 10.\n",
            "1\n",
            "3\n",
            "5\n",
            "7\n",
            "9\n"
          ]
        }
      ]
    },
    {
      "cell_type": "code",
      "source": [
        "#4.Write a program to print numbers from 0 to 9 using range().\n",
        "print(\"4.Write a program to print numbers from 0 to 9 using range().\")\n",
        "for i in range(10):\n",
        "  print(i)"
      ],
      "metadata": {
        "colab": {
          "base_uri": "https://localhost:8080/"
        },
        "id": "Gdja-QS-YDBD",
        "outputId": "abedc025-d068-48d0-9637-c1e1d38ec19e"
      },
      "execution_count": null,
      "outputs": [
        {
          "output_type": "stream",
          "name": "stdout",
          "text": [
            "4.Write a program to print numbers from 0 to 9 using range().\n",
            "0\n",
            "1\n",
            "2\n",
            "3\n",
            "4\n",
            "5\n",
            "6\n",
            "7\n",
            "8\n",
            "9\n"
          ]
        }
      ]
    },
    {
      "cell_type": "code",
      "source": [
        "#5.Write a program to print multiplication tables from 1 to 5, but stop after the first table is printed for each number.\n",
        "print(\"5.Write a program to print multiplication tables from 1 to 5, but stop after the first table is printed for each number.\")\n",
        "for j in range(1, 11):\n",
        "    for i in range(1, 6):\n",
        "        result = i * j\n",
        "        print(f\"{i} x {j} = {result}\\t\", end=\"\")\n",
        "        if i == 5:\n",
        "          print()\n",
        "\n"
      ],
      "metadata": {
        "colab": {
          "base_uri": "https://localhost:8080/"
        },
        "id": "7qEAAPz0ZkHr",
        "outputId": "e7905907-650a-4827-9de5-44a199c640d2"
      },
      "execution_count": null,
      "outputs": [
        {
          "output_type": "stream",
          "name": "stdout",
          "text": [
            "5.Write a program to print multiplication tables from 1 to 5, but stop after the first table is printed for each number.\n",
            "1 x 1 = 1\t2 x 1 = 2\t3 x 1 = 3\t4 x 1 = 4\t5 x 1 = 5\t\n",
            "1 x 2 = 2\t2 x 2 = 4\t3 x 2 = 6\t4 x 2 = 8\t5 x 2 = 10\t\n",
            "1 x 3 = 3\t2 x 3 = 6\t3 x 3 = 9\t4 x 3 = 12\t5 x 3 = 15\t\n",
            "1 x 4 = 4\t2 x 4 = 8\t3 x 4 = 12\t4 x 4 = 16\t5 x 4 = 20\t\n",
            "1 x 5 = 5\t2 x 5 = 10\t3 x 5 = 15\t4 x 5 = 20\t5 x 5 = 25\t\n",
            "1 x 6 = 6\t2 x 6 = 12\t3 x 6 = 18\t4 x 6 = 24\t5 x 6 = 30\t\n",
            "1 x 7 = 7\t2 x 7 = 14\t3 x 7 = 21\t4 x 7 = 28\t5 x 7 = 35\t\n",
            "1 x 8 = 8\t2 x 8 = 16\t3 x 8 = 24\t4 x 8 = 32\t5 x 8 = 40\t\n",
            "1 x 9 = 9\t2 x 9 = 18\t3 x 9 = 27\t4 x 9 = 36\t5 x 9 = 45\t\n",
            "1 x 10 = 10\t2 x 10 = 20\t3 x 10 = 30\t4 x 10 = 40\t5 x 10 = 50\t\n"
          ]
        }
      ]
    },
    {
      "cell_type": "code",
      "source": [
        "#6.Write a program to skip printing even numbers using a while loop.\n",
        "print(\"6.Write a program to skip printing even numbers using a while loop.\")\n",
        "i = 0\n",
        "while i <= 20:\n",
        "  if i %2 == 0:\n",
        "    i += 1\n",
        "    continue\n",
        "  print(i)\n",
        "  i += 1\n"
      ],
      "metadata": {
        "colab": {
          "base_uri": "https://localhost:8080/"
        },
        "id": "F5d4vSr2ay_E",
        "outputId": "0f3a8afa-b03b-404f-ee66-d38f3c328686"
      },
      "execution_count": null,
      "outputs": [
        {
          "output_type": "stream",
          "name": "stdout",
          "text": [
            "6.Write a program to skip printing even numbers using a while loop.\n",
            "1\n",
            "3\n",
            "5\n",
            "7\n",
            "9\n",
            "11\n",
            "13\n",
            "15\n",
            "17\n",
            "19\n"
          ]
        }
      ]
    },
    {
      "cell_type": "code",
      "source": [],
      "metadata": {
        "id": "5f0NkdBZj1Md"
      },
      "execution_count": null,
      "outputs": []
    }
  ]
}