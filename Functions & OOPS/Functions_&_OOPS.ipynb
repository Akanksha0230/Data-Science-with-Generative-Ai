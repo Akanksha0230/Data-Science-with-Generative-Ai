{
  "nbformat": 4,
  "nbformat_minor": 0,
  "metadata": {
    "colab": {
      "provenance": []
    },
    "kernelspec": {
      "name": "python3",
      "display_name": "Python 3"
    },
    "language_info": {
      "name": "python"
    }
  },
  "cells": [
    {
      "cell_type": "markdown",
      "source": [
        "1. Explain the importance of functions.\n",
        "\n",
        "Answer --> Functions are crucial in programming because they promote modularity and code reusability, By encapsulating specific tasks into functions, developers can write cleaner, more organized code that's easier to read and maintain. Functions also help in reducing redundancy by allowing the same code to be called multiple times with different inputs, enhancing efficiency. Additionally, they facilitate debugging and testing since individual functions can be isolated and tested separately."
      ],
      "metadata": {
        "id": "WvGO8GnzTpn8"
      }
    },
    {
      "cell_type": "code",
      "source": [
        "# 2. Write a basic function to greet students.\n",
        "\n",
        "def greet_stud(name):\n",
        "    print(f\"Hello, {name}! Welcome to the class.\")\n",
        "\n",
        "greet_stud(\"Akanksha\")"
      ],
      "metadata": {
        "colab": {
          "base_uri": "https://localhost:8080/"
        },
        "id": "WtLvKDJ6m_xN",
        "outputId": "4d5e92c1-666c-4f8a-8bc8-04b0f82bbebf"
      },
      "execution_count": null,
      "outputs": [
        {
          "output_type": "stream",
          "name": "stdout",
          "text": [
            "Hello, Akanksha! Welcome to the class.\n"
          ]
        }
      ]
    },
    {
      "cell_type": "markdown",
      "source": [
        "3. What is the difference between print and return statements?\n",
        "\n",
        "Answer--> Difference between print and return statements:\n",
        "\n",
        "1. print statement displays the output to the console while return statement sends a value back to the caller.\n",
        "\n",
        "2.print statement is used for displaying information to the user and return statement is used to pass data from a function.\n",
        "\n",
        "3.print statement produces output on the screen but return statement does not produce output.\n",
        "\n",
        "4.Function continues executing after print statement and function terminates after return statement."
      ],
      "metadata": {
        "id": "b_d9EbWinnU_"
      }
    },
    {
      "cell_type": "markdown",
      "source": [
        "4. What are *args and * *kwargs?\n",
        "\n",
        "Answer--> In Python, ***args** and ***kwargs** are used to handle variable numbers of arguments in function definitions.\n",
        "\n",
        " ***args** allows a function to accept any number of positional arguments as a tuple, making it flexible in terms of the number of inputs it can handle.\n",
        "\n",
        " ****kwargs** allows a function to accept any number of keyword arguments as a dictionary, enabling the function to handle named parameters that may not be predefined. Together, they provide a powerful way to create more generic and adaptable functions."
      ],
      "metadata": {
        "id": "9P8tYu40pIJ5"
      }
    },
    {
      "cell_type": "markdown",
      "source": [
        "5. Explain the iterator function.\n",
        "\n",
        "Answer--> An iterator function in Python uses the __iter__() and __next__() methods to allow sequential traversal of elements in a collection, such as lists or tuples. The __iter__() method initializes the iterator, while the __next__() method retrieves each element one by one. When there are no more elements to retrieve, __next__() raises a StopIteration exception, signaling the end of the iteration. This mechanism provides a clean and efficient way to loop through data structures."
      ],
      "metadata": {
        "id": "u7Gzhyf0qrkD"
      }
    },
    {
      "cell_type": "code",
      "source": [
        "# 6. Write a code that generates the squares of number from 1 to n using a generator.\n",
        "\n",
        "def generate_sq(n):\n",
        "    for i in range(1, n + 1):\n",
        "        yield i * i\n",
        "\n",
        "# Example usage:\n",
        "n = 10\n",
        "for sq in generate_sq(n):\n",
        "    print(sq)"
      ],
      "metadata": {
        "colab": {
          "base_uri": "https://localhost:8080/"
        },
        "id": "B3aDmvjMrQnG",
        "outputId": "65746be5-6da4-405d-d695-84bc9c68334e"
      },
      "execution_count": null,
      "outputs": [
        {
          "output_type": "stream",
          "name": "stdout",
          "text": [
            "1\n",
            "4\n",
            "9\n",
            "16\n",
            "25\n",
            "36\n",
            "49\n",
            "64\n",
            "81\n",
            "100\n"
          ]
        }
      ]
    },
    {
      "cell_type": "code",
      "source": [
        "# 7. Write a code that generates palindromic numbers up to n using a generator.\n",
        "def is_palindrome(n):\n",
        "    # Convert number to string and check if it reads the same forwards and backwards\n",
        "    return str(n) == str(n)[::-1]\n",
        "\n",
        "def generate_palindromes(n):\n",
        "    for num in range(1, n + 1):\n",
        "        if is_palindrome(num):\n",
        "            yield num\n",
        "n = 100\n",
        "for palindrome in generate_palindromes(n):\n",
        "    print(palindrome)"
      ],
      "metadata": {
        "colab": {
          "base_uri": "https://localhost:8080/"
        },
        "id": "nzDQYpESspp9",
        "outputId": "f2ce6ae1-1505-4c6c-c31b-cd62f0c7bcf5"
      },
      "execution_count": null,
      "outputs": [
        {
          "output_type": "stream",
          "name": "stdout",
          "text": [
            "1\n",
            "2\n",
            "3\n",
            "4\n",
            "5\n",
            "6\n",
            "7\n",
            "8\n",
            "9\n",
            "11\n",
            "22\n",
            "33\n",
            "44\n",
            "55\n",
            "66\n",
            "77\n",
            "88\n",
            "99\n"
          ]
        }
      ]
    },
    {
      "cell_type": "code",
      "source": [
        "#8. Write a code that generates even numbers from 2 to n using a generator.\n",
        "def even_numbers(n):\n",
        "    num = 2\n",
        "    while num <= n:\n",
        "        yield num\n",
        "        num += 2\n",
        "n = 20\n",
        "even_num_generator = even_numbers(n)\n",
        "\n",
        "for even_number in even_num_generator:\n",
        "    print(even_number)"
      ],
      "metadata": {
        "colab": {
          "base_uri": "https://localhost:8080/"
        },
        "id": "zbUc9sBNuDRp",
        "outputId": "8fae8768-0305-4095-96a6-fa98a6f9835f"
      },
      "execution_count": null,
      "outputs": [
        {
          "output_type": "stream",
          "name": "stdout",
          "text": [
            "2\n",
            "4\n",
            "6\n",
            "8\n",
            "10\n",
            "12\n",
            "14\n",
            "16\n",
            "18\n",
            "20\n"
          ]
        }
      ]
    },
    {
      "cell_type": "code",
      "source": [
        "#9. Write a code that generates power of two up to n using a generator.\n",
        "def generate_pow_of_two(n):\n",
        "    p = 1\n",
        "    while p <= n:\n",
        "        yield p\n",
        "        p *= 2\n",
        "n = 50\n",
        "powers_two_generator = generate_pow_of_two(n)\n",
        "\n",
        "for power in powers_two_generator:\n",
        "    print(power)"
      ],
      "metadata": {
        "colab": {
          "base_uri": "https://localhost:8080/"
        },
        "id": "RvMSE8Mau7fo",
        "outputId": "5fc99c23-769a-4518-b754-35df4c1e6d7c"
      },
      "execution_count": null,
      "outputs": [
        {
          "output_type": "stream",
          "name": "stdout",
          "text": [
            "1\n",
            "2\n",
            "4\n",
            "8\n",
            "16\n",
            "32\n"
          ]
        }
      ]
    },
    {
      "cell_type": "code",
      "source": [
        "# 10. Write a code that generates prime numbers up to n using a generator.\n",
        "def is_prime(num):\n",
        "    if num < 2:\n",
        "        return False\n",
        "    for i in range(2, int(num**0.5) + 1):\n",
        "        if num % i == 0:\n",
        "            return False\n",
        "    return True\n",
        "\n",
        "def generate_primes_up_to(n):\n",
        "    for num in range(2, n + 1):\n",
        "        if is_prime(num):\n",
        "            yield num\n",
        "n = 50\n",
        "primes_generator = generate_primes_up_to(n)\n",
        "for prime in primes_generator:\n",
        "    print(prime)"
      ],
      "metadata": {
        "colab": {
          "base_uri": "https://localhost:8080/"
        },
        "id": "DOKUhzC4vzGJ",
        "outputId": "14b5b848-0f95-420f-dd32-a995f09d03c8"
      },
      "execution_count": null,
      "outputs": [
        {
          "output_type": "stream",
          "name": "stdout",
          "text": [
            "2\n",
            "3\n",
            "5\n",
            "7\n",
            "11\n",
            "13\n",
            "17\n",
            "19\n",
            "23\n",
            "29\n",
            "31\n",
            "37\n",
            "41\n",
            "43\n",
            "47\n"
          ]
        }
      ]
    },
    {
      "cell_type": "code",
      "source": [
        "#11. Write a code that uses a lambda function to calculate the sum of two numbers.\n",
        "sum_fun = lambda x, y: x + y\n",
        "num1 = 5\n",
        "num2 = 7\n",
        "result = sum_fun(num1, num2)\n",
        "print(f\"The sum of {num1} and {num2} is: {result}\")"
      ],
      "metadata": {
        "colab": {
          "base_uri": "https://localhost:8080/"
        },
        "id": "LbTaRWYazM3Q",
        "outputId": "ba411c58-8c96-45f5-966e-daf357c2fadf"
      },
      "execution_count": null,
      "outputs": [
        {
          "output_type": "stream",
          "name": "stdout",
          "text": [
            "The sum of 5 and 7 is: 12\n"
          ]
        }
      ]
    },
    {
      "cell_type": "code",
      "source": [
        "#12. Write a code that uses a lambda function to calculate the square of a given number.\n",
        "\n",
        "square_fun = lambda x: x ** 2\n",
        "number = 5\n",
        "square = square_fun(number)\n",
        "print(f\"The square of {number} is: {square}\")"
      ],
      "metadata": {
        "colab": {
          "base_uri": "https://localhost:8080/"
        },
        "id": "--S-BtOd1Ek_",
        "outputId": "48a8caee-e171-4fc2-a5f5-90d7589cb419"
      },
      "execution_count": null,
      "outputs": [
        {
          "output_type": "stream",
          "name": "stdout",
          "text": [
            "The square of 5 is: 25\n"
          ]
        }
      ]
    },
    {
      "cell_type": "code",
      "source": [
        "#13. write a code that uses a lambda function to check whether a given number is even or odd.\n",
        "\n",
        "is_even = lambda x: x % 2 == 0\n",
        "number = 7\n",
        "if is_even(number):\n",
        "    print(f\"{number} is even.\")\n",
        "else:\n",
        "    print(f\"{number} is odd.\")"
      ],
      "metadata": {
        "colab": {
          "base_uri": "https://localhost:8080/"
        },
        "id": "fWREWV4g1h-R",
        "outputId": "5134562f-e292-4aa7-9653-447119749fa7"
      },
      "execution_count": null,
      "outputs": [
        {
          "output_type": "stream",
          "name": "stdout",
          "text": [
            "7 is odd.\n"
          ]
        }
      ]
    },
    {
      "cell_type": "code",
      "source": [
        "#15. write a code that uses a lambda function to concatenate two strings.\n",
        "\n",
        "concat_strings = lambda s1, s2: s1 + s2\n",
        "string1 = \"Pw\"\n",
        "string2 = \"skills\"\n",
        "\n",
        "concatenated_string = concat_strings(string1, string2)\n",
        "print(\"Concatenated string:\", concatenated_string)"
      ],
      "metadata": {
        "colab": {
          "base_uri": "https://localhost:8080/"
        },
        "id": "IiMuVA2q2AFu",
        "outputId": "1b2e0cae-2796-4e1b-e705-72ce0c5ecb39"
      },
      "execution_count": null,
      "outputs": [
        {
          "output_type": "stream",
          "name": "stdout",
          "text": [
            "Concatenated string: Pwskills\n"
          ]
        }
      ]
    },
    {
      "cell_type": "code",
      "source": [
        "#16. write a code that uses a lambda function to find the maximum of three given numbers.\n",
        "\n",
        "find_max = lambda x, y, z: max(x, y, z)\n",
        "num1 = 12\n",
        "num2 = 25\n",
        "num3 = 9\n",
        "max_number = find_max(num1, num2, num3)\n",
        "print(f\"The maximum number among {num1}, {num2}, and {num3} is: {max_number}\")"
      ],
      "metadata": {
        "colab": {
          "base_uri": "https://localhost:8080/"
        },
        "id": "b28fNpN52d4J",
        "outputId": "24b0d2a9-8cdc-43fa-c5f9-ec641f7efdaa"
      },
      "execution_count": null,
      "outputs": [
        {
          "output_type": "stream",
          "name": "stdout",
          "text": [
            "The maximum number among 12, 25, and 9 is: 25\n"
          ]
        }
      ]
    },
    {
      "cell_type": "code",
      "source": [
        "#17. write a code that generates the squares of even numbers from a given list.\n",
        "\n",
        "numbers = [1, 2, 3, 4, 5, 6, 7, 8, 9, 10]\n",
        "even_squares = list(map(lambda x: x ** 2, filter(lambda x: x % 2 == 0, numbers)))\n",
        "print(\"Squares of even numbers:\", even_squares)"
      ],
      "metadata": {
        "colab": {
          "base_uri": "https://localhost:8080/"
        },
        "id": "wvOVFsnT3Gxq",
        "outputId": "79d2917b-1af8-4ea8-984f-11423659682e"
      },
      "execution_count": null,
      "outputs": [
        {
          "output_type": "stream",
          "name": "stdout",
          "text": [
            "Squares of even numbers: [4, 16, 36, 64, 100]\n"
          ]
        }
      ]
    },
    {
      "cell_type": "code",
      "source": [
        "# 18. write a code that calculates the product of positive numbers from a given list.\n",
        "\n",
        "from functools import reduce\n",
        "numbers = [1, 2, -3, 4, -5, 6, 7, -8, 9, -10]\n",
        "positive_product = reduce(lambda x, y: x * y, filter(lambda x: x > 0, numbers))\n",
        "print(\"Product of positive numbers:\", positive_product)"
      ],
      "metadata": {
        "colab": {
          "base_uri": "https://localhost:8080/"
        },
        "id": "e4Cj9M9f3qV2",
        "outputId": "9b0abba7-573f-4cdf-faf7-8092b4d23141"
      },
      "execution_count": null,
      "outputs": [
        {
          "output_type": "stream",
          "name": "stdout",
          "text": [
            "Product of positive numbers: 3024\n"
          ]
        }
      ]
    },
    {
      "cell_type": "code",
      "source": [
        "#19. write a code that doubles the values of odd numbers from a given list.\n",
        "\n",
        "numbers = [1, 2, 3, 4, 5, 6, 7, 8, 9, 10]\n",
        "doubled_odd_numbers = list(map(lambda x: x * 2 if x % 2 != 0 else x, numbers))\n",
        "print(\"Doubled values of odd numbers:\", doubled_odd_numbers)"
      ],
      "metadata": {
        "colab": {
          "base_uri": "https://localhost:8080/"
        },
        "id": "yw-HyVQf4lMr",
        "outputId": "1bc40dc5-223d-444c-978b-9199f3fe8061"
      },
      "execution_count": null,
      "outputs": [
        {
          "output_type": "stream",
          "name": "stdout",
          "text": [
            "Doubled values of odd numbers: [2, 2, 6, 4, 10, 6, 14, 8, 18, 10]\n"
          ]
        }
      ]
    },
    {
      "cell_type": "code",
      "source": [
        "#20. write a code that calculates the sum of cubes of numbers from a given list.\n",
        "numbers = [1, 2, 3, 4, 5]\n",
        "cube = lambda x: x ** 3\n",
        "sum_of_cubes = sum(map(cube, numbers))\n",
        "print(\"Sum of cubes:\", sum_of_cubes)"
      ],
      "metadata": {
        "colab": {
          "base_uri": "https://localhost:8080/"
        },
        "id": "7HBWnoFa4tY6",
        "outputId": "47ad7df7-a5d8-44c9-a650-88c135c98fba"
      },
      "execution_count": null,
      "outputs": [
        {
          "output_type": "stream",
          "name": "stdout",
          "text": [
            "Sum of cubes: 225\n"
          ]
        }
      ]
    },
    {
      "cell_type": "code",
      "source": [
        "#21. write a code that filters out prime numbers from a given list.\n",
        "def is_prime(num):\n",
        "    if num < 2:\n",
        "        return False\n",
        "    for i in range(2, int(num**0.5) + 1):\n",
        "        if num % i == 0:\n",
        "            return False\n",
        "    return True\n",
        "numbers = [2, 3, 4, 5, 6, 7, 8, 9, 10, 11]\n",
        "prime_numbers = list(filter(is_prime, numbers))\n",
        "print(\"Prime numbers:\", prime_numbers)"
      ],
      "metadata": {
        "colab": {
          "base_uri": "https://localhost:8080/"
        },
        "id": "7OtqoHWi5ele",
        "outputId": "cf0cf249-17bb-4f89-8443-be207becfe8d"
      },
      "execution_count": null,
      "outputs": [
        {
          "output_type": "stream",
          "name": "stdout",
          "text": [
            "Prime numbers: [2, 3, 5, 7, 11]\n"
          ]
        }
      ]
    },
    {
      "cell_type": "code",
      "source": [
        "#22. write a code that uses a lambda function to calculate the sum of two numbers.\n",
        "sum_func = lambda x, y: x + y\n",
        "num1 = 5\n",
        "num2 = 7\n",
        "result = sum_func(num1, num2)\n",
        "print(f\"The sum of {num1} and {num2} is: {result}\")"
      ],
      "metadata": {
        "colab": {
          "base_uri": "https://localhost:8080/"
        },
        "id": "V5SmBm6T5oaO",
        "outputId": "f2ab20fe-d0e6-464c-bb0a-3088fad8711f"
      },
      "execution_count": null,
      "outputs": [
        {
          "output_type": "stream",
          "name": "stdout",
          "text": [
            "The sum of 5 and 7 is: 12\n"
          ]
        }
      ]
    },
    {
      "cell_type": "code",
      "source": [
        "#23. write a code that uses a lambda function to calculate the square of a given number.\n",
        "square_func = lambda x: x ** 2\n",
        "number = 5\n",
        "square = square_func(number)\n",
        "print(f\"The square of {number} is: {square}\")"
      ],
      "metadata": {
        "colab": {
          "base_uri": "https://localhost:8080/"
        },
        "id": "xY5ztwZN50Nb",
        "outputId": "e527e2ec-89a6-43e3-b46a-96b3e86e1606"
      },
      "execution_count": null,
      "outputs": [
        {
          "output_type": "stream",
          "name": "stdout",
          "text": [
            "The square of 5 is: 25\n"
          ]
        }
      ]
    },
    {
      "cell_type": "code",
      "source": [
        "#24. write a code that uses a lambda function to check whether a given number is even or odd.\n",
        "is_even = lambda x: x % 2 == 0\n",
        "number = 7\n",
        "if is_even(number):\n",
        "    print(f\"{number} is even.\")\n",
        "else:\n",
        "    print(f\"{number} is odd.\")"
      ],
      "metadata": {
        "colab": {
          "base_uri": "https://localhost:8080/"
        },
        "id": "m-bJrGov63Ka",
        "outputId": "98b165b9-f3f0-4a16-c284-ef3794c9023e"
      },
      "execution_count": null,
      "outputs": [
        {
          "output_type": "stream",
          "name": "stdout",
          "text": [
            "7 is odd.\n"
          ]
        }
      ]
    },
    {
      "cell_type": "code",
      "source": [
        "#25. write a code that uses a lambda function to concatenate two strings.\n",
        "\n",
        "concat_strings = lambda s1, s2: s1 + s2\n",
        "string1 = \"Pw\"\n",
        "string2 = \"skills\"\n",
        "concatenated_string = concat_strings(string1, string2)\n",
        "print(\"Concatenated string:\", concatenated_string)"
      ],
      "metadata": {
        "colab": {
          "base_uri": "https://localhost:8080/"
        },
        "id": "s2S6ef_T7LRv",
        "outputId": "c7d6595c-a0d1-486f-a925-6b1a435038cf"
      },
      "execution_count": null,
      "outputs": [
        {
          "output_type": "stream",
          "name": "stdout",
          "text": [
            "Concatenated string: Pwskills\n"
          ]
        }
      ]
    },
    {
      "cell_type": "code",
      "source": [
        "#26.Write a code that uses a lambda function to find the maximum of three given numbers.\n",
        "\n",
        "find_max = lambda x, y, z: max(x, y, z)\n",
        "num1 = 12\n",
        "num2 = 25\n",
        "num3 = 9\n",
        "max_number = find_max(num1, num2, num3)\n",
        "print(f\"The maximum number among {num1}, {num2}, and {num3} is: {max_number}\")"
      ],
      "metadata": {
        "colab": {
          "base_uri": "https://localhost:8080/"
        },
        "id": "AeTpe9E87UEz",
        "outputId": "3515d62b-e836-44a4-e62e-f2ecb86c27ba"
      },
      "execution_count": null,
      "outputs": [
        {
          "output_type": "stream",
          "name": "stdout",
          "text": [
            "The maximum number among 12, 25, and 9 is: 25\n"
          ]
        }
      ]
    },
    {
      "cell_type": "markdown",
      "source": [
        "27. What is encapsulation in OOP?\n",
        "\n",
        "Answer--> Encapsulation in object-oriented programming (OOP) refers to the bundling of data (attributes) and methods (functions) that operate on the data into a single unit known as a class. It allows for data hiding, where the internal state of an object is protected from direct external access and modification, ensuring that sensitive information is accessible only through well-defined interfaces (public methods). Encapsulation helps in achieving modularity and reusability by promoting clearer and more maintainable code, reducing complexity and potential errors through controlled access to class members."
      ],
      "metadata": {
        "id": "uiNx2zhM8I9G"
      }
    },
    {
      "cell_type": "markdown",
      "source": [
        "28. Explain The use of access modifiers in Python classes.\n",
        "\n",
        "Answer--> In Python, access modifiers (like public, protected, and private) are not strictly enforced as in some other languages like Java. However, they are conventionally indicated using underscores:\n",
        "\n",
        "\n",
        "**Single underscore** _ prefix indicates a protected member.\n",
        "\n",
        "**Double underscore** __ prefix indicates a private member.\n",
        "There's no strict public modifier; attributes without underscores are generally considered public.\n",
        "\n",
        "These conventions help indicate intended usage and encourage safer coding practices by discouraging direct access to private or protected attributes outside the class."
      ],
      "metadata": {
        "id": "_pAGO9cO8xC2"
      }
    },
    {
      "cell_type": "markdown",
      "source": [
        "29. What is inheritance in OOP?\n",
        "\n",
        "Answer--> Inheritance in object-oriented programming (OOP) is the mechanism where a class (subclass or derived class) inherits attributes and behaviors (methods) from another class (superclass or base class). It promotes code reuse by allowing subclasses to extend or override functionalities of the superclass, facilitating hierarchical relationships and specialization among classes."
      ],
      "metadata": {
        "id": "5zBziA5i9b7b"
      }
    },
    {
      "cell_type": "markdown",
      "source": [
        "30. Define polymorphism in OOP.\n",
        "\n",
        "Answer--> Polymorphism in object-oriented programming (OOP) refers to the ability of different classes to be treated as instances of the same superclass, while each class can have its own specific implementation of methods defined in the superclass. It allows for code flexibility and adaptability by enabling methods to behave differently based on the object's type or class, enhancing code readability and reducing redundancy through method overloading and overriding."
      ],
      "metadata": {
        "id": "AQyrZ8hH90kP"
      }
    },
    {
      "cell_type": "markdown",
      "source": [
        "31. Explain method Overriding in Python.\n",
        "\n",
        "Answer--> Method overriding in Python occurs when a subclass provides a specific implementation for a method that is already defined in its superclass. It allows the subclass to modify or extend the behavior of the inherited method without changing its signature. This feature supports polymorphism by enabling different behavior for objects of the same superclass type."
      ],
      "metadata": {
        "id": "871_JQlv978-"
      }
    },
    {
      "cell_type": "code",
      "source": [
        "#32.  Define a parent class Animal with a method make_sound that prints \"Generic animal sound\". Create a child class Dog inheriting from Animal with a method make_sound that prints \"Woof!\".\n",
        "\n",
        "class Animal:\n",
        "    def make_sound(self):\n",
        "        print(\"Generic animal sound\")\n",
        "class Dog(Animal):\n",
        "    def make_sound(self):\n",
        "        print(\"Woof!\")\n",
        "animal = Animal()\n",
        "animal.make_sound()\n",
        "dog = Dog()\n",
        "dog.make_sound()"
      ],
      "metadata": {
        "colab": {
          "base_uri": "https://localhost:8080/"
        },
        "id": "j2S3udkO-Vg4",
        "outputId": "4fbb79d6-b4eb-4ca2-8ac2-88e66ed0f838"
      },
      "execution_count": null,
      "outputs": [
        {
          "output_type": "stream",
          "name": "stdout",
          "text": [
            "Generic animal sound\n",
            "Woof!\n"
          ]
        }
      ]
    },
    {
      "cell_type": "code",
      "source": [
        "#33. Define a method move in the Animal class that prints \"Animal moves\". Override the move method in the Dog class to print \"Dog runs.\"\n",
        "\n",
        "class Animal:\n",
        "    def move(self):\n",
        "        print(\"Animal moves\")\n",
        "class Dog(Animal):\n",
        "    def move(self):\n",
        "        print(\"Dog runs\")\n",
        "animal = Animal()\n",
        "animal.move()\n",
        "\n",
        "dog = Dog()\n",
        "dog.move()\n"
      ],
      "metadata": {
        "colab": {
          "base_uri": "https://localhost:8080/"
        },
        "id": "VdEMO4-3_e6_",
        "outputId": "3cfbb9d3-dccc-46a5-d062-58e54fffe673"
      },
      "execution_count": null,
      "outputs": [
        {
          "output_type": "stream",
          "name": "stdout",
          "text": [
            "Animal moves\n",
            "Dog runs\n"
          ]
        }
      ]
    },
    {
      "cell_type": "code",
      "source": [
        "#34. Create a class Mammal with a method repoduce that prints \"Giving birth to live young.\" Create a class DogMammal inheariting from both Dog and Mammal.\n",
        "\n",
        "class Mammal:\n",
        "    def reproduce(self):\n",
        "        print(\"Giving birth to live young.\")\n",
        "\n",
        "class Dog:\n",
        "    def make_sound(self):\n",
        "        print(\"Woof!\")\n",
        "class DogMammal(Dog, Mammal):\n",
        "    print(\"This is DogMammal class.\")\n",
        "dog_mammal = DogMammal()\n",
        "dog_mammal.reproduce()\n",
        "dog_mammal.make_sound()"
      ],
      "metadata": {
        "colab": {
          "base_uri": "https://localhost:8080/"
        },
        "id": "6fjqSUFp_key",
        "outputId": "f5297873-3502-4d22-a10d-3f3b7592e50c"
      },
      "execution_count": null,
      "outputs": [
        {
          "output_type": "stream",
          "name": "stdout",
          "text": [
            "This is DogMammal class.\n",
            "Giving birth to live young.\n",
            "Woof!\n"
          ]
        }
      ]
    },
    {
      "cell_type": "code",
      "source": [
        "#35. Create a class GermanShepherd inheriting from dog and override the make_sound method to print \"Bark!\"\n",
        "\n",
        "class Dog:\n",
        "    def make_sound(self):\n",
        "        print(\"Woof!\")\n",
        "class GermanShepherd(Dog):\n",
        "    def make_sound(self):\n",
        "        print(\"Bark!\")\n",
        "german_shepherd = GermanShepherd()\n",
        "german_shepherd.make_sound()\n"
      ],
      "metadata": {
        "colab": {
          "base_uri": "https://localhost:8080/"
        },
        "id": "FeiAkcsBCBSb",
        "outputId": "4d1e1955-187e-4eb7-c91f-1ea2af77d6b7"
      },
      "execution_count": null,
      "outputs": [
        {
          "output_type": "stream",
          "name": "stdout",
          "text": [
            "Bark!\n"
          ]
        }
      ]
    },
    {
      "cell_type": "code",
      "source": [
        "#36. Define constructor in both the Animal and Dog classes with different initialization parameters.\n",
        "\n",
        "class Animal:\n",
        "    def __init__(self, species):\n",
        "        self.species = species\n",
        "    def move(self):\n",
        "        print(f\"{self.species} moves\")\n",
        "class Dog(Animal):\n",
        "    def __init__(self, species, breed):\n",
        "        super().__init__(species)\n",
        "        self.breed = breed\n",
        "\n",
        "    def move(self):\n",
        "        print(f\"{self.species} moves quickly\")\n",
        "animal = Animal(\"Generic animal\")\n",
        "print(animal.species)\n",
        "animal.move()\n",
        "\n",
        "dog = Dog(\"Canine\", \"Labrador\")\n",
        "print(dog.species)\n",
        "print(dog.breed)\n",
        "dog.move()"
      ],
      "metadata": {
        "colab": {
          "base_uri": "https://localhost:8080/"
        },
        "id": "qUG-Sr81CcRs",
        "outputId": "f1afb886-8af4-4aa8-855d-c4cfdad42849"
      },
      "execution_count": null,
      "outputs": [
        {
          "output_type": "stream",
          "name": "stdout",
          "text": [
            "Generic animal\n",
            "Generic animal moves\n",
            "Canine\n",
            "Labrador\n",
            "Canine moves quickly\n"
          ]
        }
      ]
    },
    {
      "cell_type": "markdown",
      "source": [
        "37. What is abstraction in Python? How is it implemented?\n",
        "\n",
        "Answer--> Abstraction in Python involves hiding complex implementation details and exposing only essential features of an object or a class. It allows developers to focus on what an object does rather than how it achieves its functionality, promoting code clarity and reducing complexity. In Python, abstraction is often implemented using abstract base classes (ABCs) from the abc module or through interfaces defined with abstract methods that must be overridden by subclasses, ensuring consistent behavior while allowing for specific implementations as needed."
      ],
      "metadata": {
        "id": "Ofnlq4ugC5P_"
      }
    },
    {
      "cell_type": "markdown",
      "source": [
        "38. Explain the importance of abstraction in object-oriented programming.\n",
        "\n",
        "Answer--> Abstraction in object-oriented programming (OOP) is crucial for several reasons:\n",
        "\n",
        "Simplification: It hides complex implementation details, allowing developers to work with high-level concepts.\n",
        "\n",
        "Modularity: It promotes code reusability and reduces dependencies, making code easier to maintain and extend.\n",
        "\n",
        "Flexibility: Abstraction enables polymorphism, allowing different objects to be treated uniformly based on their common abstract characteristics.\n",
        "\n",
        "Security: It helps in protecting sensitive information by restricting access to internal details, enhancing data security and integrity."
      ],
      "metadata": {
        "id": "SJqYMz-iIK06"
      }
    },
    {
      "cell_type": "markdown",
      "source": [
        "39. How are abstract methods different from regular methods in python?\n",
        "\n",
        "Answer--> Abstract methods in Python are defined in abstract base classes (ABCs) and are intended to be overridden by subclasses. They are declared using the @abstractmethod decorator and lack implementation details, serving as placeholders for methods that subclasses must implement. Regular methods, on the other hand, have concrete implementations and can be directly called or overridden in both abstract and non-abstract classes, providing specific functionalities without the requirement for subclass implementation."
      ],
      "metadata": {
        "id": "Y48T5DE-glPz"
      }
    },
    {
      "cell_type": "markdown",
      "source": [
        "40. How can you achieve abstraction using interfaces in python?\n",
        "\n",
        "Answer--> In Python, abstraction can be achieved using interfaces by defining abstract base classes (ABCs) with abstract methods using the abc module. An interface is created by inheriting from abc.ABC and marking methods with the @abstractmethod decorator. Subclasses must implement these abstract methods, ensuring a consistent interface while allowing specific implementations. This enforces a contract for behavior across different classes."
      ],
      "metadata": {
        "id": "HXriGXjkj3Gv"
      }
    },
    {
      "cell_type": "code",
      "source": [
        "#41. Can you provide an example of how abstraction can be utilized to create a common interface for a group of related classes in python?\n",
        "from abc import ABC, abstractmethod\n",
        "\n",
        "class Shape(ABC):\n",
        "    @abstractmethod\n",
        "    def area(self):\n",
        "        pass\n",
        "    @abstractmethod\n",
        "    def perimeter(self):\n",
        "        pass\n",
        "class Rectangle(Shape):\n",
        "    def __init__(self, width, height):\n",
        "        self.width = width\n",
        "        self.height = height\n",
        "    def area(self):\n",
        "        return self.width * self.height\n",
        "    def perimeter(self):\n",
        "        return 2 * (self.width + self.height)\n",
        "class Circle(Shape):\n",
        "    def __init__(self, radius):\n",
        "        self.radius = radius\n",
        "\n",
        "    def area(self):\n",
        "        return 3.14 * self.radius ** 2\n",
        "    def perimeter(self):\n",
        "        return 2 * 3.14 * self.radius\n",
        "shapes = [Rectangle(2, 3), Circle(5)]\n",
        "for shape in shapes:\n",
        "    print(f\" Area: {shape.area()}\")\n",
        "    print(f\"Perimeter: {shape.perimeter()}\")\n"
      ],
      "metadata": {
        "colab": {
          "base_uri": "https://localhost:8080/"
        },
        "id": "MlBOhHQLmEH0",
        "outputId": "f3645991-9671-47d0-b0f5-3613d2321aa4"
      },
      "execution_count": null,
      "outputs": [
        {
          "output_type": "stream",
          "name": "stdout",
          "text": [
            " Area: 6\n",
            "Perimeter: 10\n",
            " Area: 78.5\n",
            "Perimeter: 31.400000000000002\n"
          ]
        }
      ]
    },
    {
      "cell_type": "code",
      "source": [
        "#42. How does Python achieve polymorphism through method overriding?\n",
        "\n",
        " #Python achieves polymorphism through method overriding by allowing subclasses to provide specific implementations for methods that are already defined in their parent classes. This enables objects of different classes to be treated uniformly based on their shared interface, while still exhibiting distinct behaviors according to their specific class implementations.\n",
        "\n",
        "class Animal:\n",
        "    def make_sound(self):\n",
        "        print(\"Generic animal sound\")\n",
        "\n",
        "class Dog(Animal):\n",
        "    def make_sound(self):\n",
        "        print(\"Woof!\")\n",
        "\n",
        "class Cat(Animal):\n",
        "    def make_sound(self):\n",
        "        print(\"Meow!\")\n",
        "animals = [Dog(), Cat()]\n",
        "for animal in animals:\n",
        "    animal.make_sound()"
      ],
      "metadata": {
        "colab": {
          "base_uri": "https://localhost:8080/"
        },
        "id": "wAMWcOJ3mVZv",
        "outputId": "b717b9c2-cfce-4e06-c2be-fbc5f9ece88a"
      },
      "execution_count": null,
      "outputs": [
        {
          "output_type": "stream",
          "name": "stdout",
          "text": [
            "Woof!\n",
            "Meow!\n"
          ]
        }
      ]
    },
    {
      "cell_type": "code",
      "source": [
        "#43. Define a base class with a method and a subclass that overrides the methods.\n",
        "\n",
        "class Vehicle:\n",
        "    def start_engine(self):\n",
        "        print(\"Starting the engine...\")\n",
        "\n",
        "class Car(Vehicle):\n",
        "    def start_engine(self):\n",
        "        print(\"Starting the car engine...\")\n",
        "vehicle = Vehicle()\n",
        "vehicle.start_engine()\n",
        "car = Car()\n",
        "car.start_engine()"
      ],
      "metadata": {
        "colab": {
          "base_uri": "https://localhost:8080/"
        },
        "id": "mbFv98xWoPex",
        "outputId": "bf6d763b-4d81-4fbe-b0c2-1465c955eca1"
      },
      "execution_count": null,
      "outputs": [
        {
          "output_type": "stream",
          "name": "stdout",
          "text": [
            "Starting the engine...\n",
            "Starting the car engine...\n"
          ]
        }
      ]
    },
    {
      "cell_type": "code",
      "source": [
        "#44. Define a base class and multiple subclass with overridden methods.\n",
        "\n",
        "class Animal:\n",
        "    def make_sound(self):\n",
        "        print(\"Generic animal sound\")\n",
        "\n",
        "class Dog(Animal):\n",
        "    def make_sound(self):\n",
        "        print(\"Woof!\")\n",
        "\n",
        "class Cat(Animal):\n",
        "    def make_sound(self):\n",
        "        print(\"Meow!\")\n",
        "\n",
        "class Cow(Animal):\n",
        "    def make_sound(self):\n",
        "        print(\"Moo!\")\n",
        "\n",
        "animals = [Dog(), Cat(), Cow()]\n",
        "\n",
        "for animal in animals:\n",
        "    animal.make_sound()"
      ],
      "metadata": {
        "colab": {
          "base_uri": "https://localhost:8080/"
        },
        "id": "38m-T8qio6OR",
        "outputId": "0c8ee3f0-30cf-421d-e752-edf04e7346ca"
      },
      "execution_count": null,
      "outputs": [
        {
          "output_type": "stream",
          "name": "stdout",
          "text": [
            "Woof!\n",
            "Meow!\n",
            "Moo!\n"
          ]
        }
      ]
    },
    {
      "cell_type": "markdown",
      "source": [
        "45. How does polymorphism improve code readability and reusability?\n",
        "\n",
        "Answer-->Polymorphism improves code readability and reusability by allowing objects of different classes to be treated uniformly based on a shared interface, simplifying the code structure. It enables the same method to be used in different contexts, reducing the need for multiple conditional statements and promoting more generic and adaptable code. This leads to easier maintenance and extension of the codebase."
      ],
      "metadata": {
        "id": "Sl0MSEtVp2wp"
      }
    },
    {
      "cell_type": "markdown",
      "source": [
        "46. Describe how python supports polymorphism with duck typing?\n",
        "\n",
        "Answer--> Python supports polymorphism through duck typing, which allows objects to be used based on their methods and properties rather than their class inheritance. This means that if an object implements the necessary methods, it can be used interchangeably with other objects that implement the same methods, regardless of their class. This flexibility promotes more dynamic and adaptable code, where the focus is on the object's behavior rather than its type."
      ],
      "metadata": {
        "id": "IhIEqMxfqGVw"
      }
    },
    {
      "cell_type": "markdown",
      "source": [
        "47. How do you achieve encapsulation in python?\n",
        "\n",
        "Answer--> Encapsulation in Python is achieved by:\n",
        "\n",
        "1. Using private attributes and methods with double underscore (__) prefixes to restrict direct access from outside the class.\n",
        "\n",
        "2. Implementing getter and setter methods (@property and @<attribute>.setter decorators) to control access to attributes and enforce validation.\n",
        "\n",
        "3. Employing data hiding techniques to prevent accidental modification and ensure controlled access to class members, enhancing code security and maintainability.\n",
        "\n",
        "\n",
        "\n",
        "\n"
      ],
      "metadata": {
        "id": "fNZV8mz2q7GZ"
      }
    },
    {
      "cell_type": "markdown",
      "source": [
        "48. Can encapsulation be bypassed in python? if so, how?\n",
        "\n",
        "Answer--> encapsulation in Python can be bypassed using several methods:\n",
        "\n",
        "**Direct Access:** Python does not enforce strict access modifiers like private (__) and protected (_). Attributes and methods prefixed with __ are name-mangled, not truly private, and can still be accessed using the mangled name.\n",
        "\n",
        "**Using getattr() and setattr():** Python provides built-in functions getattr() and setattr() that can access or modify attributes even if they are intended to be private.\n",
        "\n",
        "**Subclassing:** Subclasses can access and modify private attributes of their superclass directly, bypassing encapsulation.\n",
        "\n",
        "**Underscore Convention:** Attributes and methods prefixed with a single underscore (_) are considered protected but can still be accessed directly, although it is discouraged as per convention."
      ],
      "metadata": {
        "id": "VRv70IZdrZO5"
      }
    },
    {
      "cell_type": "code",
      "source": [
        "#49. Implement a class BankAccount with a private balance attribute. Include methods to deposite, withdraw and check the balance.\n",
        "class BankAccount:\n",
        "    def __init__(self, initial_balance=0):\n",
        "        self.__balance = initial_balance\n",
        "\n",
        "    def deposit(self, amount):\n",
        "        if amount > 0:\n",
        "            self.__balance += amount\n",
        "        else:\n",
        "            print(\"Deposit amount should be greater than zero.\")\n",
        "\n",
        "    def withdraw(self, amount):\n",
        "        if 0 < amount <= self.__balance:\n",
        "            self.__balance -= amount\n",
        "        else:\n",
        "            print(\"Insufficient balance or invalid amount.\")\n",
        "\n",
        "    def check_balance(self):\n",
        "        return self.__balance\n",
        "account = BankAccount(1000)\n",
        "print(\"Initial Balance:\", account.check_balance())\n",
        "account.deposit(500)\n",
        "print(\"Balance after deposit:\", account.check_balance())\n",
        "account.withdraw(200)\n",
        "print(\"Balance after withdrawal:\", account.check_balance())\n",
        "\n",
        "account.withdraw(1500)"
      ],
      "metadata": {
        "colab": {
          "base_uri": "https://localhost:8080/"
        },
        "id": "LxQWqMKLsgWC",
        "outputId": "3b241108-34bf-469f-83b2-9cb04a8133aa"
      },
      "execution_count": null,
      "outputs": [
        {
          "output_type": "stream",
          "name": "stdout",
          "text": [
            "Initial Balance: 1000\n",
            "Balance after deposit: 1500\n",
            "Balance after withdrawal: 1300\n",
            "Insufficient balance or invalid amount.\n"
          ]
        }
      ]
    },
    {
      "cell_type": "code",
      "source": [
        "#50. Develop a person class with private attributes name and email, and methods to set and get the email.\n",
        "class Person:\n",
        "    def __init__(self, name, email):\n",
        "        self.__name = name\n",
        "        self.__email = email\n",
        "\n",
        "    @property\n",
        "    def email(self):\n",
        "        return self.__email\n",
        "\n",
        "    @email.setter\n",
        "    def email(self, new_email):\n",
        "        if \"@\" in new_email:\n",
        "            self.__email = new_email\n",
        "        else:\n",
        "            print(\"Invalid email format.\")\n",
        "\n",
        "    def get_name(self):\n",
        "        return self.__name\n",
        "person = Person(\"AK\", \"ak@example.com\")\n",
        "print(\"Name:\", person.get_name())\n",
        "print(\"Email:\", person.email)\n",
        "\n",
        "person.email = \"ak@gmail.com\"\n",
        "print(\"Updated Email:\", person.email)\n",
        "person.email = \"invalid-email\"\n",
        "print(\"Email after invalid attempt:\", person.email)\n"
      ],
      "metadata": {
        "colab": {
          "base_uri": "https://localhost:8080/"
        },
        "id": "4iD6hnNSswTa",
        "outputId": "6df89426-0b89-49e9-f6a7-5f6fc10778af"
      },
      "execution_count": null,
      "outputs": [
        {
          "output_type": "stream",
          "name": "stdout",
          "text": [
            "Name: AK\n",
            "Email: ak@example.com\n",
            "Updated Email: ak@gmail.com\n",
            "Invalid email format.\n",
            "Email after invalid attempt: ak@gmail.com\n"
          ]
        }
      ]
    },
    {
      "cell_type": "markdown",
      "source": [
        "51. Why is encapsulation considered a pillar of object-oriented programming (OOP)?\n",
        "\n",
        "Answer--> Encapsulation is considered a pillar of object-oriented programming (OOP) because it:\n",
        "\n",
        "Promotes Modularity: Encapsulation bundles data (attributes) and behaviors (methods) into a single unit (class), enhancing code organization and maintenance.\n",
        "\n",
        "Enhances Security: By restricting direct access to data, encapsulation prevents unintended modifications and ensures data integrity.\n",
        "\n",
        "Facilitates Abstraction: It allows objects to expose only essential information and hide implementation details, simplifying complex systems and promoting clarity.\n",
        "\n",
        "Promotes Reusability: Encapsulation enables classes to be reused in different contexts without affecting their internal workings, supporting code reuse and scalability.\n"
      ],
      "metadata": {
        "id": "RpdD_21VuL2C"
      }
    },
    {
      "cell_type": "code",
      "source": [
        "52.# Create a decorator in python that adds functionality to a simple function by printing a message before and after the function execution.\n",
        "\n",
        "def print_message_decorator(func):\n",
        "    def wrapper(*args, **kwargs):\n",
        "        print(\"Before executing the function...\")\n",
        "        result = func(*args, **kwargs)\n",
        "        print(\"After executing the function...\")\n",
        "        return result\n",
        "    return wrapper\n",
        "\n",
        "@print_message_decorator\n",
        "def simple_function(a, b):\n",
        "    print(f\"Inside simple_function: a = {a}, b = {b}\")\n",
        "    return a + b\n",
        "result = simple_function(3, 5)\n",
        "print(\"Result:\", result)"
      ],
      "metadata": {
        "colab": {
          "base_uri": "https://localhost:8080/"
        },
        "id": "lwpgdmtmurCE",
        "outputId": "b7b1a5c0-bf16-45a3-a64f-0e4dffccd29c"
      },
      "execution_count": null,
      "outputs": [
        {
          "output_type": "stream",
          "name": "stdout",
          "text": [
            "Before executing the function...\n",
            "Inside simple_function: a = 3, b = 5\n",
            "After executing the function...\n",
            "Result: 8\n"
          ]
        }
      ]
    },
    {
      "cell_type": "code",
      "source": [
        "#53. Modify the decorator to accept arguments and print the function name along with the message.\n",
        "def log_execution(message):\n",
        "    def decorator(func):\n",
        "        def wrapper(*args, **kwargs):\n",
        "            print(f\"Executing {func.__name__}: {message}\")\n",
        "            result = func(*args, **kwargs)\n",
        "            print(f\"Completed {func.__name__}: {message}\")\n",
        "            return result\n",
        "        return wrapper\n",
        "    return decorator\n",
        "\n",
        "@log_execution(\"starting function execution\")\n",
        "def another_function(x, y):\n",
        "    print(f\"Inside another_function: x = {x}, y = {y}\")\n",
        "    return x * y\n",
        "result = another_function(4, 6)\n",
        "print(\"Result:\", result)"
      ],
      "metadata": {
        "colab": {
          "base_uri": "https://localhost:8080/"
        },
        "id": "NelHTNR1vLfd",
        "outputId": "0010e866-2e86-4492-914f-807aa19b4569"
      },
      "execution_count": null,
      "outputs": [
        {
          "output_type": "stream",
          "name": "stdout",
          "text": [
            "Executing another_function: starting function execution\n",
            "Inside another_function: x = 4, y = 6\n",
            "Completed another_function: starting function execution\n",
            "Result: 24\n"
          ]
        }
      ]
    },
    {
      "cell_type": "code",
      "source": [
        "54. #Create two decorator, and apply them to a single function. Ensure that they execute in the order they are applied.\n",
        "\n",
        "def log_before(func):\n",
        "    def wrapper(*args, **kwargs):\n",
        "        print(f\"Before executing {func.__name__}.\")\n",
        "        return func(*args, **kwargs)\n",
        "    return wrapper\n",
        "\n",
        "def log_after(func):\n",
        "    def wrapper(*args, **kwargs):\n",
        "        result = func(*args, **kwargs)\n",
        "        print(f\"After executing {func.__name__}.\")\n",
        "        return result\n",
        "    return wrapper\n",
        "\n",
        "@log_before\n",
        "@log_after\n",
        "def greet(name):\n",
        "    print(f\"Hello, {name}!\")\n",
        "\n",
        "greet(\"Akanksha\")\n"
      ],
      "metadata": {
        "colab": {
          "base_uri": "https://localhost:8080/"
        },
        "id": "NbL3osduwAfX",
        "outputId": "56a27815-b1be-4677-e0df-226912560f52"
      },
      "execution_count": null,
      "outputs": [
        {
          "output_type": "stream",
          "name": "stdout",
          "text": [
            "Before executing wrapper.\n",
            "Hello, Akanksha!\n",
            "After executing greet.\n"
          ]
        }
      ]
    },
    {
      "cell_type": "code",
      "source": [
        "#55. Modify the decorator to accept and pass function arguments to the wrapped function.\n",
        "import time\n",
        "\n",
        "def timeit(func):\n",
        "    def wrapper(*args, **kwargs):\n",
        "        start_time = time.time()\n",
        "        result = func(*args, **kwargs)\n",
        "        end_time = time.time()\n",
        "        print(f\"Execution time for {func.__name__}: {end_time - start_time:.4f} seconds\")\n",
        "        return result\n",
        "\n",
        "    return wrapper\n",
        "def log_args(func):\n",
        "    def wrapper(*args, **kwargs):\n",
        "        print(f\"Arguments passed to {func.__name__}: args={args}, kwargs={kwargs}\")\n",
        "        return func(*args, **kwargs)\n",
        "    return wrapper\n",
        "\n",
        "@log_args\n",
        "@timeit\n",
        "def calculate_sum(a, b):\n",
        "    time.sleep(1)\n",
        "    return a + b\n",
        "\n",
        "result = calculate_sum(3, 5)\n",
        "print(\"Result:\", result)"
      ],
      "metadata": {
        "colab": {
          "base_uri": "https://localhost:8080/"
        },
        "id": "rqQvW6YAyW93",
        "outputId": "01eb9962-8638-4df2-d46d-b332a2624618"
      },
      "execution_count": null,
      "outputs": [
        {
          "output_type": "stream",
          "name": "stdout",
          "text": [
            "Arguments passed to wrapper: args=(3, 5), kwargs={}\n",
            "Execution time for calculate_sum: 1.0005 seconds\n",
            "Result: 8\n"
          ]
        }
      ]
    },
    {
      "cell_type": "code",
      "source": [
        "#56. Create decorator that preserves the metadata of the original function.\n",
        "import functools\n",
        "def log_execution(func):\n",
        "    @functools.wraps(func)\n",
        "    def wrapper(*args, **kwargs):\n",
        "        print(f\"Executing {func.__name__} with arguments: {args}, {kwargs}\")\n",
        "        result = func(*args, **kwargs)\n",
        "        print(f\"Finished executing {func.__name__}\")\n",
        "        return result\n",
        "    return wrapper\n",
        "\n",
        "# Example function\n",
        "@log_execution\n",
        "def example_function(x, y):\n",
        "    return x * y\n",
        "result = example_function(3, 5)\n",
        "print(\"Result:\", result)\n",
        "\n",
        "print(\"Function name:\", example_function.__name__)\n",
        "print(\"Docstring:\", example_function.__doc__)\n"
      ],
      "metadata": {
        "colab": {
          "base_uri": "https://localhost:8080/"
        },
        "id": "u1SCwGzn1Wdd",
        "outputId": "7de08875-570b-4070-a01c-1ab526ea0804"
      },
      "execution_count": null,
      "outputs": [
        {
          "output_type": "stream",
          "name": "stdout",
          "text": [
            "Executing example_function with arguments: (3, 5), {}\n",
            "Finished executing example_function\n",
            "Result: 15\n",
            "Function name: example_function\n",
            "Docstring: None\n"
          ]
        }
      ]
    },
    {
      "cell_type": "code",
      "source": [
        "#57. Create a Python class 'Calculator' with a static method 'add' that takes in two numbers and returns their sum.\n",
        "class Calculator:\n",
        "    @staticmethod\n",
        "    def add(a, b):\n",
        "        return a + b\n",
        "result = Calculator.add(3, 5)\n",
        "print(\"Sum:\", result)"
      ],
      "metadata": {
        "colab": {
          "base_uri": "https://localhost:8080/"
        },
        "id": "-lXELlYw1766",
        "outputId": "44723478-5583-46e6-b041-7e5878015acc"
      },
      "execution_count": null,
      "outputs": [
        {
          "output_type": "stream",
          "name": "stdout",
          "text": [
            "Sum: 8\n"
          ]
        }
      ]
    },
    {
      "cell_type": "code",
      "source": [
        "#58. Create a Python class 'Employee' with a class 'method get_employee_count' that returns the total number of employees created.\n",
        "class Employee:\n",
        "    employee_count = 0\n",
        "    def __init__(self, name):\n",
        "        self.name = name\n",
        "        Employee.employee_count += 1\n",
        "\n",
        "    @classmethod\n",
        "    def get_employee_count(cls):\n",
        "        return cls.employee_count\n",
        "\n",
        "emp1 = Employee(\"Ananta\")\n",
        "emp2 = Employee(\"Yashika\")\n",
        "emp3 = Employee(\"Charlie\")\n",
        "\n",
        "print(\"Total number of employees:\", Employee.get_employee_count())"
      ],
      "metadata": {
        "colab": {
          "base_uri": "https://localhost:8080/"
        },
        "id": "cFpYBqsn2jru",
        "outputId": "c85513cc-7508-4ff6-8566-811a80d8c61c"
      },
      "execution_count": null,
      "outputs": [
        {
          "output_type": "stream",
          "name": "stdout",
          "text": [
            "Total number of employees: 3\n"
          ]
        }
      ]
    },
    {
      "cell_type": "code",
      "source": [
        "#59. Create a Python class 'StringFormatter' with a static method 'reverse_string' that takes a string as input and returns its reverse.\n",
        "class StringFormatter:\n",
        "    @staticmethod\n",
        "    def reverse_string(s):\n",
        "        return s[::-1]\n",
        "result = StringFormatter.reverse_string(\"hello\")\n",
        "print(\"Reversed string:\", result)"
      ],
      "metadata": {
        "colab": {
          "base_uri": "https://localhost:8080/"
        },
        "id": "5zIUENXS3V5S",
        "outputId": "69972047-e70b-41f8-bd45-9b32d0b76145"
      },
      "execution_count": null,
      "outputs": [
        {
          "output_type": "stream",
          "name": "stdout",
          "text": [
            "Reversed string: olleh\n"
          ]
        }
      ]
    },
    {
      "cell_type": "code",
      "source": [
        "#60. Create a python class 'Circle' with a class method 'calculate_area' that calculates the area of a circle given its radius.\n",
        "import math\n",
        "class Circle:\n",
        "    @classmethod\n",
        "    def calculate_area(cls, radius):\n",
        "        return math.pi * (radius ** 2)\n",
        "area = Circle.calculate_area(5)\n",
        "print(\"Area of the circle:\", area)"
      ],
      "metadata": {
        "colab": {
          "base_uri": "https://localhost:8080/"
        },
        "id": "Gh0QDAHY7C2v",
        "outputId": "08501e3b-289d-4ede-d9af-1875cf7a2a63"
      },
      "execution_count": null,
      "outputs": [
        {
          "output_type": "stream",
          "name": "stdout",
          "text": [
            "Area of the circle: 78.53981633974483\n"
          ]
        }
      ]
    },
    {
      "cell_type": "code",
      "source": [
        "#61. Create a Python class 'TemperatureConverter' with a static methods 'celsius_to_fahrenhelt' that converts Celsius to Fahrenheit.\n",
        "class TemperatureConverter:\n",
        "    @staticmethod\n",
        "    def celsius_to_fahrenheit(celsius):\n",
        "        return (celsius * 9/5) + 32\n",
        "\n",
        "# Example usage:\n",
        "fahrenheit = TemperatureConverter.celsius_to_fahrenheit(25)\n",
        "print(\"Temperature in Fahrenheit:\", fahrenheit)"
      ],
      "metadata": {
        "colab": {
          "base_uri": "https://localhost:8080/"
        },
        "id": "eF4Q040i7vUj",
        "outputId": "384cfc9d-ccaf-4be6-9b69-a7868d8942a3"
      },
      "execution_count": null,
      "outputs": [
        {
          "output_type": "stream",
          "name": "stdout",
          "text": [
            "Temperature in Fahrenheit: 77.0\n"
          ]
        }
      ]
    },
    {
      "cell_type": "code",
      "source": [
        "#62. What is the purpose of the __str__() method in Python classes? Provide an example.\n",
        "class Person:\n",
        "    def __init__(self, name, age):\n",
        "        self.name = name\n",
        "        self.age = age\n",
        "\n",
        "    def __str__(self):\n",
        "        return f\"Person(name={self.name}, age={self.age})\"\n",
        "person = Person(\"Ak\", 30)\n",
        "print(person)\n",
        "print(str(person))"
      ],
      "metadata": {
        "colab": {
          "base_uri": "https://localhost:8080/"
        },
        "id": "pI6H7eGA8d8T",
        "outputId": "795760ee-bd33-4a5f-e756-3e37ccf9468c"
      },
      "execution_count": null,
      "outputs": [
        {
          "output_type": "stream",
          "name": "stdout",
          "text": [
            "Person(name=Ak, age=30)\n",
            "Person(name=Ak, age=30)\n"
          ]
        }
      ]
    },
    {
      "cell_type": "code",
      "source": [
        "#63. How does the __len__() method work in Python? Provide an example.\n",
        "class MyList:\n",
        "    def __init__(self, items):\n",
        "        self.items = items\n",
        "\n",
        "    def __len__(self):\n",
        "        return len(self.items)\n",
        "my_list = MyList([1, 2, 3, 4, 5])\n",
        "print(len(my_list))"
      ],
      "metadata": {
        "colab": {
          "base_uri": "https://localhost:8080/"
        },
        "id": "ZnUnNzWH9smZ",
        "outputId": "2e8c7a36-2186-4c0d-8677-b9023b4dd740"
      },
      "execution_count": null,
      "outputs": [
        {
          "output_type": "stream",
          "name": "stdout",
          "text": [
            "5\n"
          ]
        }
      ]
    },
    {
      "cell_type": "code",
      "source": [
        "#64. Explain the usage of the __add__() method in Python classes. Provide an example.\n",
        "\n",
        " #The __add__() method in Python classes is used to define the behavior of the addition operator (+) for instances of the class. When two instances of the class are added using +, the __add__() method is called. It allows customization of how objects are combined or added.\n",
        "\n",
        "class Vector:\n",
        "    def __init__(self, x, y):\n",
        "        self.x = x\n",
        "        self.y = y\n",
        "\n",
        "    def __add__(self, other):\n",
        "        return Vector(self.x + other.x, self.y + other.y)\n",
        "\n",
        "    def __repr__(self):\n",
        "        return f\"Vector({self.x}, {self.y})\"\n",
        "\n",
        "v1 = Vector(2, 3)\n",
        "v2 = Vector(5, 7)\n",
        "print(v1 + v2)"
      ],
      "metadata": {
        "colab": {
          "base_uri": "https://localhost:8080/"
        },
        "id": "n-kqBjSKAIdm",
        "outputId": "23646c67-55ba-418f-c90e-0ceea9ea558d"
      },
      "execution_count": null,
      "outputs": [
        {
          "output_type": "stream",
          "name": "stdout",
          "text": [
            "Vector(7, 10)\n"
          ]
        }
      ]
    },
    {
      "cell_type": "code",
      "source": [
        "#65. What is the purpose of the __getitem__() method in Pyhton? Provide an example.\n",
        "#The __getitem__() method in Python is used to allow instances of a class to be indexed like a sequence or mapping. It enables objects to support the indexing ([]) operator, making them iterable or subscriptable.\n",
        "class MyList:\n",
        "    def __init__(self, items):\n",
        "        self.items = items\n",
        "\n",
        "    def __getitem__(self, index):\n",
        "        return self.items[index]\n",
        "my_list = MyList([1, 2, 3, 4, 5])\n",
        "print(my_list[2])"
      ],
      "metadata": {
        "colab": {
          "base_uri": "https://localhost:8080/"
        },
        "id": "ihLSEHoTBA0I",
        "outputId": "6fedbf95-dd02-437d-ec3a-4b6ccf22345e"
      },
      "execution_count": null,
      "outputs": [
        {
          "output_type": "stream",
          "name": "stdout",
          "text": [
            "3\n"
          ]
        }
      ]
    },
    {
      "cell_type": "code",
      "source": [
        "#66. Explain the usage of the __iter__() and __next__() methods in Python. Provide an example using iterators.\n",
        "#The __iter__() and __next__() methods are used to create iterators in Python:\n",
        "\n",
        "#__iter__() initializes the iterator and returns itself.\n",
        "#__next__() retrieves the next item in the sequence and raises StopIteration when finished.\n",
        "\n",
        "class Squares:\n",
        "    def __init__(self, n):\n",
        "        self.n = n\n",
        "        self.current = 0\n",
        "\n",
        "    def __iter__(self):\n",
        "        return self\n",
        "\n",
        "    def __next__(self):\n",
        "        if self.current >= self.n:\n",
        "            raise StopIteration\n",
        "        result = self.current ** 2\n",
        "        self.current += 1\n",
        "        return result\n",
        "squares_iter = Squares(5)\n",
        "for square in squares_iter:\n",
        "    print(square)"
      ],
      "metadata": {
        "colab": {
          "base_uri": "https://localhost:8080/"
        },
        "id": "P1vB6f6iB5ZM",
        "outputId": "91f2eda4-0796-4d73-fefb-958e7859a0c8"
      },
      "execution_count": null,
      "outputs": [
        {
          "output_type": "stream",
          "name": "stdout",
          "text": [
            "0\n",
            "1\n",
            "4\n",
            "9\n",
            "16\n"
          ]
        }
      ]
    },
    {
      "cell_type": "code",
      "source": [
        "#67. What is the purpose of a getter method in Python? Provide an example using demonstrating the use of a getter method using property decorator.\n",
        "#In Python, a getter method is used to encapsulate the retrieval of an attribute's value from an object. It provides controlled access to attributes and allows for additional processing or validation before returning the value.\n",
        "class Person:\n",
        "    def __init__(self, first_name, last_name):\n",
        "        self._first_name = first_name\n",
        "        self._last_name = last_name\n",
        "\n",
        "    @property\n",
        "    def full_name(self):\n",
        "        return f\"{self._first_name} {self._last_name}\"\n",
        "\n",
        "    @property\n",
        "    def first_name(self):\n",
        "        return self._first_name\n",
        "\n",
        "    @property\n",
        "    def last_name(self):\n",
        "        return self._last_name\n",
        "\n",
        "person = Person(\"Ananta\", \"Bansod\")\n",
        "print(\"Full Name:\", person.full_name)\n",
        "print(\"First Name:\", person.first_name)\n",
        "print(\"Last Name:\", person.last_name)"
      ],
      "metadata": {
        "colab": {
          "base_uri": "https://localhost:8080/"
        },
        "id": "7Y---8ZDCrYr",
        "outputId": "54caeada-3feb-4bf6-b49f-89a53bc78475"
      },
      "execution_count": null,
      "outputs": [
        {
          "output_type": "stream",
          "name": "stdout",
          "text": [
            "Full Name: Ananta Bansod\n",
            "First Name: Ananta\n",
            "Last Name: Bansod\n"
          ]
        }
      ]
    },
    {
      "cell_type": "code",
      "source": [
        "#68. Explain the role of setter methods in Python. Demonstrate how to use a setter method to modify a class attribute using property decorator.\n",
        "class Person:\n",
        "    def __init__(self, first_name, last_name):\n",
        "        self._first_name = first_name\n",
        "        self._last_name = last_name\n",
        "\n",
        "    @property\n",
        "    def full_name(self):\n",
        "        return f\"{self._first_name} {self._last_name}\"\n",
        "\n",
        "    @property\n",
        "    def first_name(self):\n",
        "        return self._first_name\n",
        "\n",
        "    @first_name.setter\n",
        "    def first_name(self, value):\n",
        "        self._first_name = value\n",
        "\n",
        "    @property\n",
        "    def last_name(self):\n",
        "        return self._last_name\n",
        "\n",
        "    @last_name.setter\n",
        "    def last_name(self, value):\n",
        "        self._last_name = value\n",
        "person = Person(\"A\", \"K\")\n",
        "print(\"Original Full Name:\", person.full_name)\n",
        "\n",
        "person.first_name = \"Ananta\"\n",
        "person.last_name = \"Bansod\"\n",
        "\n",
        "print(\"Modified Full Name:\", person.full_name)"
      ],
      "metadata": {
        "colab": {
          "base_uri": "https://localhost:8080/"
        },
        "id": "rbK3XQY2Dgq9",
        "outputId": "5c25202b-7536-48f0-ac69-efa387fa9719"
      },
      "execution_count": null,
      "outputs": [
        {
          "output_type": "stream",
          "name": "stdout",
          "text": [
            "Original Full Name: A K\n",
            "Modified Full Name: Ananta Bansod\n"
          ]
        }
      ]
    },
    {
      "cell_type": "code",
      "source": [
        "#69.What is the purpose of the @property decorator in Python? Provide an example illustrating its usage.\n",
        "class Circle:\n",
        "    def __init__(self, radius):\n",
        "        self._radius = radius\n",
        "\n",
        "    @property\n",
        "    def radius(self):\n",
        "        return self._radius\n",
        "\n",
        "    @radius.setter\n",
        "    def radius(self, value):\n",
        "        if value <= 0:\n",
        "            raise ValueError(\"Radius must be positive\")\n",
        "        self._radius = value\n",
        "\n",
        "    @property\n",
        "    def area(self):\n",
        "        return 3.14 * self._radius ** 2\n",
        "circle = Circle(5)\n",
        "print(\"Radius:\", circle.radius)\n",
        "print(\"Area:\", circle.area)\n",
        "\n",
        "circle.radius = 7\n",
        "print(\"New Radius:\", circle.radius)\n",
        "print(\"New Area:\", circle.area)\n"
      ],
      "metadata": {
        "colab": {
          "base_uri": "https://localhost:8080/"
        },
        "id": "uMx0hOX1EgLj",
        "outputId": "41cf8709-5408-4980-ff2c-0c7774b0d5d5"
      },
      "execution_count": null,
      "outputs": [
        {
          "output_type": "stream",
          "name": "stdout",
          "text": [
            "Radius: 5\n",
            "Area: 78.5\n",
            "New Radius: 7\n",
            "New Area: 153.86\n"
          ]
        }
      ]
    },
    {
      "cell_type": "code",
      "source": [
        "#70. Explain the use of the @deleter decorator in Python property decorators.Provide a code example demonstating its application.\n",
        "class File:\n",
        "    def __init__(self, filename):\n",
        "        self.filename = filename\n",
        "        self._contents = None\n",
        "\n",
        "    @property\n",
        "    def contents(self):\n",
        "        return self._contents\n",
        "\n",
        "    @contents.setter\n",
        "    def contents(self, value):\n",
        "        self._contents = value\n",
        "\n",
        "    @contents.deleter\n",
        "    def contents(self):\n",
        "        self._contents = None\n",
        "        print(f\"Contents of '{self.filename}' deleted.\")\n",
        "file = File(\"example.txt\")\n",
        "file.contents = \"This is some text.\"\n",
        "print(\"Current Contents:\", file.contents)\n",
        "\n",
        "del file.contents\n",
        "print(\"After Deletion:\", file.contents)"
      ],
      "metadata": {
        "colab": {
          "base_uri": "https://localhost:8080/"
        },
        "id": "1MvTAz4qFKVJ",
        "outputId": "164ed34b-850c-43c1-91e4-dbc75cf4ecc5"
      },
      "execution_count": null,
      "outputs": [
        {
          "output_type": "stream",
          "name": "stdout",
          "text": [
            "Current Contents: This is some text.\n",
            "Contents of 'example.txt' deleted.\n",
            "After Deletion: None\n"
          ]
        }
      ]
    },
    {
      "cell_type": "code",
      "source": [
        "#71. How does encapsulation relate to property decorators in python? Provide an example showcasing encapsulation using property decorators.\n",
        "class BankAccount:\n",
        "    def __init__(self, account_number, balance=0):\n",
        "        self._account_number = account_number\n",
        "        self._balance = balance\n",
        "\n",
        "    @property\n",
        "    def account_number(self):\n",
        "        return self._account_number\n",
        "\n",
        "    @property\n",
        "    def balance(self):\n",
        "        return self._balance\n",
        "\n",
        "    @balance.setter\n",
        "    def balance(self, amount):\n",
        "        if amount < 0:\n",
        "            raise ValueError(\"Balance cannot be negative\")\n",
        "        self._balance = amount\n",
        "\n",
        "    @balance.deleter\n",
        "    def balance(self):\n",
        "        self._balance = 0\n",
        "        print(f\"Balance of account {self.account_number} reset to zero.\")\n",
        "account = BankAccount(\"1234567890\", 1000)\n",
        "print(\"Account Number:\", account.account_number)\n",
        "print(\"Current Balance:\", account.balance)\n",
        "account.balance = 1500\n",
        "print(\"Updated Balance:\", account.balance)\n",
        "del account.balance\n",
        "print(\"After Deletion:\", account.balance)"
      ],
      "metadata": {
        "colab": {
          "base_uri": "https://localhost:8080/"
        },
        "id": "gV1nXORQFskF",
        "outputId": "9c59f11f-aa90-43f4-ca8a-c804108b3c14"
      },
      "execution_count": null,
      "outputs": [
        {
          "output_type": "stream",
          "name": "stdout",
          "text": [
            "Account Number: 1234567890\n",
            "Current Balance: 1000\n",
            "Updated Balance: 1500\n",
            "Balance of account 1234567890 reset to zero.\n",
            "After Deletion: 0\n"
          ]
        }
      ]
    }
  ]
}