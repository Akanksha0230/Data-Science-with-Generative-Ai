{
  "nbformat": 4,
  "nbformat_minor": 0,
  "metadata": {
    "colab": {
      "provenance": []
    },
    "kernelspec": {
      "name": "python3",
      "display_name": "Python 3"
    },
    "language_info": {
      "name": "python"
    }
  },
  "cells": [
    {
      "cell_type": "code",
      "execution_count": null,
      "metadata": {
        "id": "S6dP2LxutqZ6",
        "colab": {
          "base_uri": "https://localhost:8080/"
        },
        "outputId": "afcdba6f-a2ee-4a48-9f21-2dea4d9e15f4"
      },
      "outputs": [
        {
          "output_type": "stream",
          "name": "stdout",
          "text": [
            "1.Convert a integer to a floating-point number.\n",
            "23 <class 'int'>\n",
            "After conversion:\n",
            "23.0 <class 'float'>\n",
            "6.0 <class 'float'>\n"
          ]
        }
      ],
      "source": [
        "#1.Convert a integer to a floating-point number.\n",
        "print(\"1.Convert a integer to a floating-point number.\")\n",
        "num = 23\n",
        "print(num,type(num))\n",
        "print(\"After conversion:\")\n",
        "\n",
        "print(float(num),type(float(num)))\n",
        "\n",
        "\n",
        "#2nd way\n",
        "num = 6\n",
        "inttofloat = float(num)\n",
        "print(inttofloat,type(inttofloat))"
      ]
    },
    {
      "cell_type": "code",
      "source": [
        "#2.Convert a float to a integer.\n",
        "print(\"2.Convert a float to a integer.\")\n",
        "num1 = 23.01\n",
        "print(num1,type(num1))\n",
        "print(\"After conversion:\")\n",
        "print(int(num1) ,type(int(num1)))\n",
        "\n",
        "#Another way\n",
        "num_1 = 6.6\n",
        "floattoint = int(num_1)\n",
        "print(floattoint, type(floattoint))"
      ],
      "metadata": {
        "colab": {
          "base_uri": "https://localhost:8080/"
        },
        "id": "qZKvz3JEyibP",
        "outputId": "bbd59860-d89e-486b-85f8-5c93b8784939"
      },
      "execution_count": null,
      "outputs": [
        {
          "output_type": "stream",
          "name": "stdout",
          "text": [
            "2.Convert a float to a integer.\n",
            "23.01 <class 'float'>\n",
            "After conversion:\n",
            "23 <class 'int'>\n",
            "6 <class 'int'>\n"
          ]
        }
      ]
    },
    {
      "cell_type": "code",
      "source": [
        "#3.Convert a integer to a string.\n",
        "print(\"3.Convert a integer to a string.\")\n",
        "num2 = 26\n",
        "print(num2,type(num2))\n",
        "print(\"After conversion:\")\n",
        "itostr = str(num2)\n",
        "print(itostr,type(itostr))"
      ],
      "metadata": {
        "colab": {
          "base_uri": "https://localhost:8080/"
        },
        "id": "HD4KaGnlzW2u",
        "outputId": "4754708e-1d4b-4561-f379-aeb638ee0253"
      },
      "execution_count": null,
      "outputs": [
        {
          "output_type": "stream",
          "name": "stdout",
          "text": [
            "3.Convert a integer to a string.\n",
            "26 <class 'int'>\n",
            "After conversion:\n",
            "26 <class 'str'>\n"
          ]
        }
      ]
    },
    {
      "cell_type": "code",
      "source": [
        "#4.Convert a list to a tuple.\n",
        "print(\"4.Convert a list to a tuple.\")\n",
        "list1 = [2,3,45,32,56]\n",
        "print(list1, type(list1))\n",
        "print(\"After conversion:\")\n",
        "listtotuple = tuple(list1)\n",
        "print(listtotuple,type(listtotuple))"
      ],
      "metadata": {
        "colab": {
          "base_uri": "https://localhost:8080/"
        },
        "id": "4mbQ43qR0iVU",
        "outputId": "f073813d-19ae-4c38-c7d9-b4bcccbae244"
      },
      "execution_count": null,
      "outputs": [
        {
          "output_type": "stream",
          "name": "stdout",
          "text": [
            "4.Convert a list to a tuple.\n",
            "[2, 3, 45, 32, 56] <class 'list'>\n",
            "After conversion:\n",
            "(2, 3, 45, 32, 56) <class 'tuple'>\n"
          ]
        }
      ]
    },
    {
      "cell_type": "code",
      "source": [
        "#5.Covnert a tuple to a list.\n",
        "print(\"5.Covnert a tuple to a list.\")\n",
        "tuple1 = (23,45,45.67,\"Akanksha\")\n",
        "print(tuple1,type(tuple1))\n",
        "print(\"After conversion:\")\n",
        "tupletolist = [val for val in tuple1]\n",
        "print(tupletolist,type(tupletolist))"
      ],
      "metadata": {
        "colab": {
          "base_uri": "https://localhost:8080/"
        },
        "id": "Za4YGcev10rs",
        "outputId": "8f689426-092f-4758-9c37-61116c2c2b22"
      },
      "execution_count": null,
      "outputs": [
        {
          "output_type": "stream",
          "name": "stdout",
          "text": [
            "5.Covnert a tuple to a list.\n",
            "(23, 45, 45.67, 'Akanksha') <class 'tuple'>\n",
            "After conversion:\n",
            "[23, 45, 45.67, 'Akanksha'] <class 'list'>\n"
          ]
        }
      ]
    },
    {
      "cell_type": "code",
      "source": [
        "#6.Convert a decimal number to binary.\n",
        "print(\"6.Convert a decimal number to binary.\")\n",
        "num3 = 45\n",
        "print(num3,type(num3))\n",
        "print(\"After conversion:\")\n",
        "num_3 = bool(num3)\n",
        "print(num_3,type(num_3))"
      ],
      "metadata": {
        "colab": {
          "base_uri": "https://localhost:8080/"
        },
        "id": "heT38BRg2_02",
        "outputId": "60558419-0271-455a-bcdc-82e1de5b93fe"
      },
      "execution_count": null,
      "outputs": [
        {
          "output_type": "stream",
          "name": "stdout",
          "text": [
            "6.Convert a decimal number to binary.\n",
            "45 <class 'int'>\n",
            "After conversion:\n",
            "True <class 'bool'>\n"
          ]
        }
      ]
    },
    {
      "cell_type": "code",
      "source": [
        "#7.Convert a non-zero number to boolean.\n",
        "print(\"7.Convert a non-zero number to boolean.\")\n",
        "num4 = int(input(\"Enter a no.:\"))\n",
        "if(num4 != 0):\n",
        "  num_4 = bool(num4)\n",
        "  print(num_4,type(num_4))\n",
        "else:\n",
        "  print(num4,\" is not a nonzero number \")"
      ],
      "metadata": {
        "colab": {
          "base_uri": "https://localhost:8080/"
        },
        "id": "FzPU56Xx4tGl",
        "outputId": "8fdbfb1a-e40b-4da1-d9c3-7d8b8cb3a772"
      },
      "execution_count": null,
      "outputs": [
        {
          "output_type": "stream",
          "name": "stdout",
          "text": [
            "7.Convert a non-zero number to boolean.\n",
            "Enter a no.:45\n",
            "True <class 'bool'>\n"
          ]
        }
      ]
    },
    {
      "cell_type": "code",
      "source": [],
      "metadata": {
        "id": "SdeRdPqC7lFW"
      },
      "execution_count": null,
      "outputs": []
    }
  ]
}