{
  "nbformat": 4,
  "nbformat_minor": 0,
  "metadata": {
    "colab": {
      "provenance": []
    },
    "kernelspec": {
      "name": "python3",
      "display_name": "Python 3"
    },
    "language_info": {
      "name": "python"
    }
  },
  "cells": [
    {
      "cell_type": "markdown",
      "source": [
        "1. Why might you choose a deque from the collections module to implement a queue instead of using a regular Python list?"
      ],
      "metadata": {
        "id": "ZNHxs8IJvj9N"
      }
    },
    {
      "cell_type": "markdown",
      "source": [
        "Answer-> Choose a dequeue from the collections module to implement a queue instead of regular Python list offers advantages in terms of efficiency and functionality.\n",
        "1. dequeue provides optimized operations for both ends of the queue by ensuring fast enqueue and dequeue operations specially for large dataset.\n",
        "2.Dequeue optimized it's opeerations with O(1)  complexity for appending and poping elements unlike list where poping from the left end has O(n) complexity due to shifting elements."
      ],
      "metadata": {
        "id": "05ynbZHBvj0D"
      }
    },
    {
      "cell_type": "markdown",
      "source": [
        "2.  Can you explain a real-world scenario where using a stack would be a more practical choice than a list for data storage and retrieval?"
      ],
      "metadata": {
        "id": "uDSLP_OQvjnt"
      }
    },
    {
      "cell_type": "markdown",
      "source": [
        "Answer-> 1. When moving to a new house ,boxes are often stacked inside a truck as boxes are loaded onto the truck they are placed on top of another box.When unloading the truck at the new location we removed boxes from the top first.\n",
        "2. In cafeteria when a new customer arrieves the working person of that cafeteria gives them new plates from the top of plate stack. When customer finish their meal the same person took that plate and add it to the top of used plate stack."
      ],
      "metadata": {
        "id": "A2nNnXKwvi6_"
      }
    },
    {
      "cell_type": "markdown",
      "source": [
        "3.What is the primary advantage of using sets in Python, and in what type of problem-solving scenarios are  they most useful?"
      ],
      "metadata": {
        "id": "_r5imbpfvf1s"
      }
    },
    {
      "cell_type": "markdown",
      "source": [
        "Answer-> Sets{} in Python offer the advantage of efficiently managing unique elements. They automatically removed duplicates,ensuring that each element appears only once in set.\n",
        "\n",
        "**Problem-solving scenarios:-**\n",
        "1. present/Absence checking of elements is needed.\n",
        "2. Set operations such as union,difference,intersection etc. needed to perform.\n",
        "3. filtering unique elements from the large dataset.  \n"
      ],
      "metadata": {
        "id": "QUxOpHhVvO0K"
      }
    },
    {
      "cell_type": "markdown",
      "source": [
        "4. When might you choose to use an array instead of a list for storing numerical data in Python? What benefits do arrays offer in this context?"
      ],
      "metadata": {
        "id": "TfE2diqgyyK6"
      }
    },
    {
      "cell_type": "markdown",
      "source": [
        "Answer-> Arrays are used to store similar type of data in continuous manner. Arrays offers memory efficiency and faster access for storing numerical data particularly benefits for large datasets and numeric computations. However both have some similar functionality but arrays are more good with numeric data."
      ],
      "metadata": {
        "id": "w1R2qmyYyyP5"
      }
    },
    {
      "cell_type": "markdown",
      "source": [
        "5. In Python, what's the primary difference between dictionaries and lists, and how does this difference impact their use cases in programming?"
      ],
      "metadata": {
        "id": "EdIY_OT1yyUa"
      }
    },
    {
      "cell_type": "markdown",
      "source": [
        "Answer-> Dictionaries are unordered collections of key-value pairs, offering fast lookup based on keys,while list are ordered collections of elements accessed by index. This difference impacts on their usecases as dictionaries are ideal for associative data and fast lookups,whereas lists are preferred for ordered sequences and when index-based access is neccessary."
      ],
      "metadata": {
        "id": "RY6ZE9DTyyai"
      }
    }
  ]
}