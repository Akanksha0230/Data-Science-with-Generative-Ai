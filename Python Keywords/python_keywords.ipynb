{
  "nbformat": 4,
  "nbformat_minor": 0,
  "metadata": {
    "colab": {
      "provenance": []
    },
    "kernelspec": {
      "name": "python3",
      "display_name": "Python 3"
    },
    "language_info": {
      "name": "python"
    }
  },
  "cells": [
    {
      "cell_type": "markdown",
      "source": [
        "1.Explain the significance of Python keywords and provide examples of five keywords.\n",
        "\n",
        "Answer-> Python keywords are reserved words that have predefined meanings and cannot be used as identifiers (such as variable names or function names).\n",
        "\n",
        "Examples:-  It include if, for, while, def, and class, which are used for conditional statements, loops, function and class definitions, respectively."
      ],
      "metadata": {
        "id": "rf5J_56Z717F"
      }
    },
    {
      "cell_type": "markdown",
      "source": [
        "2.Describe the rules for defining identifiers in Python and provide an example.\n",
        "\n",
        "Answer->  identifiers are names given to variables, functions, classes, modules, or other objects. They must adhere to the following rules:\n",
        "\n",
        "1.Identifiers can contain letters (both uppercase and lowercase), digits, and underscores.\n",
        "\n",
        "2.They cannot start with a digit.\n",
        "\n",
        "3.They cannot be Python keywords.\n",
        "\n",
        "4.Identifiers are case-sensitive.\n",
        "\n",
        "5.They should follow the convention of using descriptive names for readability,means it should be meaningful names.\n",
        "\n",
        "Example:- my_variable = 42\n",
        "\n",
        "my_function = lambda x: x * 2"
      ],
      "metadata": {
        "id": "QxXYK9Dq71-3"
      }
    },
    {
      "cell_type": "markdown",
      "source": [
        "3.What are comments in Python, and why are they useful Provide an example.\n",
        "\n",
        "Answer-> In Python, comments are text annotations within the code that are ignored by the interpreter during execution. They are used to provide explanations, documentation, or reminders to developers, improving code readability and maintainability.\n",
        "\n",
        "Example:- #This is a single line comment\n",
        "\n",
        "\"\"\"This is a multiline comment.\n",
        "Comments are useful for explaining code or adding notes\"\"\"\n",
        "\n",
        "Calculate the sum of two numbers\n",
        "\n",
        "a = 10    # Assign 10 to variable 'a'\n",
        "\n",
        "b = 20  # Assign 20 to variable 'b'\n",
        "\n",
        "sum = a + b  # Calculate the sum of 'a' and 'b'\n",
        "\n",
        "print(\"The sum is:\", sum)  # Print the result"
      ],
      "metadata": {
        "id": "_6la-uej72DH"
      }
    },
    {
      "cell_type": "markdown",
      "source": [
        "4.Why is proper indentation important in Python?\n",
        "\n",
        "Answer->\n",
        "Proper indentation is important in Python because it defines the structure and nesting of code blocks. In Python, indentation is used to indicate the scope of control flow statements (such as loops and conditionals) and the definition of functions, classes, and other code blocks. Incorrect indentation can lead to syntax errors or unintended behavior, as Python relies on indentation to determine the logical structure of the code."
      ],
      "metadata": {
        "id": "j6Yan1kN72HG"
      }
    },
    {
      "cell_type": "markdown",
      "source": [
        "5.What happens if indentation is incorrect in Python?\n",
        "\n",
        "Answer->\n",
        "Incorrect indentation in Python can lead to syntax errors or unintended behavior due to the language's reliance on indentation to define code blocks and control flow."
      ],
      "metadata": {
        "id": "eSgqTOFo72KG"
      }
    },
    {
      "cell_type": "markdown",
      "source": [
        "6.Differentiate between expression and statement in Python with examples.\n",
        "\n",
        "Answer-> 1. An expression is a piece of code that produces a value, while a statement is a complete instruction that performs some action.\n",
        "\n",
        "2. Expressions can be simple or complex, involving operators, variables, and function calls, and they always return a value. Statements, on the other hand, do not necessarily produce a value; instead, they perform operations like assignment, looping, branching, or function definition.\n",
        "\n",
        "Example:- **expression**:- x = 10 + 5  # Evaluates to the value 15\n",
        "\n",
        "**statement**:- print(\"Hello, Akanksha\")  # Prints \"Hello, Akanksha\" to the console"
      ],
      "metadata": {
        "id": "t46CLW9g72NG"
      }
    }
  ]
}