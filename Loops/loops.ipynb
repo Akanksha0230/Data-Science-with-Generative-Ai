{
  "nbformat": 4,
  "nbformat_minor": 0,
  "metadata": {
    "colab": {
      "provenance": []
    },
    "kernelspec": {
      "name": "python3",
      "display_name": "Python 3"
    },
    "language_info": {
      "name": "python"
    }
  },
  "cells": [
    {
      "cell_type": "code",
      "execution_count": null,
      "metadata": {
        "colab": {
          "base_uri": "https://localhost:8080/"
        },
        "id": "Vl5NuH-tEJ_g",
        "outputId": "804d8393-4118-4b99-cb3b-9f8375c9310d"
      },
      "outputs": [
        {
          "output_type": "stream",
          "name": "stdout",
          "text": [
            "1.Print number from 1 to 5 using a while loop.\n",
            "1\n",
            "2\n",
            "3\n",
            "4\n",
            "5\n"
          ]
        }
      ],
      "source": [
        "#1.Print number from 1 to 5 using a while loop.\n",
        "print(\"1.Print number from 1 to 5 using a while loop.\")\n",
        "i = 1\n",
        "while(i<=5):\n",
        "  print(i)\n",
        "  i +=1"
      ]
    },
    {
      "cell_type": "code",
      "source": [
        "#2.Calculate the summ of number from 1 to 10 using a while loop.\n",
        "print(\"Calculate the sum of number from 1 to 10 using a while loop.\")\n",
        "i = 1\n",
        "sum=0\n",
        "while(i <= 10):\n",
        "   sum += i\n",
        "   i += 1\n",
        "print(sum)"
      ],
      "metadata": {
        "colab": {
          "base_uri": "https://localhost:8080/"
        },
        "id": "ZZ3xTMDGEwst",
        "outputId": "96a33937-1a12-4fb6-d9ff-b9f2fa988e20"
      },
      "execution_count": null,
      "outputs": [
        {
          "output_type": "stream",
          "name": "stdout",
          "text": [
            "Calculate the sum of number from 1 to 10 using a while loop.\n",
            "55\n"
          ]
        }
      ]
    },
    {
      "cell_type": "code",
      "source": [
        "#3.Calculate the factorial of a number using a for loop.\n",
        "print(\"Calculate the factorial of a number using a for loop.\")\n",
        "num = int(input(\"Enter a no. to find factorial:\"))\n",
        "fact = 1\n",
        "if num < 0:\n",
        "   print(\"Sorry, factorial does not exist for negative numbers\")\n",
        "elif num == 0:\n",
        "   print(\"The factorial of 0 is 1\")\n",
        "else:\n",
        "  for i in range(1, num +1):\n",
        "      fact = fact *i\n",
        "  print(f\"factorial of {num} is\",fact)"
      ],
      "metadata": {
        "colab": {
          "base_uri": "https://localhost:8080/"
        },
        "id": "FNngLOEbFv20",
        "outputId": "7b412672-5137-4c6c-a640-e8a2a0ffc6f4"
      },
      "execution_count": null,
      "outputs": [
        {
          "output_type": "stream",
          "name": "stdout",
          "text": [
            "Calculate the factorial of a number using a for loop.\n",
            "Enter a no. to find factorial:7\n",
            "factorial of 7 is 5040\n"
          ]
        }
      ]
    },
    {
      "cell_type": "code",
      "source": [
        "#4.Count the number of vowel in a string using a for loop.\n",
        "print(\"Count the number of vowel in a string using a for loop.\")\n",
        "st = input(\"Enter the string : \")\n",
        "\n",
        "count = 0\n",
        "for i in st:\n",
        "  if i in \"aeiouAEIOU\":\n",
        "    count += 1\n",
        "print(\"no. of vowels is: \",count)"
      ],
      "metadata": {
        "colab": {
          "base_uri": "https://localhost:8080/"
        },
        "id": "EL1hvfosJo71",
        "outputId": "12c965a2-5c54-4859-92af-86045ff33b8b"
      },
      "execution_count": null,
      "outputs": [
        {
          "output_type": "stream",
          "name": "stdout",
          "text": [
            "Count the number of vowel in a string using a for loop.\n",
            "Enter the string : Akanksha\n",
            "no. of vowels is:  3\n"
          ]
        }
      ]
    },
    {
      "cell_type": "code",
      "source": [
        "#5.Print a pattern using nested loop.\n",
        "print(\"5.Print a pattern using nested loop.\")\n",
        "row = int(input(\"Entr the no of rows: \"))\n",
        "for i in range(1,row +1):\n",
        "  for j in range(row-i):\n",
        "    print(\" \", end =\"\")\n",
        "  for j in range(2*i-1):\n",
        "    print(\"*\",end=\"\")\n",
        "  print()\n"
      ],
      "metadata": {
        "colab": {
          "base_uri": "https://localhost:8080/"
        },
        "id": "GpU9I6CrMATl",
        "outputId": "94513268-6fc1-4f66-9eaa-783a2cc1419d"
      },
      "execution_count": null,
      "outputs": [
        {
          "output_type": "stream",
          "name": "stdout",
          "text": [
            "5.Print a pattern using nested loop.\n",
            "Entr the no of rows: 5\n",
            "    *\n",
            "   ***\n",
            "  *****\n",
            " *******\n",
            "*********\n"
          ]
        }
      ]
    },
    {
      "cell_type": "code",
      "source": [
        "#6.Generate a multiplication table using nested loop.\n",
        "print(\"6.Generate a multiplication table using nested loop.\")\n",
        "num = int(input(\"Enter the no.: \"))\n",
        "for i in range(1,13):\n",
        "  print(f\"{num} x {i} = {num * i}\")"
      ],
      "metadata": {
        "colab": {
          "base_uri": "https://localhost:8080/"
        },
        "id": "LJrbbVW9Nim9",
        "outputId": "a2e4040c-64b8-41f4-bce7-42ce6d676eb7"
      },
      "execution_count": null,
      "outputs": [
        {
          "output_type": "stream",
          "name": "stdout",
          "text": [
            "6.Generate a multiplication table using nested loop.\n",
            "Enter the no.: 45\n",
            "45 x 1 = 45\n",
            "45 x 2 = 90\n",
            "45 x 3 = 135\n",
            "45 x 4 = 180\n",
            "45 x 5 = 225\n",
            "45 x 6 = 270\n",
            "45 x 7 = 315\n",
            "45 x 8 = 360\n",
            "45 x 9 = 405\n",
            "45 x 10 = 450\n",
            "45 x 11 = 495\n",
            "45 x 12 = 540\n"
          ]
        }
      ]
    },
    {
      "cell_type": "code",
      "source": [],
      "metadata": {
        "id": "Zal0nzfrQt3N"
      },
      "execution_count": null,
      "outputs": []
    }
  ]
}