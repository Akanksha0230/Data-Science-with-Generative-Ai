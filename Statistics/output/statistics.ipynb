{
  "nbformat": 4,
  "nbformat_minor": 0,
  "metadata": {
    "colab": {
      "provenance": []
    },
    "kernelspec": {
      "name": "python3",
      "display_name": "Python 3"
    },
    "language_info": {
      "name": "python"
    }
  },
  "cells": [
    {
      "cell_type": "code",
      "execution_count": null,
      "metadata": {
        "colab": {
          "base_uri": "https://localhost:8080/"
        },
        "id": "9RWvXUS-Mnjk",
        "outputId": "e2208fde-ba62-4400-f32c-64b7de49acdf"
      },
      "outputs": [
        {
          "output_type": "stream",
          "name": "stdout",
          "text": [
            "Mean: 108.35\n",
            "Median: 108.0\n"
          ]
        }
      ],
      "source": [
        "#1.Generate a list of 100 integers containing values between 90 to 130 and store it in the variable `int_list`. After generating the list, find the following:\n",
        "#(i) Write a Python function to calculate the mean of a given list of numbers.\n",
        "#Create a function to find the median of a list of numbers.\n",
        "import random\n",
        "import statistics\n",
        "int_list = [random.randint(90, 130) for _ in range(100)]\n",
        "def calculate_mean(lst):\n",
        "    return sum(lst) / len(lst)\n",
        "\n",
        "mean_value = calculate_mean(int_list)\n",
        "print(\"Mean:\", mean_value)\n",
        "\n",
        "def calculate_median(lst):\n",
        "    return statistics.median(lst)\n",
        "\n",
        "median_value = calculate_median(int_list)\n",
        "print(\"Median:\", median_value)\n"
      ]
    },
    {
      "cell_type": "code",
      "source": [
        "#(ii) Develop a program to compute the mode of a list of integers.\n",
        "from collections import Counter\n",
        "\n",
        "def calculate_mode(lst):\n",
        "    count = Counter(lst)\n",
        "    max_freq = max(count.values())\n",
        "    modes = [key for key, val in count.items() if val == max_freq]\n",
        "    return modes if len(modes) > 1 else modes[0]\n",
        "\n",
        "mode_value = calculate_mode(int_list)\n",
        "print(\"Mode:\", mode_value)\n"
      ],
      "metadata": {
        "colab": {
          "base_uri": "https://localhost:8080/"
        },
        "id": "i8_OkLHrNywJ",
        "outputId": "812f5400-88a1-4455-b30d-b708497db7d8"
      },
      "execution_count": null,
      "outputs": [
        {
          "output_type": "stream",
          "name": "stdout",
          "text": [
            "Mode: 108\n"
          ]
        }
      ]
    },
    {
      "cell_type": "code",
      "source": [
        "#(iii) Implement a function to calculate the weighted mean of a list of values and their corresponding weights.\n",
        "def weighted_mean(values, weights):\n",
        "    return sum(v * w for v, w in zip(values, weights)) / sum(weights)\n",
        "\n",
        "weights = [random.randint(1, 5) for _ in range(100)]  # Random weights\n",
        "weighted_mean_value = weighted_mean(int_list, weights)\n",
        "print(\"Weighted Mean:\", weighted_mean_value)\n"
      ],
      "metadata": {
        "colab": {
          "base_uri": "https://localhost:8080/"
        },
        "id": "p5572UZWN8DI",
        "outputId": "54463d11-83ab-48f0-bb75-8e6b431b4b90"
      },
      "execution_count": null,
      "outputs": [
        {
          "output_type": "stream",
          "name": "stdout",
          "text": [
            "Weighted Mean: 108.20952380952382\n"
          ]
        }
      ]
    },
    {
      "cell_type": "code",
      "source": [
        "#(iv) Write a Python function to find the geometric mean of a list of positive numbers.\n",
        "import math\n",
        "\n",
        "def geometric_mean(lst):\n",
        "    product = math.prod(lst)\n",
        "    return product ** (1 / len(lst))\n",
        "\n",
        "geo_mean_value = geometric_mean(int_list)\n",
        "print(\"Geometric Mean:\", geo_mean_value)\n"
      ],
      "metadata": {
        "colab": {
          "base_uri": "https://localhost:8080/"
        },
        "id": "p7o2D5pxN_3s",
        "outputId": "bfc8be94-8601-4267-b7b7-e25d208a1ba5"
      },
      "execution_count": null,
      "outputs": [
        {
          "output_type": "stream",
          "name": "stdout",
          "text": [
            "Geometric Mean: 107.79618034829666\n"
          ]
        }
      ]
    },
    {
      "cell_type": "code",
      "source": [
        "# (v) Create a program to calculate the harmonic mean of a list of values.\n",
        "def harmonic_mean(lst):\n",
        "    return len(lst) / sum(1 / x for x in lst)\n",
        "\n",
        "harmonic_mean_value = harmonic_mean(int_list)\n",
        "print(\"Harmonic Mean:\", harmonic_mean_value)\n"
      ],
      "metadata": {
        "colab": {
          "base_uri": "https://localhost:8080/"
        },
        "id": "qnAzEqTuOEY-",
        "outputId": "9dc8da38-3918-4598-9c3a-25e82bef32c6"
      },
      "execution_count": null,
      "outputs": [
        {
          "output_type": "stream",
          "name": "stdout",
          "text": [
            "Harmonic Mean: 107.24641754661455\n"
          ]
        }
      ]
    },
    {
      "cell_type": "code",
      "source": [
        "# (vi) Build a function to determine the midrange of a list of numbers (average of the minimum and maximum).\n",
        "def midrange(lst):\n",
        "    return (max(lst) + min(lst)) / 2\n",
        "\n",
        "midrange_value = midrange(int_list)\n",
        "print(\"Midrange:\", midrange_value)\n"
      ],
      "metadata": {
        "colab": {
          "base_uri": "https://localhost:8080/"
        },
        "id": "E0cNKJd7OKmP",
        "outputId": "e894b525-2194-493d-f628-d85074a4c194"
      },
      "execution_count": null,
      "outputs": [
        {
          "output_type": "stream",
          "name": "stdout",
          "text": [
            "Midrange: 110.0\n"
          ]
        }
      ]
    },
    {
      "cell_type": "code",
      "source": [
        "#(vii) Implement a Python program to find the trimmed mean of a list, excluding a certain percentage of outliers.\n",
        "import statistics\n",
        "\n",
        "def trimmed_mean(lst, percentage):\n",
        "    trim_count = int(len(lst) * (percentage / 100))\n",
        "    sorted_lst = sorted(lst)[trim_count:-trim_count]\n",
        "    return statistics.mean(sorted_lst)\n",
        "\n",
        "trimmed_mean_value = trimmed_mean(int_list, 10)\n",
        "print(\"Trimmed Mean:\", trimmed_mean_value)\n"
      ],
      "metadata": {
        "colab": {
          "base_uri": "https://localhost:8080/"
        },
        "id": "Bmd8gJ-eON4M",
        "outputId": "60aca541-0471-47e0-f601-64d55a155600"
      },
      "execution_count": null,
      "outputs": [
        {
          "output_type": "stream",
          "name": "stdout",
          "text": [
            "Trimmed Mean: 108.0375\n"
          ]
        }
      ]
    },
    {
      "cell_type": "code",
      "source": [
        " #2. Generate a list of 500 integers containing values between 200 to 300 and store it in the variable `int_list2`. After generating the list, find the following:\n",
        "#(i) Compare the given list of visualization for the given data:\n",
        "\n",
        " #     1. Frequency & Gaussian distribution\n",
        "import random\n",
        "import matplotlib.pyplot as plt\n",
        "import seaborn as sns\n",
        "import numpy as np\n",
        "from scipy.stats import norm\n",
        "int_list2 = [random.randint(200, 300) for _ in range(500)]\n",
        "plt.figure(figsize=(10, 5))\n",
        "sns.histplot(int_list2, bins=30, kde=False, color='skyblue', stat=\"density\", label=\"Frequency\")\n",
        "xmin, xmax = plt.xlim()\n",
        "x = np.linspace(xmin, xmax, 100)\n",
        "mean = np.mean(int_list2)\n",
        "std_dev = np.std(int_list2)\n",
        "plt.plot(x, norm.pdf(x, mean, std_dev), 'r-', label=\"Gaussian Distribution\")\n",
        "plt.legend()\n",
        "plt.title(\"Frequency & Gaussian Distribution\")\n",
        "plt.show()\n"
      ],
      "metadata": {
        "colab": {
          "base_uri": "https://localhost:8080/",
          "height": 468
        },
        "id": "g9STsfAzQbLH",
        "outputId": "09276dda-fe48-40c5-c1ad-6307370aab40"
      },
      "execution_count": null,
      "outputs": [
        {
          "output_type": "display_data",
          "data": {
            "text/plain": [
              "<Figure size 1000x500 with 1 Axes>"
            ],
            "image/png": "[encoded data removed]"
          },
          "metadata": {}
        }
      ]
    },
    {
      "cell_type": "code",
      "source": [
        "#    2. Frequency smoothened KDE plot\n",
        "plt.figure(figsize=(10, 5))\n",
        "sns.histplot(int_list2, bins=30, kde=True, color='purple', stat=\"density\", label=\"Frequency with KDE\")\n",
        "plt.legend()\n",
        "plt.title(\"Frequency Smoothened KDE Plot\")\n",
        "plt.show()\n"
      ],
      "metadata": {
        "colab": {
          "base_uri": "https://localhost:8080/",
          "height": 468
        },
        "id": "lgmuCxRgRqCx",
        "outputId": "8e3628d1-1171-4ffc-b6d3-9d207d2a0c47"
      },
      "execution_count": null,
      "outputs": [
        {
          "output_type": "display_data",
          "data": {
            "text/plain": [
              "<Figure size 1000x500 with 1 Axes>"
            ],
            "image/png": "[encoded data removed]"
          },
          "metadata": {}
        }
      ]
    },
    {
      "cell_type": "code",
      "source": [
        "#  3. Gaussian distribution & smoothened KDE plot\n",
        "plt.figure(figsize=(10, 5))\n",
        "sns.kdeplot(int_list2, color='green', label=\"KDE Plot\")\n",
        "x = np.linspace(min(int_list2), max(int_list2), 100)\n",
        "plt.plot(x, norm.pdf(x, mean, std_dev), 'r-', label=\"Gaussian Distribution\")\n",
        "plt.legend()\n",
        "plt.title(\"Gaussian Distribution & Smoothened KDE Plot\")\n",
        "plt.show()\n"
      ],
      "metadata": {
        "colab": {
          "base_uri": "https://localhost:8080/",
          "height": 468
        },
        "id": "hLW124wsR9bk",
        "outputId": "641d1e5b-37ef-4675-a850-c570cc0560df"
      },
      "execution_count": null,
      "outputs": [
        {
          "output_type": "display_data",
          "data": {
            "text/plain": [
              "<Figure size 1000x500 with 1 Axes>"
            ],
            "image/png": "[encoded data removed]"
          },
          "metadata": {}
        }
      ]
    },
    {
      "cell_type": "code",
      "source": [
        "# (ii) Write a Python function to calculate the range of a given list of numbers.\n",
        "def calculate_range(lst):\n",
        "    return max(lst) - min(lst)\n",
        "\n",
        "range_value = calculate_range(int_list2)\n",
        "print(\"Range:\", range_value)\n"
      ],
      "metadata": {
        "colab": {
          "base_uri": "https://localhost:8080/"
        },
        "id": "hYt_5Bv6SCP3",
        "outputId": "952186e4-36d5-4b2e-e3b4-7bb99dc19b26"
      },
      "execution_count": null,
      "outputs": [
        {
          "output_type": "stream",
          "name": "stdout",
          "text": [
            "Range: 100\n"
          ]
        }
      ]
    },
    {
      "cell_type": "code",
      "source": [
        "#(iii) Create a program to find the variance and standard deviation of a list of numbers.\n",
        "import statistics\n",
        "\n",
        "def calculate_variance_std(lst):\n",
        "    variance = statistics.variance(lst)\n",
        "    std_dev = statistics.stdev(lst)\n",
        "    return variance, std_dev\n",
        "\n",
        "variance_value, std_dev_value = calculate_variance_std(int_list2)\n",
        "print(\"Variance:\", variance_value)\n",
        "print(\"Standard Deviation:\", std_dev_value)\n"
      ],
      "metadata": {
        "colab": {
          "base_uri": "https://localhost:8080/"
        },
        "id": "7DXyCNwMSJiC",
        "outputId": "5ad5e97c-50db-4c83-999e-14058b4a1b44"
      },
      "execution_count": null,
      "outputs": [
        {
          "output_type": "stream",
          "name": "stdout",
          "text": [
            "Variance: 894.207871743487\n",
            "Standard Deviation: 29.903308708962072\n"
          ]
        }
      ]
    },
    {
      "cell_type": "code",
      "source": [
        " # (iv) Implement a function to compute the interquartile range (IQR) of a list of values.\n",
        "import numpy as np\n",
        "def calculate_iqr(lst):\n",
        "    Q1 = np.percentile(lst, 25)\n",
        "    Q3 = np.percentile(lst, 75)\n",
        "    return Q3 - Q1\n",
        "\n",
        "iqr_value = calculate_iqr(int_list2)\n",
        "print(\"Interquartile Range (IQR):\", iqr_value)\n"
      ],
      "metadata": {
        "colab": {
          "base_uri": "https://localhost:8080/"
        },
        "id": "g4o7gWqISix7",
        "outputId": "fb8bfcee-1729-4ee8-c94b-4a077d0179fc"
      },
      "execution_count": null,
      "outputs": [
        {
          "output_type": "stream",
          "name": "stdout",
          "text": [
            "Interquartile Range (IQR): 53.0\n"
          ]
        }
      ]
    },
    {
      "cell_type": "code",
      "source": [
        "#(v) Build a program to calculate the coefficient of variation for a dataset.\n",
        "def coefficient_of_variation(lst):\n",
        "    mean = np.mean(lst)\n",
        "    std_dev = np.std(lst)\n",
        "    return (std_dev / mean) * 100\n",
        "\n",
        "cv_value = coefficient_of_variation(int_list2)\n",
        "print(\"Coefficient of Variation:\", cv_value)\n"
      ],
      "metadata": {
        "colab": {
          "base_uri": "https://localhost:8080/"
        },
        "id": "LZh1sFBDSnvl",
        "outputId": "68dbaf3e-8288-4cea-8dd0-24ec0b6fd6a2"
      },
      "execution_count": null,
      "outputs": [
        {
          "output_type": "stream",
          "name": "stdout",
          "text": [
            "Coefficient of Variation: 11.99195158548299\n"
          ]
        }
      ]
    },
    {
      "cell_type": "code",
      "source": [
        " #(vi) Write a Python function to find the mean absolute deviation (MAD) of a list of numbers.\n",
        "def mean_absolute_deviation(lst):\n",
        "    mean = np.mean(lst)\n",
        "    return np.mean([abs(x - mean) for x in lst])\n",
        "\n",
        "mad_value = mean_absolute_deviation(int_list2)\n",
        "print(\"Mean Absolute Deviation (MAD):\", mad_value)\n"
      ],
      "metadata": {
        "colab": {
          "base_uri": "https://localhost:8080/"
        },
        "id": "u8DpEZwDSsLc",
        "outputId": "ccb363aa-6256-4cae-c162-6783b65c3c27"
      },
      "execution_count": null,
      "outputs": [
        {
          "output_type": "stream",
          "name": "stdout",
          "text": [
            "Mean Absolute Deviation (MAD): 25.779135999999998\n"
          ]
        }
      ]
    },
    {
      "cell_type": "code",
      "source": [
        "#(vii) Create a program to calculate the quartile deviation of a list of values.\n",
        "def quartile_deviation(lst):\n",
        "    Q1 = np.percentile(lst, 25)\n",
        "    Q3 = np.percentile(lst, 75)\n",
        "    return (Q3 - Q1) / 2\n",
        "\n",
        "quartile_dev_value = quartile_deviation(int_list2)\n",
        "print(\"Quartile Deviation:\", quartile_dev_value)\n"
      ],
      "metadata": {
        "colab": {
          "base_uri": "https://localhost:8080/"
        },
        "id": "M67biDyfSvl2",
        "outputId": "0c2e66e0-2e57-4287-ad36-7b78bea9ece2"
      },
      "execution_count": null,
      "outputs": [
        {
          "output_type": "stream",
          "name": "stdout",
          "text": [
            "Quartile Deviation: 26.5\n"
          ]
        }
      ]
    },
    {
      "cell_type": "code",
      "source": [
        "#(viii) Implement a function to find the range-based coefficient of dispersion for a dataset.\n",
        "def range_based_coefficient_of_dispersion(lst):\n",
        "    return (max(lst) - min(lst)) / (max(lst) + min(lst))\n",
        "\n",
        "dispersion_value = range_based_coefficient_of_dispersion(int_list2)\n",
        "print(\"Range-Based Coefficient of Dispersion:\", dispersion_value)\n"
      ],
      "metadata": {
        "colab": {
          "base_uri": "https://localhost:8080/"
        },
        "id": "FkiqyCQuSzXa",
        "outputId": "9ea52cfc-154b-4825-df44-81beeab83287"
      },
      "execution_count": null,
      "outputs": [
        {
          "output_type": "stream",
          "name": "stdout",
          "text": [
            "Range-Based Coefficient of Dispersion: 0.2\n"
          ]
        }
      ]
    },
    {
      "cell_type": "code",
      "source": [
        "#3)  Write a Python class representing a discrete random variable with methods to calculate its expected value and variance.\n",
        "class DiscreteRandomVariable:\n",
        "    def __init__(self, values, probabilities):\n",
        "        if len(values) != len(probabilities):\n",
        "            raise ValueError(\"Values and probabilities must have the same length.\")\n",
        "        if not (0.999 <= sum(probabilities) <= 1.001):\n",
        "            raise ValueError(\"Probabilities must sum to 1.\")\n",
        "\n",
        "        self.values = values\n",
        "        self.probabilities = probabilities\n",
        "\n",
        "    def expected_value(self):\n",
        "        return sum(x * p for x, p in zip(self.values, self.probabilities))\n",
        "\n",
        "    def variance(self):\n",
        "        mean = self.expected_value()\n",
        "        return sum(((x - mean) ** 2) * p for x, p in zip(self.values, self.probabilities))\n",
        "\n",
        "values = [1, 2, 3, 4, 5]\n",
        "probabilities = [0.1, 0.2, 0.3, 0.25, 0.15]\n",
        "\n",
        "drv = DiscreteRandomVariable(values, probabilities)\n",
        "\n",
        "print(\"Expected Value (Mean):\", drv.expected_value())\n",
        "print(\"Variance:\", drv.variance())\n"
      ],
      "metadata": {
        "colab": {
          "base_uri": "https://localhost:8080/"
        },
        "id": "l96CpWiQUCd8",
        "outputId": "e694fba7-fd0e-4679-9d5d-7fea65c7153a"
      },
      "execution_count": null,
      "outputs": [
        {
          "output_type": "stream",
          "name": "stdout",
          "text": [
            "Expected Value (Mean): 3.15\n",
            "Variance: 1.4275000000000002\n"
          ]
        }
      ]
    },
    {
      "cell_type": "code",
      "source": [
        "#4) Implement a program to simulate the rolling of a fair six-sided die and calculate the expected value and variance of the outcomes.\n",
        "import random\n",
        "\n",
        "class FairDie:\n",
        "    def __init__(self, sides=6):\n",
        "        self.sides = sides\n",
        "        self.values = list(range(1, sides + 1))\n",
        "        self.probabilities = [1 / sides] * sides\n",
        "\n",
        "    def roll(self):\n",
        "\n",
        "        return random.choice(self.values)\n",
        "\n",
        "    def expected_value(self):\n",
        "        return sum(x * p for x, p in zip(self.values, self.probabilities))\n",
        "\n",
        "    def variance(self):\n",
        "        mean = self.expected_value()\n",
        "        return sum(((x - mean) ** 2) * p for x, p in zip(self.values, self.probabilities))\n",
        "die = FairDie()\n",
        "rolls = [die.roll() for _ in range(10)]\n",
        "print(\"Simulated Rolls:\", rolls)\n",
        "print(\"Expected Value (Mean):\", die.expected_value())\n",
        "print(\"Variance:\", die.variance())\n"
      ],
      "metadata": {
        "colab": {
          "base_uri": "https://localhost:8080/"
        },
        "id": "f1gAGOoUU9kI",
        "outputId": "33e3241f-ee38-4286-ac9d-6b2adce3d982"
      },
      "execution_count": null,
      "outputs": [
        {
          "output_type": "stream",
          "name": "stdout",
          "text": [
            "Simulated Rolls: [5, 6, 4, 6, 5, 2, 1, 1, 3, 3]\n",
            "Expected Value (Mean): 3.5\n",
            "Variance: 2.9166666666666665\n"
          ]
        }
      ]
    },
    {
      "cell_type": "code",
      "source": [
        "#5 Create a Python function to generate random samples from a given probability distribution (e.g., binomial, Poisson) and calculate their mean and variance.\n",
        "import numpy as np\n",
        "\n",
        "def generate_samples(distribution, size=1000, **params):\n",
        "\n",
        "    if distribution == \"binomial\":\n",
        "        samples = np.random.binomial(n=params.get(\"n\", 10), p=params.get(\"p\", 0.5), size=size)\n",
        "    elif distribution == \"poisson\":\n",
        "        samples = np.random.poisson(lam=params.get(\"lam\", 5), size=size)\n",
        "    elif distribution == \"normal\":\n",
        "        samples = np.random.normal(loc=params.get(\"mean\", 0), scale=params.get(\"std\", 1), size=size)\n",
        "    elif distribution == \"uniform\":\n",
        "        samples = np.random.uniform(low=params.get(\"low\", 0), high=params.get(\"high\", 1), size=size)\n",
        "    elif distribution == \"exponential\":\n",
        "        samples = np.random.exponential(scale=params.get(\"scale\", 1), size=size)\n",
        "    else:\n",
        "        raise ValueError(\"Unsupported distribution type!\")\n",
        "\n",
        "    mean_value = np.mean(samples)\n",
        "    variance_value = np.var(samples)\n",
        "\n",
        "    return samples, mean_value, variance_value\n",
        "\n",
        "\n",
        "samples, mean, variance = generate_samples(\"binomial\", size=1000, n=10, p=0.4)\n",
        "print(\"Binomial Distribution - Mean:\", mean, \"Variance:\", variance)\n",
        "\n",
        "samples, mean, variance = generate_samples(\"poisson\", size=1000, lam=4)\n",
        "print(\"Poisson Distribution - Mean:\", mean, \"Variance:\", variance)\n",
        "\n",
        "samples, mean, variance = generate_samples(\"normal\", size=1000, mean=10, std=2)\n",
        "print(\"Normal Distribution - Mean:\", mean, \"Variance:\", variance)\n"
      ],
      "metadata": {
        "colab": {
          "base_uri": "https://localhost:8080/"
        },
        "id": "ZIJDEbmsV44F",
        "outputId": "7dfb1aa0-aece-4421-b5d1-929fa4c28e95"
      },
      "execution_count": null,
      "outputs": [
        {
          "output_type": "stream",
          "name": "stdout",
          "text": [
            "Binomial Distribution - Mean: 4.028 Variance: 2.4412160000000003\n",
            "Poisson Distribution - Mean: 3.974 Variance: 3.637323999999999\n",
            "Normal Distribution - Mean: 10.000395523637437 Variance: 3.8523297086456556\n"
          ]
        }
      ]
    },
    {
      "cell_type": "code",
      "source": [
        "#6) Write a Python script to generate random numbers from a Gaussian (normal) distribution and compute the mean, variance, and standard deviation of the samples.\n",
        "import numpy as np\n",
        "mean_value = 50\n",
        "std_dev_value = 10\n",
        "sample_size = 1000\n",
        "\n",
        "samples = np.random.normal(loc=mean_value, scale=std_dev_value, size=sample_size)\n",
        "\n",
        "computed_mean = np.mean(samples)\n",
        "computed_variance = np.var(samples)\n",
        "computed_std_dev = np.std(samples)\n",
        "\n",
        "print(f\"Generated {sample_size} samples from a Gaussian distribution\")\n",
        "print(f\"Mean: {computed_mean:.2f}\")\n",
        "print(f\"Variance: {computed_variance:.2f}\")\n",
        "print(f\"Standard Deviation: {computed_std_dev:.2f}\")\n"
      ],
      "metadata": {
        "colab": {
          "base_uri": "https://localhost:8080/"
        },
        "id": "bDS-NylsWiaE",
        "outputId": "b19f6f4e-9e0a-49c2-c4a3-e858b37ec8a7"
      },
      "execution_count": null,
      "outputs": [
        {
          "output_type": "stream",
          "name": "stdout",
          "text": [
            "Generated 1000 samples from a Gaussian distribution\n",
            "Mean: 49.77\n",
            "Variance: 98.82\n",
            "Standard Deviation: 9.94\n"
          ]
        }
      ]
    },
    {
      "cell_type": "code",
      "source": [
        "#7) Use seaborn library to load tips dataset. Find the following from the dataset for the columns total_bill and tip`:\n",
        "#(i) Write a Python function that calculates their skewness.\n",
        "import seaborn as sns\n",
        "import pandas as pd\n",
        "from scipy.stats import skew\n",
        "tips = sns.load_dataset(\"tips\")\n",
        "\n",
        "print(tips.head())\n",
        "\n",
        "def calculate_skewness(column):\n",
        "    return skew(column, bias=False)\n",
        "\n",
        "total_bill_skew = calculate_skewness(tips[\"total_bill\"])\n",
        "tip_skew = calculate_skewness(tips[\"tip\"])\n",
        "\n",
        "print(\"Skewness of Total Bill:\", total_bill_skew)\n",
        "print(\"Skewness of Tip:\", tip_skew)\n"
      ],
      "metadata": {
        "id": "nsg7_P5-W34e",
        "colab": {
          "base_uri": "https://localhost:8080/"
        },
        "outputId": "c8eaaa01-d8d2-44dd-d871-5265e2bf9fd7"
      },
      "execution_count": 1,
      "outputs": [
        {
          "output_type": "stream",
          "name": "stdout",
          "text": [
            "   total_bill   tip     sex smoker  day    time  size\n",
            "0       16.99  1.01  Female     No  Sun  Dinner     2\n",
            "1       10.34  1.66    Male     No  Sun  Dinner     3\n",
            "2       21.01  3.50    Male     No  Sun  Dinner     3\n",
            "3       23.68  3.31    Male     No  Sun  Dinner     2\n",
            "4       24.59  3.61  Female     No  Sun  Dinner     4\n",
            "Skewness of Total Bill: 1.1332130376158205\n",
            "Skewness of Tip: 1.46545103709794\n"
          ]
        }
      ]
    },
    {
      "cell_type": "code",
      "source": [
        "#(ii) Create a program that determines whether the columns exhibit positive skewness, negative skewness, or is approximately symmetric.\n",
        "def skewness_type(column_name, skew_value):\n",
        "    if skew_value > 0:\n",
        "        return f\"{column_name} is Positively Skewed (Right-skewed).\"\n",
        "    elif skew_value < 0:\n",
        "        return f\"{column_name} is Negatively Skewed (Left-skewed).\"\n",
        "    else:\n",
        "        return f\"{column_name} is Approximately Symmetric.\"\n",
        "\n",
        "print(skewness_type(\"Total Bill\", total_bill_skew))\n",
        "print(skewness_type(\"Tip\", tip_skew))\n"
      ],
      "metadata": {
        "colab": {
          "base_uri": "https://localhost:8080/"
        },
        "id": "ReeUE3hSWJoc",
        "outputId": "fe2dd4f4-804f-48d5-f6dd-a22409b4f207"
      },
      "execution_count": 2,
      "outputs": [
        {
          "output_type": "stream",
          "name": "stdout",
          "text": [
            "Total Bill is Positively Skewed (Right-skewed).\n",
            "Tip is Positively Skewed (Right-skewed).\n"
          ]
        }
      ]
    },
    {
      "cell_type": "code",
      "source": [
        "#(iii) Write a function that calculates the covariance between two columns.\n",
        "def calculate_covariance(df, col1, col2):\n",
        "    return df[[col1, col2]].cov().iloc[0, 1]\n",
        "\n",
        "covariance_value = calculate_covariance(tips, \"total_bill\", \"tip\")\n",
        "print(\"Covariance between Total Bill and Tip:\", covariance_value)\n"
      ],
      "metadata": {
        "colab": {
          "base_uri": "https://localhost:8080/"
        },
        "id": "_m9hxkThWMR-",
        "outputId": "512a6315-ff01-436f-ba89-78a745e15018"
      },
      "execution_count": 3,
      "outputs": [
        {
          "output_type": "stream",
          "name": "stdout",
          "text": [
            "Covariance between Total Bill and Tip: 8.323501629224854\n"
          ]
        }
      ]
    },
    {
      "cell_type": "code",
      "source": [
        "#(iv) Implement a Python program that calculates the Pearson correlation coefficient between two columns.\n",
        "def calculate_pearson_correlation(df, col1, col2):\n",
        "    return df[col1].corr(df[col2])\n",
        "\n",
        "pearson_corr = calculate_pearson_correlation(tips, \"total_bill\", \"tip\")\n",
        "print(\"Pearson Correlation Coefficient:\", pearson_corr)\n"
      ],
      "metadata": {
        "colab": {
          "base_uri": "https://localhost:8080/"
        },
        "id": "IV7GtrRDWYrg",
        "outputId": "8fa101d1-25f7-496f-a07c-1d7d9bbcfd63"
      },
      "execution_count": 4,
      "outputs": [
        {
          "output_type": "stream",
          "name": "stdout",
          "text": [
            "Pearson Correlation Coefficient: 0.6757341092113641\n"
          ]
        }
      ]
    },
    {
      "cell_type": "code",
      "source": [
        "#(v) Write a script to visualize the correlation between two specific columns in a Pandas DataFrame using scatter plots.\n",
        "import matplotlib.pyplot as plt\n",
        "\n",
        "def visualize_correlation(df, col1, col2):\n",
        "    plt.figure(figsize=(8, 5))\n",
        "    sns.scatterplot(data=df, x=col1, y=col2, color=\"blue\")\n",
        "    plt.title(f\"Scatter Plot of {col1} vs {col2}\")\n",
        "    plt.xlabel(col1)\n",
        "    plt.ylabel(col2)\n",
        "    plt.grid(True)\n",
        "    plt.show()\n",
        "\n",
        "visualize_correlation(tips, \"total_bill\", \"tip\")\n"
      ],
      "metadata": {
        "colab": {
          "base_uri": "https://localhost:8080/",
          "height": 487
        },
        "id": "Rk-XSKtvWZE_",
        "outputId": "215a349f-0474-469f-8098-12c1e3a139b9"
      },
      "execution_count": 5,
      "outputs": [
        {
          "output_type": "display_data",
          "data": {
            "text/plain": [
              "<Figure size 800x500 with 1 Axes>"
            ],
            "image/png": "[encoded data removed]"
          },
          "metadata": {}
        }
      ]
    },
    {
      "cell_type": "code",
      "source": [
        "#8) Write a Python function to calculate the probability density function (PDF) of a continuous random variable for a given normal distribution.\n",
        "from scipy.stats import norm\n",
        "\n",
        "def normal_pdf(x, mean, std_dev):\n",
        "    return norm.pdf(x, loc=mean, scale=std_dev)\n",
        "\n",
        "x_value = 50\n",
        "mean_value = 50\n",
        "std_dev_value = 10\n",
        "\n",
        "pdf_value = normal_pdf(x_value, mean_value, std_dev_value)\n",
        "print(f\"PDF at x = {x_value}: {pdf_value:.5f}\")\n"
      ],
      "metadata": {
        "colab": {
          "base_uri": "https://localhost:8080/"
        },
        "id": "xxK73fC8Xcg5",
        "outputId": "194d64a6-222e-457f-b332-99e58b07be3f"
      },
      "execution_count": 8,
      "outputs": [
        {
          "output_type": "stream",
          "name": "stdout",
          "text": [
            "PDF at x = 50: 0.03989\n"
          ]
        }
      ]
    },
    {
      "cell_type": "code",
      "source": [
        "#9¸) Create a program to calculate the cumulative distribution function (CDF) of exponential distribution.\n",
        "from scipy.stats import expon\n",
        "\n",
        "def exponential_cdf(x, rate):\n",
        "    return expon.cdf(x, scale=1/rate)\n",
        "x_value = 2\n",
        "rate_value = 1.5\n",
        "\n",
        "cdf_value = exponential_cdf(x_value, rate_value)\n",
        "print(f\"CDF at x = {x_value}: {cdf_value:.5f}\")\n"
      ],
      "metadata": {
        "colab": {
          "base_uri": "https://localhost:8080/"
        },
        "id": "j0ftfb-sX0u4",
        "outputId": "c7f412b5-5703-41c0-f677-8083a214426d"
      },
      "execution_count": 9,
      "outputs": [
        {
          "output_type": "stream",
          "name": "stdout",
          "text": [
            "CDF at x = 2: 0.95021\n"
          ]
        }
      ]
    },
    {
      "cell_type": "code",
      "source": [
        "#10) Write a Python function to calculate the probability mass function (PMF) of Poisson distribution.\n",
        "from scipy.stats import poisson\n",
        "\n",
        "def poisson_pmf(k, lam):\n",
        "    return poisson.pmf(k, mu=lam)\n",
        "k_value = 3\n",
        "lambda_value = 4\n",
        "\n",
        "pmf_value = poisson_pmf(k_value, lambda_value)\n",
        "print(f\"PMF at k = {k_value}: {pmf_value:.5f}\")\n"
      ],
      "metadata": {
        "colab": {
          "base_uri": "https://localhost:8080/"
        },
        "id": "svkxgDR6X3au",
        "outputId": "aead9b7b-8b5f-44cf-eec6-5d68387d159a"
      },
      "execution_count": 10,
      "outputs": [
        {
          "output_type": "stream",
          "name": "stdout",
          "text": [
            "PMF at k = 3: 0.19537\n"
          ]
        }
      ]
    },
    {
      "cell_type": "code",
      "source": [
        "#11) A company wants to test if a new website layout leads to a higher conversion rate (percentage of visitors who make a purchase). They collect data from the old and new layouts to compare.\n",
        "#To generate the data use the following command:\n",
        "#```python\n",
        "\n",
        "#import numpy as np\n",
        "\n",
        "# 50 purchases out of 1000 visitors\n",
        "\n",
        "#old_layout = np.array([1] * 50 + [0] * 950)\n",
        "\n",
        "# 70 purchases out of 1000 visitors\n",
        "\n",
        "#new_layout = np.array([1] * 70 + [0] * 930)\n",
        "\n",
        " # ```\n",
        "\n",
        "#Apply z-test to find which layout is successful.\n",
        "import numpy as np\n",
        "from statsmodels.stats.proportion import proportions_ztest\n",
        "\n",
        "old_layout = np.array([1] * 50 + [0] * 950)\n",
        "new_layout = np.array([1] * 70 + [0] * 930)\n",
        "\n",
        "successes = np.array([old_layout.sum(), new_layout.sum()])\n",
        "trials = np.array([len(old_layout), len(new_layout)])\n",
        "\n",
        "z_stat, p_value = proportions_ztest(successes, trials)\n",
        "\n",
        "print(f\"Z-Statistic: {z_stat:.4f}\")\n",
        "print(f\"P-Value: {p_value:.4f}\")\n",
        "alpha = 0.05\n",
        "if p_value < alpha:\n",
        "    print(\"The new layout has a significantly higher conversion rate!\")\n",
        "else:\n",
        "    print(\"No significant difference in conversion rates.\")\n"
      ],
      "metadata": {
        "colab": {
          "base_uri": "https://localhost:8080/"
        },
        "id": "AmEFFpnHYVGS",
        "outputId": "aedb4125-9107-40d1-bd04-49b7b8e897d9"
      },
      "execution_count": 12,
      "outputs": [
        {
          "output_type": "stream",
          "name": "stdout",
          "text": [
            "Z-Statistic: -1.8831\n",
            "P-Value: 0.0597\n",
            "No significant difference in conversion rates.\n"
          ]
        }
      ]
    },
    {
      "cell_type": "code",
      "source": [
        "#12) A tutoring service claims that its program improves students' exam scores. A sample of students who participated in the program was taken, and their scores before and after the program were recorded.\n",
        "#Use the below code to generate samples of respective arrays of marks:\n",
        "#```python\n",
        "#before_program = np.array([75, 80, 85, 70, 90, 78, 92, 88, 82, 87])\n",
        "#after_program = np.array([80, 85, 90, 80, 92, 80, 95, 90, 85, 88])\n",
        "#```\n",
        "#Use z-test to find if the claims made by tutor are true or false.\n",
        "from statsmodels.stats.weightstats import ztest\n",
        "\n",
        "before_program = np.array([75, 80, 85, 70, 90, 78, 92, 88, 82, 87])\n",
        "after_program = np.array([80, 85, 90, 80, 92, 80, 95, 90, 85, 88])\n",
        "score_differences = after_program - before_program\n",
        "\n",
        "z_stat, p_value = ztest(score_differences, value=0)\n",
        "\n",
        "print(f\"Z-Statistic: {z_stat:.4f}\")\n",
        "print(f\"P-Value: {p_value:.4f}\")\n",
        "\n",
        "alpha = 0.05\n",
        "if p_value < alpha:\n",
        "    print(\"The tutoring program significantly improves students' scores!\")\n",
        "else:\n",
        "    print(\"No significant improvement in students' scores.\")"
      ],
      "metadata": {
        "colab": {
          "base_uri": "https://localhost:8080/"
        },
        "id": "ndqRTN7FZ0Ql",
        "outputId": "52d54d27-edd9-4566-f7c3-9cdf4ccb635a"
      },
      "execution_count": 15,
      "outputs": [
        {
          "output_type": "stream",
          "name": "stdout",
          "text": [
            "Z-Statistic: 4.5932\n",
            "P-Value: 0.0000\n",
            "The tutoring program significantly improves students' scores!\n"
          ]
        }
      ]
    },
    {
      "cell_type": "code",
      "source": [
        "#13)A pharmaceutical company wants to determine if a new drug is effective in reducing blood pressure. Theyconduct a study and record blood pressure measurements before and after administering the drug.\n",
        "#Use the below code to generate samples of respective arrays of blood pressure:\n",
        "#```python\n",
        "#before_drug = np.array([145, 150, 140, 135, 155, 160, 152, 148, 130, 138])\n",
        "#after_drug = np.array([130, 140, 132, 128, 145, 148, 138, 136, 125, 130])\n",
        "#```\n",
        "#Implement z-test to find if the drug really works or not.\n",
        "from statsmodels.stats.weightstats import ztest\n",
        "\n",
        "before_drug = np.array([145, 150, 140, 135, 155, 160, 152, 148, 130, 138])\n",
        "after_drug = np.array([130, 140, 132, 128, 145, 148, 138, 136, 125, 130])\n",
        "bp_differences = after_drug - before_drug\n",
        "\n",
        "z_stat, p_value = ztest(bp_differences, value=0)\n",
        "\n",
        "print(f\"Z-Statistic: {z_stat:.4f}\")\n",
        "print(f\"P-Value: {p_value:.4f}\")\n",
        "\n",
        "alpha = 0.05\n",
        "if p_value < alpha:\n",
        "    print(\"The drug significantly reduces blood pressure! \")\n",
        "else:\n",
        "    print(\"No significant effect of the drug on blood pressure. \")\n"
      ],
      "metadata": {
        "colab": {
          "base_uri": "https://localhost:8080/"
        },
        "id": "ObLqBw_EaYEM",
        "outputId": "391dad33-a88c-4b66-f890-eca05d77da3a"
      },
      "execution_count": 18,
      "outputs": [
        {
          "output_type": "stream",
          "name": "stdout",
          "text": [
            "Z-Statistic: -10.0499\n",
            "P-Value: 0.0000\n",
            "The drug significantly reduces blood pressure! \n"
          ]
        }
      ]
    },
    {
      "cell_type": "code",
      "source": [
        "#14) A customer service department claims that their average response time is less than 5 minutes. A sample of recent customer interactions was taken, and the response times were recorded.\n",
        "#Implement the below code to generate the array of response time:\n",
        "#```python\n",
        "#response_times = np.array([4.3, 3.8, 5.1, 4.9, 4.7, 4.2, 5.2, 4.5, 4.6, 4.4])\n",
        "#```\n",
        "#Implement z-test to find the claims made by customer service department are tru or false.\n",
        "from statsmodels.stats.weightstats import ztest\n",
        "response_times = np.array([4.3, 3.8, 5.1, 4.9, 4.7, 4.2, 5.2, 4.5, 4.6, 4.4])\n",
        "claimed_mean = 5\n",
        "\n",
        "z_stat, p_value = ztest(response_times, value=claimed_mean, alternative='smaller')\n",
        "\n",
        "print(f\"Z-Statistic: {z_stat:.4f}\")\n",
        "print(f\"P-Value: {p_value:.4f}\")\n",
        "\n",
        "alpha = 0.05\n",
        "if p_value < alpha:\n",
        "    print(\"The claim that response time is less than 5 minutes is TRUE! \")\n",
        "else:\n",
        "    print(\"The claim is FALSE. Response time is NOT significantly less than 5 minutes.\")\n"
      ],
      "metadata": {
        "colab": {
          "base_uri": "https://localhost:8080/"
        },
        "id": "fTc2tmKNbEkf",
        "outputId": "8123c1af-5e7f-4d13-9043-bf7e5b0a93b3"
      },
      "execution_count": 21,
      "outputs": [
        {
          "output_type": "stream",
          "name": "stdout",
          "text": [
            "Z-Statistic: -3.1845\n",
            "P-Value: 0.0007\n",
            "The claim that response time is less than 5 minutes is TRUE! \n"
          ]
        }
      ]
    },
    {
      "cell_type": "code",
      "source": [
        "#15) A company is testing two different website layouts to see which one leads to higher click-through rates. Write a Python function to perform an A/B test analysis, including calculating the t-statistic, degrees of freedom, and p-value.\n",
        "#Use the following data:\n",
        "#```python\n",
        "#layout_a_clicks = [28, 32, 33, 29, 31, 34, 30, 35, 36, 37]\n",
        "#layout_b_clicks = [40, 41, 38, 42, 39, 44, 43, 41, 45, 47]\n",
        "from scipy.stats import ttest_ind\n",
        "\n",
        "def ab_test_analysis(layout_a, layout_b):\n",
        "    t_stat, p_value = ttest_ind(layout_a, layout_b, equal_var=False)\n",
        "\n",
        "    n1, n2 = len(layout_a), len(layout_b)\n",
        "    var1, var2 = np.var(layout_a, ddof=1), np.var(layout_b, ddof=1)\n",
        "\n",
        "    df = ((var1/n1 + var2/n2) ** 2) / (((var1/n1) ** 2) / (n1 - 1) + ((var2/n2) ** 2) / (n2 - 1))\n",
        "    print(f\"T-Statistic: {t_stat:.4f}\")\n",
        "    print(f\"Degrees of Freedom: {df:.4f}\")\n",
        "    print(f\"P-Value: {p_value:.4f}\")\n",
        "\n",
        "    alpha = 0.05\n",
        "    if p_value < alpha:\n",
        "        print(\"There is a significant difference in click-through rates! \")\n",
        "    else:\n",
        "        print(\"No significant difference in click-through rates. \")\n",
        "\n",
        "layout_a_clicks = [28, 32, 33, 29, 31, 34, 30, 35, 36, 37]\n",
        "layout_b_clicks = [40, 41, 38, 42, 39, 44, 43, 41, 45, 47]\n",
        "\n",
        "ab_test_analysis(layout_a_clicks, layout_b_clicks)\n",
        "\n"
      ],
      "metadata": {
        "colab": {
          "base_uri": "https://localhost:8080/"
        },
        "id": "6uUSgyscbxnR",
        "outputId": "dcb5df3e-149a-4e71-95be-9c87dbe0c369"
      },
      "execution_count": 24,
      "outputs": [
        {
          "output_type": "stream",
          "name": "stdout",
          "text": [
            "T-Statistic: -7.2981\n",
            "Degrees of Freedom: 17.8799\n",
            "P-Value: 0.0000\n",
            "There is a significant difference in click-through rates! \n"
          ]
        }
      ]
    },
    {
      "cell_type": "code",
      "source": [
        "#16) A pharmaceutical company wants to determine if a new drug is more effective than an existing drug inreducing cholesterol levels. Create a program to analyze the clinical trial data and calculate the tstatistic and p-value for the treatment effect.\n",
        "#Use the following data of cholestrol level:\n",
        "#```python\n",
        "#existing_drug_levels = [180, 182, 175, 185, 178, 176, 172, 184, 179, 183]\n",
        "#new_drug_levels = [170, 172, 165, 168, 175, 173, 170, 178, 172, 176]\n",
        "#```\n",
        "from scipy.stats import ttest_ind\n",
        "\n",
        "def drug_effectiveness_analysis(existing_drug, new_drug):\n",
        "    t_stat, p_value = ttest_ind(existing_drug, new_drug, equal_var=False)\n",
        "\n",
        "    print(f\"T-Statistic: {t_stat:.4f}\")\n",
        "    print(f\"P-Value: {p_value:.4f}\")\n",
        "\n",
        "    alpha = 0.05\n",
        "    if p_value < alpha:\n",
        "        print(\"The new drug significantly reduces cholesterol levels! \")\n",
        "    else:\n",
        "        print(\"No significant difference between the drugs. \")\n",
        "\n",
        "existing_drug_levels = [180, 182, 175, 185, 178, 176, 172, 184, 179, 183]\n",
        "new_drug_levels = [170, 172, 165, 168, 175, 173, 170, 178, 172, 176]\n",
        "\n",
        "drug_effectiveness_analysis(existing_drug_levels, new_drug_levels)\n"
      ],
      "metadata": {
        "colab": {
          "base_uri": "https://localhost:8080/"
        },
        "id": "_g9frJbtcASH",
        "outputId": "a270fe69-132e-4592-ec58-62b8d56e5cbc"
      },
      "execution_count": 27,
      "outputs": [
        {
          "output_type": "stream",
          "name": "stdout",
          "text": [
            "T-Statistic: 4.1405\n",
            "P-Value: 0.0006\n",
            "The new drug significantly reduces cholesterol levels! \n"
          ]
        }
      ]
    },
    {
      "cell_type": "code",
      "source": [
        "#17.) A school district introduces an educational intervention program to improve math scores. Write a Python function to analyze pre- and post-intervention test scores, calculating the t-statistic and p-value to determine if the intervention had a significant impact.\n",
        "#Use the following data of test score:\n",
        " # ```python\n",
        " # pre_intervention_scores = [80, 85, 90, 75, 88, 82, 92, 78, 85, 87]\n",
        " # post_intervention_scores = [90, 92, 88, 92, 95, 91, 96, 93, 89, 93]\n",
        "  #```\n",
        "from scipy.stats import ttest_rel\n",
        "\n",
        "def intervention_effect_analysis(pre_scores, post_scores):\n",
        "    t_stat, p_value = ttest_rel(pre_scores, post_scores)\n",
        "\n",
        "    print(f\"T-Statistic: {t_stat:.4f}\")\n",
        "    print(f\"P-Value: {p_value:.4f}\")\n",
        "\n",
        "    alpha = 0.05\n",
        "    if p_value < alpha:\n",
        "        print(\"The educational intervention significantly improved math scores! \")\n",
        "    else:\n",
        "        print(\"No significant improvement in math scores after intervention. \")\n",
        "\n",
        "pre_intervention_scores = [80, 85, 90, 75, 88, 82, 92, 78, 85, 87]\n",
        "post_intervention_scores = [90, 92, 88, 92, 95, 91, 96, 93, 89, 93]\n",
        "\n",
        "intervention_effect_analysis(pre_intervention_scores, post_intervention_scores)\n"
      ],
      "metadata": {
        "colab": {
          "base_uri": "https://localhost:8080/"
        },
        "id": "jrlMMY5Acrtu",
        "outputId": "c9eda4b6-34bc-416b-faeb-9c7b52847938"
      },
      "execution_count": 33,
      "outputs": [
        {
          "output_type": "stream",
          "name": "stdout",
          "text": [
            "T-Statistic: -4.4284\n",
            "P-Value: 0.0017\n",
            "The educational intervention significantly improved math scores! \n"
          ]
        }
      ]
    },
    {
      "cell_type": "code",
      "source": [
        "#18). An HR department wants to investigate if there's a gender-based salary gap within the company. Develop a program to analyze salary data, calculate the t-statistic, and determine if there's a statistically significant difference between the average salaries of male and female employees.\n",
        "#Use the below code to generate synthetic data:\n",
        "#```python\n",
        "#np.random.seed(0)\n",
        "#male_salaries = np.random.normal(loc=50000, scale=10000, size=20)\n",
        "#female_salaries = np.random.normal(loc=55000, scale=9000, size=20)\n",
        "#  ```\n",
        "from scipy.stats import ttest_ind\n",
        "\n",
        "def gender_salary_analysis(male_salaries, female_salaries):\n",
        "    t_stat, p_value = ttest_ind(male_salaries, female_salaries, equal_var=False)\n",
        "\n",
        "    print(f\"T-Statistic: {t_stat:.4f}\")\n",
        "    print(f\"P-Value: {p_value:.4f}\")\n",
        "\n",
        "    alpha = 0.05\n",
        "    if p_value < alpha:\n",
        "        print(\"There is a statistically significant gender-based salary gap! \")\n",
        "    else:\n",
        "        print(\"No statistically significant difference in salaries. \")\n",
        "np.random.seed(0)\n",
        "male_salaries = np.random.normal(loc=50000, scale=10000, size=20)\n",
        "female_salaries = np.random.normal(loc=55000, scale=9000, size=20)\n",
        "\n",
        "gender_salary_analysis(male_salaries, female_salaries)\n"
      ],
      "metadata": {
        "colab": {
          "base_uri": "https://localhost:8080/"
        },
        "id": "PwnDoHIqdUXl",
        "outputId": "22bec559-974f-4369-f6c9-56d67a11a5cd"
      },
      "execution_count": 35,
      "outputs": [
        {
          "output_type": "stream",
          "name": "stdout",
          "text": [
            "T-Statistic: 0.0611\n",
            "P-Value: 0.9516\n",
            "No statistically significant difference in salaries. \n"
          ]
        }
      ]
    },
    {
      "cell_type": "code",
      "source": [
        "#19) A manufacturer produces two different versions of a product and wants to compare their quality scores. Create a Python function to analyze quality assessment data, calculate the t-statistic, and decide whether there's a significant difference in quality between the two versions.\n",
        "#Use the following data:\n",
        "#```python\n",
        "#version1_scores = [85, 88, 82, 89, 87, 84, 90, 88, 85, 86, 91, 83, 87, 84, 89, 86, 84, 88, 85, 86, 89, 90, 87, 88, 85]\n",
        "#version2_scores = [80, 78, 83, 81, 79, 82, 76, 80, 78, 81, 77, 82, 80, 79, 82, 79, 80, 81, 79, 82, 79, 78, 80, 81, 82]\n",
        "#```\n",
        "from scipy.stats import ttest_ind\n",
        "\n",
        "def quality_comparison(version1, version2):\n",
        "    t_stat, p_value = ttest_ind(version1, version2, equal_var=False)\n",
        "\n",
        "    print(f\"T-Statistic: {t_stat:.4f}\")\n",
        "    print(f\"P-Value: {p_value:.4f}\")\n",
        "\n",
        "    alpha = 0.05\n",
        "    if p_value < alpha:\n",
        "        print(\"There is a significant difference in quality between the two product versions! \")\n",
        "    else:\n",
        "        print(\"No significant difference in quality between the two versions. \")\n",
        "\n",
        "version1_scores = [85, 88, 82, 89, 87, 84, 90, 88, 85, 86, 91, 83, 87, 84, 89, 86, 84, 88, 85, 86, 89, 90, 87, 88, 85]\n",
        "version2_scores = [80, 78, 83, 81, 79, 82, 76, 80, 78, 81, 77, 82, 80, 79, 82, 79, 80, 81, 79, 82, 79, 78, 80, 81, 82]\n",
        "\n",
        "quality_comparison(version1_scores, version2_scores)\n"
      ],
      "metadata": {
        "colab": {
          "base_uri": "https://localhost:8080/"
        },
        "id": "nN82AOZvd6DP",
        "outputId": "388c7efd-b5af-4501-b8d0-2bf55b09b6f3"
      },
      "execution_count": 38,
      "outputs": [
        {
          "output_type": "stream",
          "name": "stdout",
          "text": [
            "T-Statistic: 11.3258\n",
            "P-Value: 0.0000\n",
            "There is a significant difference in quality between the two product versions! \n"
          ]
        }
      ]
    },
    {
      "cell_type": "code",
      "source": [
        "#20. A restaurant chain collects customer satisfaction scores for two different branches. Write a program to analyze the scores, calculate the t-statistic, and determine if there's a statistically significant difference in customer satisfaction between the branches.\n",
        "#Use the below data of scores:\n",
        "#```python\n",
        "#branch_a_scores = [4, 5, 3, 4, 5, 4, 5, 3, 4, 4, 5, 4, 4, 3, 4, 5, 5, 4, 3, 4, 5, 4, 3, 5, 4, 4, 5, 3, 4, 5, 4]\n",
        "#branch_b_scores = [3, 4, 2, 3, 4, 3, 4, 2, 3, 3, 4, 3, 3, 2, 3, 4, 4, 3, 2, 3, 4, 3, 2, 4, 3, 3, 4, 2, 3, 4, 3]\n",
        "from scipy.stats import ttest_ind\n",
        "\n",
        "def satisfaction_comparison(branch_a, branch_b):\n",
        "    t_stat, p_value = ttest_ind(branch_a, branch_b, equal_var=False)\n",
        "\n",
        "    print(f\"T-Statistic: {t_stat:.4f}\")\n",
        "    print(f\"P-Value: {p_value:.4f}\")\n",
        "\n",
        "    alpha = 0.05\n",
        "    if p_value < alpha:\n",
        "        print(\"There is a significant difference in customer satisfaction between the two branches! \")\n",
        "    else:\n",
        "        print(\"No significant difference in customer satisfaction between the branches. \")\n",
        "\n",
        "branch_a_scores = [4, 5, 3, 4, 5, 4, 5, 3, 4, 4, 5, 4, 4, 3, 4, 5, 5, 4, 3, 4, 5, 4, 3, 5, 4, 4, 5, 3, 4, 5, 4]\n",
        "branch_b_scores = [3, 4, 2, 3, 4, 3, 4, 2, 3, 3, 4, 3, 3, 2, 3, 4, 4, 3, 2, 3, 4, 3, 2, 4, 3, 3, 4, 2, 3, 4, 3]\n",
        "\n",
        "satisfaction_comparison(branch_a_scores, branch_b_scores)\n"
      ],
      "metadata": {
        "colab": {
          "base_uri": "https://localhost:8080/"
        },
        "id": "mpYI7vwLeQ1z",
        "outputId": "254650a8-395c-4661-d6c2-0d4f157d44c1"
      },
      "execution_count": 42,
      "outputs": [
        {
          "output_type": "stream",
          "name": "stdout",
          "text": [
            "T-Statistic: 5.4801\n",
            "P-Value: 0.0000\n",
            "There is a significant difference in customer satisfaction between the two branches! \n"
          ]
        }
      ]
    },
    {
      "cell_type": "code",
      "source": [
        "#21) A political analyst wants to determine if there is a significant association between age groups and voterpreferences (Candidate A or Candidate B). They collect data from a sample of 500 voters and classifythem into different age groups and candidate preferences. Perform a Chi-Square test to determine if there is a significant association between age groups and voter preferences.\n",
        "#Use the below code to generate data:\n",
        "#```python\n",
        "#np.random.seed(0)\n",
        "#age_groups = np.random.choice([ 18 30 , 31 50 , 51+', 51+'], size=30)\n",
        "#voter_preferences = np.random.choice(['Candidate A', 'Candidate B'], size=30)\n",
        "import numpy as np\n",
        "import pandas as pd\n",
        "from scipy.stats import chi2_contingency\n",
        "np.random.seed(0)\n",
        "age_groups = np.random.choice(['18-30', '31-50', '51+'], size=30)\n",
        "voter_preferences = np.random.choice(['Candidate A', 'Candidate B'], size=30)\n",
        "data = pd.DataFrame({'Age Group': age_groups, 'Voter Preference': voter_preferences})\n",
        "\n",
        "contingency_table = pd.crosstab(data['Age Group'], data['Voter Preference'])\n",
        "\n",
        "chi2_stat, p_value, dof, expected = chi2_contingency(contingency_table)\n",
        "\n",
        "print(\"Chi-Square Statistic:\", chi2_stat)\n",
        "print(\"Degrees of Freedom:\", dof)\n",
        "print(\"P-Value:\", p_value)\n",
        "\n",
        "alpha = 0.05\n",
        "if p_value < alpha:\n",
        "    print(\"There is a significant association between age groups and voter preferences! \")\n",
        "else:\n",
        "    print(\"No significant association between age groups and voter preferences. \")\n"
      ],
      "metadata": {
        "colab": {
          "base_uri": "https://localhost:8080/"
        },
        "id": "zJMdFWUPet6v",
        "outputId": "0710b51f-8dd7-4083-b9cc-b3c01978b02d"
      },
      "execution_count": 44,
      "outputs": [
        {
          "output_type": "stream",
          "name": "stdout",
          "text": [
            "Chi-Square Statistic: 1.4401669758812612\n",
            "Degrees of Freedom: 2\n",
            "P-Value: 0.48671161971286614\n",
            "No significant association between age groups and voter preferences. \n"
          ]
        }
      ]
    },
    {
      "cell_type": "code",
      "source": [
        "# 22. A company conducted a customer satisfaction survey to determine if there is a significant relationship between product satisfaction levels (Satisfied, Neutral, Dissatisfied) and the region where customers are located (East, West, North, South). The survey data is summarized in a contingency table. Conduct a ChiSquare test to determine if there is a significant relationship between product satisfaction levels and customer regions.\n",
        "#Sample data:\n",
        "#```python\n",
        "#Sample data: Product satisfaction levels (rows) vs. Customer regions (columns)\n",
        "#data = np.array([[50, 30, 40, 20], [30, 40, 30, 50], [20, 30, 40, 30]])\n",
        "#```\n",
        "import numpy as np\n",
        "from scipy.stats import chi2_contingency\n",
        "data = np.array([\n",
        "    [50, 30, 40, 20],\n",
        "    [30, 40, 30, 50],\n",
        "    [20, 30, 40, 30]\n",
        "])\n",
        "\n",
        "chi2_stat, p_value, dof, expected = chi2_contingency(data)\n",
        "\n",
        "print(\"Chi-Square Statistic:\", chi2_stat)\n",
        "print(\"Degrees of Freedom:\", dof)\n",
        "print(\"P-Value:\", p_value)\n",
        "\n",
        "alpha = 0.05\n",
        "if p_value < alpha:\n",
        "    print(\"There is a significant relationship between product satisfaction levels and customer regions! \")\n",
        "else:\n",
        "    print(\"No significant relationship between product satisfaction levels and customer regions. \")\n"
      ],
      "metadata": {
        "colab": {
          "base_uri": "https://localhost:8080/"
        },
        "id": "ih4Wqk0hfaO_",
        "outputId": "d017db23-1617-41bc-89ca-820504a88da4"
      },
      "execution_count": 46,
      "outputs": [
        {
          "output_type": "stream",
          "name": "stdout",
          "text": [
            "Chi-Square Statistic: 27.777056277056275\n",
            "Degrees of Freedom: 6\n",
            "P-Value: 0.00010349448486004387\n",
            "There is a significant relationship between product satisfaction levels and customer regions! \n"
          ]
        }
      ]
    },
    {
      "cell_type": "code",
      "source": [
        "# 23. A company implemented an employee training program to improve job performance (Effective, Neutral, Ineffective). After the training, they collected data from a sample of employees and classified them based on their job performance before and after the training. Perform a Chi-Square test to determine if there is asignificant difference between job performance levels before and after the training.\n",
        "#Sample data:\n",
        "#```python\n",
        "# Sample data: Job performance levels before (rows) and after (columns) training\n",
        "data = np.array([[50, 30, 20], [30, 40, 30], [20, 30, 40]])\n",
        "#```\n",
        "import numpy as np\n",
        "from scipy.stats import chi2_contingency\n",
        "\n",
        "data = np.array([\n",
        "    [50, 30, 20],\n",
        "    [30, 40, 30],\n",
        "    [20, 30, 40]\n",
        "])\n",
        "\n",
        "chi2_stat, p_value, dof, expected = chi2_contingency(data)\n",
        "\n",
        "print(\"Chi-Square Statistic:\", chi2_stat)\n",
        "print(\"Degrees of Freedom:\", dof)\n",
        "print(\"P-Value:\", p_value)\n",
        "\n",
        "alpha = 0.05\n",
        "if p_value < alpha:\n",
        "    print(\"There is a significant difference in job performance levels before and after training! \")\n",
        "else:\n",
        "    print(\"No significant difference in job performance levels before and after training. \")\n"
      ],
      "metadata": {
        "colab": {
          "base_uri": "https://localhost:8080/"
        },
        "id": "Yzfq1zzYgIG9",
        "outputId": "70d77b41-317a-4c20-a9c6-635f8950ca2a"
      },
      "execution_count": 48,
      "outputs": [
        {
          "output_type": "stream",
          "name": "stdout",
          "text": [
            "Chi-Square Statistic: 22.161728395061726\n",
            "Degrees of Freedom: 4\n",
            "P-Value: 0.00018609719479882557\n",
            "There is a significant difference in job performance levels before and after training! \n"
          ]
        }
      ]
    },
    {
      "cell_type": "code",
      "source": [
        "# 24. A company produces three different versions of a product: Standard, Premium, and Deluxe. The company wants to determine if there is a significant difference in customer satisfaction scores among the three product versions. They conducted a survey and collected customer satisfaction scores for eachversion from a random sample of customers. Perform an ANOVA test to determine if there is a significant difference in customer satisfaction scores.\n",
        "#Use the following data:\n",
        " # ```python\n",
        "  # Sample data: Customer satisfaction scores for each product version\n",
        "#  standard_scores = [80, 85, 90, 78, 88, 82, 92, 78, 85, 87]\n",
        "#  premium_scores = [90, 92, 88, 92, 95, 91, 96, 93, 89, 93]\n",
        "#  deluxe_scores = [95, 98, 92, 97, 96, 94, 98, 97, 92, 99]\n",
        "import numpy as np\n",
        "from scipy.stats import f_oneway\n",
        "\n",
        "standard_scores = [80, 85, 90, 78, 88, 82, 92, 78, 85, 87]\n",
        "premium_scores = [90, 92, 88, 92, 95, 91, 96, 93, 89, 93]\n",
        "deluxe_scores = [95, 98, 92, 97, 96, 94, 98, 97, 92, 99]\n",
        "\n",
        "f_stat, p_value = f_oneway(standard_scores, premium_scores, deluxe_scores)\n",
        "\n",
        "print(\"F-Statistic:\", f_stat)\n",
        "print(\"P-Value:\", p_value)\n",
        "\n",
        "alpha = 0.05\n",
        "if p_value < alpha:\n",
        "    print(\"There is a significant difference in customer satisfaction among the product versions! \")\n",
        "else:\n",
        "    print(\"No significant difference in customer satisfaction among the product versions. \")\n"
      ],
      "metadata": {
        "colab": {
          "base_uri": "https://localhost:8080/"
        },
        "id": "Ad6gc6aNgWZu",
        "outputId": "c3fe92cb-a0df-4560-a43f-24915d453bee"
      },
      "execution_count": 50,
      "outputs": [
        {
          "output_type": "stream",
          "name": "stdout",
          "text": [
            "F-Statistic: 27.03556231003039\n",
            "P-Value: 3.5786328857349003e-07\n",
            "There is a significant difference in customer satisfaction among the product versions! \n"
          ]
        }
      ]
    },
    {
      "cell_type": "code",
      "source": [],
      "metadata": {
        "id": "dpUCNJdzh2FW"
      },
      "execution_count": null,
      "outputs": []
    }
  ]
}